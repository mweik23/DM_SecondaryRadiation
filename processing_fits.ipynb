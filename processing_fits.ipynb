{
 "cells": [
  {
   "cell_type": "code",
   "execution_count": 8,
   "metadata": {},
   "outputs": [],
   "source": [
    "import numpy as np\n",
    "from astropy.io import fits\n",
    "import os"
   ]
  },
  {
   "cell_type": "code",
   "execution_count": 11,
   "metadata": {},
   "outputs": [
    {
     "name": "stdout",
     "output_type": "stream",
     "text": [
      "/het/p4/mjw283/eventgen_wd\n"
     ]
    }
   ],
   "source": [
    "file_name = '/m31cm3nthnew.ss.90sec.fits'\n",
    "path_name = os.getcwd()\n",
    "print(path_name)"
   ]
  },
  {
   "cell_type": "code",
   "execution_count": 16,
   "metadata": {},
   "outputs": [
    {
     "name": "stdout",
     "output_type": "stream",
     "text": [
      "Filename: /het/p4/mjw283/eventgen_wd/m31cm3nthnew.ss.90sec.fits\n",
      "No.    Name      Ver    Type      Cards   Dimensions   Format\n",
      "  0  PRIMARY       1 PrimaryHDU      66   (441, 155, 1)   int32 (rescales to float64)   \n"
     ]
    }
   ],
   "source": [
    "hdul = fits.open(path_name + file_name)\n",
    "hdul.info()"
   ]
  },
  {
   "cell_type": "code",
   "execution_count": 21,
   "metadata": {},
   "outputs": [
    {
     "name": "stdout",
     "output_type": "stream",
     "text": [
      "[[[-468.88399705 -517.1352926  -511.37455863 ...  -99.69024484\n",
      "    186.83460927  535.90336257]\n",
      "  [-552.37150381 -641.97373747 -662.30885011 ...  -80.23677496\n",
      "    142.11670305  424.01321094]\n",
      "  [-215.18934325 -320.44268407 -394.90921537 ...   91.33722451\n",
      "    235.678676    410.96166977]\n",
      "  ...\n",
      "  [ 456.14085216  345.60169005  190.10125157 ...  556.63657812\n",
      "    562.0179942   609.35494717]\n",
      "  [ -15.06701077   -7.30922235  -22.67758044 ...  658.08630388\n",
      "    719.86196605  780.27453282]\n",
      "  [-257.2190461  -209.22851421 -172.26018666 ...  709.55456583\n",
      "    787.57855908  842.92641098]]]\n"
     ]
    }
   ],
   "source": [
    "data = hdul[0].data\n",
    "\n"
   ]
  },
  {
   "cell_type": "code",
   "execution_count": 24,
   "metadata": {},
   "outputs": [
    {
     "name": "stdout",
     "output_type": "stream",
     "text": [
      "(1, 155, 441)\n"
     ]
    }
   ],
   "source": [
    "print(data.shape)"
   ]
  },
  {
   "cell_type": "code",
   "execution_count": 26,
   "metadata": {},
   "outputs": [
    {
     "name": "stderr",
     "output_type": "stream",
     "text": [
      "WARNING: VerifyWarning: Verification reported errors: [astropy.io.fits.verify]\n",
      "WARNING: VerifyWarning: Unfixable error: Illegal keyword name 'OBS LAT' [astropy.io.fits.verify]\n",
      "WARNING: VerifyWarning: Note: astropy.io.fits uses zero-based indexing.\n",
      " [astropy.io.fits.verify]\n",
      "WARNING: VerifyWarning: Card 'IDENT1' is not FITS standard (invalid value string: 'microJy/beam         / title of map').  Fixed 'IDENT1' card to meet the FITS standard. [astropy.io.fits.verify]\n"
     ]
    },
    {
     "data": {
      "text/plain": [
       "SIMPLE  =                    T / file conforms to standard FITS format          \n",
       "BITPIX  =                  -64 / 4 byte signed INTEGER numbers                  \n",
       "NAXIS   =                    3 / number of array dimensions                     \n",
       "NAXIS1  =                  441 / pixel number for image dimension 1             \n",
       "NAXIS2  =                  155 / pixel number for image dimension 2             \n",
       "NAXIS3  =                    1 / pixel number for image dimension 3             \n",
       "EXTEND  =                    T / file conforms to FITS standard extension format\n",
       "BLOCKED =                    T / up to 10 FITS records may be blocked on tape   \n",
       "OBJECT  = 'M31               ' /  source name                                   \n",
       "TELESCOP= 'EFF               ' /                                                \n",
       "DATE-OBS=          2000.000000 / Observation date in decimal years              \n",
       "BUNIT   = 'MYJY/BEAM'          /                                                \n",
       "OBSRA   =          10.69186875 / Center of the map                              \n",
       "OBSDEC  =          41.26989528 / Center of the map                              \n",
       "DATAMIN =         -2241.737549 / minimum pixel value of image set               \n",
       "DATAMAX =          7086.989746 / maximum pixel value of image set               \n",
       "CTYPE1  = 'RA---ARC'           / ARC : angular distance preserved in projection \n",
       "CRVAL1  =          10.69186878 /  longitude of referenz pixel                   \n",
       "CDELT1  =    -4.1666668840E-03 / increment abszissa (degree)                    \n",
       "CRPIX1  =          221.0000000 / x-value of referenz-pixel                      \n",
       "CROTA1  =     0.9261835217     / rotation of coordinates rel. to RA, DEC (-K0)  \n",
       "CTYPE2  = 'DEC--ARC'           / ARC : angular distance preserved in projection \n",
       "CRVAL2  =          41.26989365 / latitude of referenz-pixel (degree)            \n",
       "CDELT2  =     4.1666668840E-03 / increment ordinate (degree)                    \n",
       "CRPIX2  =          78.00000000 / y-value of  referez-pixel                      \n",
       "CROTA2  =      0.000000000     / rotation of coordinates                        \n",
       "CTYPE3  = 'FREQ'               /                                                \n",
       "CRVAL3  =          8350000128. / frequency (Hz)                                 \n",
       "CDELT3  =          1100000000. / bandwidth of observation (Hz)                  \n",
       "CRPIX3  =          1.000000000 /                                                \n",
       "CROTA3  =      0.000000000     /                                                \n",
       "COORCODE=          23.00000000 / Coordinate code                                \n",
       "MATRIX1 =         0.7432712002 / 9 elements transformation matrix               \n",
       "MATRIX2 =        -0.6208112954 / 9 elements transformation matrix               \n",
       "MATRIX3 =        -0.2492814844 / 9 elements transformation matrix               \n",
       "MATRIX4 =         0.1311612543 / 9 elements transformation matrix               \n",
       "MATRIX5 =         0.5006216647 / 9 elements transformation matrix               \n",
       "MATRIX6 =        -0.8556720600 / 9 elements transformation matrix               \n",
       "MATRIX7 =         0.6560065917 / 9 elements transformation matrix               \n",
       "MATRIX8 =         0.6033003268 / 9 elements transformation matrix               \n",
       "MATRIX9 =         0.4535240538 / 9 elements transformation matrix               \n",
       "INHPLONG=     2.3216666654E-02 / initial half power long.beamwidth              \n",
       "INHPLAT =     2.3216666654E-02 / initial half power lat. beamwidth              \n",
       "CUHPLONG=     2.5000000000E-02 / current half power long.beamwidth              \n",
       "CUHPLAT =     2.5000000000E-02 / current half power lat. beamwidth              \n",
       "BMAJ    =     2.5000000000E-02 / major half power long.beamwidth                \n",
       "BMIN    =     2.5000000000E-02 / minor half power long.beamwidth                \n",
       "BPA     =          0.000000000 / beam position angle, 0 or 90 for NOD2 data     \n",
       "EPOCH   =          2000.000000 / epoch of coordinate system                     \n",
       "INSCALEF=          1.000000000 / initial temperature scale factor               \n",
       "INSCALEZ=          0.000000000 / initial temperature scale zero                 \n",
       "CUSCALEF=         0.5000000000 / current temperature scale factor               \n",
       "CUSCALZ =          0.000000000 / current temperature scale zero                 \n",
       "CODE    =          0.000000000 / progress code word                             \n",
       "TYPE    =          1.000000000 / type number of data                            \n",
       "OBS LAT =          50.52500153 / latitude of observatory                        \n",
       "IDENT1  = 'microJy '           / beam         / title of map                    \n",
       "IDENT2  =                      / title of map                                   \n",
       "IDENT3  =                      / title of map                                   \n",
       "IDENT4  =                      / title of map                                   \n",
       "NITER   =                    1 / number of iterations, whatever it may be       \n",
       "                                                                                \n",
       "                                                                                \n",
       "                                                                                \n",
       "                                                                                "
      ]
     },
     "execution_count": 26,
     "metadata": {},
     "output_type": "execute_result"
    }
   ],
   "source": [
    "hdr = hdul[0].header\n",
    "hdr"
   ]
  },
  {
   "cell_type": "code",
   "execution_count": null,
   "metadata": {},
   "outputs": [],
   "source": []
  }
 ],
 "metadata": {
  "kernelspec": {
   "display_name": "Python 3",
   "language": "python",
   "name": "python3"
  },
  "language_info": {
   "codemirror_mode": {
    "name": "ipython",
    "version": 3
   },
   "file_extension": ".py",
   "mimetype": "text/x-python",
   "name": "python",
   "nbconvert_exporter": "python",
   "pygments_lexer": "ipython3",
   "version": "3.7.10"
  }
 },
 "nbformat": 4,
 "nbformat_minor": 4
}
