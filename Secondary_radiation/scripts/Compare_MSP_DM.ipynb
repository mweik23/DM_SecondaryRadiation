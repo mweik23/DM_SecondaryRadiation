{
 "cells": [
  {
   "cell_type": "code",
   "execution_count": 9,
   "id": "d9078e1e",
   "metadata": {},
   "outputs": [],
   "source": [
    "import numpy as np\n",
    "import manipulate_text as mt\n",
    "import os\n",
    "import matplotlib.pyplot as plt"
   ]
  },
  {
   "cell_type": "code",
   "execution_count": 4,
   "id": "f763ba04",
   "metadata": {},
   "outputs": [],
   "source": [
    "#relevant paths\n",
    "base_path = os.getcwd().split('scripts')[0]"
   ]
  },
  {
   "cell_type": "code",
   "execution_count": 6,
   "id": "6c266171",
   "metadata": {},
   "outputs": [
    {
     "name": "stdout",
     "output_type": "stream",
     "text": [
      "[{'file_name': '0009_electron_spectrum_info.txt', 'mx': 38.6, 'channel': 'bb_bar'}]\n"
     ]
    }
   ],
   "source": [
    "search =True\n",
    "mx_set = np.round(np.logspace(np.log10(6), np.log10(500), 20), 1)\n",
    "inds = np.array([8])\n",
    "mx = mx_set[inds]\n",
    "if search:\n",
    "    run_list = mt.find_results(0,  mx=mx_set[inds])\n",
    "    print(run_list)\n",
    "    espec_names = [run['file_name'].split('_info')[0]+'.npy' for run in run_list]\n",
    "    bin_names = [run['file_name'].split('_info')[0]+'_bins.npy' for run in run_list]\n",
    "    output_type = 'electron_spectrum/'\n",
    "    bins_list = [np.load(base_path + output_type + bin_name) for bin_name in bin_names]\n",
    "    espec_list = [np.load(base_path + output_type + espec_name) for espec_name in espec_names]"
   ]
  },
  {
   "cell_type": "code",
   "execution_count": 15,
   "id": "b773652e",
   "metadata": {},
   "outputs": [],
   "source": [
    "# DM params\n",
    "norm_DM = 1.1e37 #kpc^-3 s^-1\n",
    "#MSP params\n",
    "E_cut = 5e4 #GeV\n",
    "alpha = 1.7\n",
    "egamma_rat = 1\n",
    "norm_MSP = 9.5e27 #kpc^-3 GeV^-1 s^-1\n",
    "def Qe_MSP(E): \n",
    "    return (alpha+2)*norm_MSP*egamma_rat*((E/E_cut)**alpha)*np.exp(-E/E_cut)"
   ]
  },
  {
   "cell_type": "code",
   "execution_count": null,
   "id": "4980e268",
   "metadata": {},
   "outputs": [],
   "source": [
    "np.save(espec_list*norm_DM)"
   ]
  },
  {
   "cell_type": "code",
   "execution_count": 20,
   "id": "6c25f784",
   "metadata": {},
   "outputs": [
    {
     "data": {
      "text/plain": [
       "<matplotlib.legend.Legend at 0x7f4c05ebd150>"
      ]
     },
     "execution_count": 20,
     "metadata": {},
     "output_type": "execute_result"
    },
    {
     "data": {
      "image/png": "[encoded data removed]",
      "text/plain": [
       "<Figure size 432x288 with 1 Axes>"
      ]
     },
     "metadata": {
      "needs_background": "light"
     },
     "output_type": "display_data"
    }
   ],
   "source": [
    "E = np.logspace(-1, 6, 1000)\n",
    "fig = plt.figure()\n",
    "ax = fig.add_subplot()\n",
    "ax.plot(bins_list[0][1:], norm_DM*bins_list[0][1:]*espec_list[0], label='DM')\n",
    "ax.plot(E, E*Qe_MSP(E), label='MSP')\n",
    "ax.set_yscale('log')\n",
    "ax.set_xscale('log')\n",
    "ax.set_ylim([1e27, 1e38])\n",
    "ax.legend()"
   ]
  },
  {
   "cell_type": "code",
   "execution_count": 23,
   "id": "0a59b7e5",
   "metadata": {},
   "outputs": [
    {
     "name": "stdout",
     "output_type": "stream",
     "text": [
      "DM:  1.5005837373842614e+38\n",
      "MSP:  3.694677739070686e+38\n"
     ]
    }
   ],
   "source": [
    "#integrate DM result\n",
    "bins=bins_list[0]\n",
    "espec = espec_list[0]\n",
    "ind = np.argmin(np.abs(bins-.1))\n",
    "reimann_DM = norm_DM*np.array([(bins[i+1]-bins[i])*bins[i]*espec[i] for i in range(ind, len(espec))])\n",
    "result_DM = np.sum(reimann_DM)\n",
    "#integrate MSP\n",
    "reimann_MSP = np.array([(E[i+1]-E[i])*E[i]*Qe_MSP(E[i]) for i in range(1000-1)])\n",
    "result_MSP = np.sum(reimann_MSP)\n",
    "\n",
    "print('DM: ', result_DM)\n",
    "print('MSP: ', result_MSP)"
   ]
  },
  {
   "cell_type": "code",
   "execution_count": null,
   "id": "139ce90c",
   "metadata": {},
   "outputs": [],
   "source": []
  }
 ],
 "metadata": {
  "kernelspec": {
   "display_name": "Python 3",
   "language": "python",
   "name": "python3"
  },
  "language_info": {
   "codemirror_mode": {
    "name": "ipython",
    "version": 3
   },
   "file_extension": ".py",
   "mimetype": "text/x-python",
   "name": "python",
   "nbconvert_exporter": "python",
   "pygments_lexer": "ipython3",
   "version": "3.7.10"
  }
 },
 "nbformat": 4,
 "nbformat_minor": 5
}
