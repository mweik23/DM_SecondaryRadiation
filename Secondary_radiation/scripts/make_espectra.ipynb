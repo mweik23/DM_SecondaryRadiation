{
 "cells": [
  {
   "cell_type": "code",
   "execution_count": 2,
   "id": "b831c325",
   "metadata": {},
   "outputs": [],
   "source": [
    "import matplotlib.pyplot as plt\n",
    "import os\n",
    "import numpy as np"
   ]
  },
  {
   "cell_type": "code",
   "execution_count": 3,
   "id": "1f9eb836",
   "metadata": {},
   "outputs": [],
   "source": [
    "this_path = os.getcwd()\n",
    "base_path = this_path.split('scripts')[0]\n",
    "espec_path = base_path + 'electron_spectrum/'"
   ]
  },
  {
   "cell_type": "code",
   "execution_count": 4,
   "id": "07b39a26",
   "metadata": {},
   "outputs": [],
   "source": [
    "espec_names = os.listdir(espec_path)\n",
    "nums = []\n",
    "espec_names_sort = []\n",
    "for name in espec_names:\n",
    "    num = name.split('_')[0]\n",
    "    if num not in nums:\n",
    "        nums.append(num)\n",
    "        espec_names_sort.append([])\n",
    "    ind = nums.index(num)\n",
    "    espec_names_sort[ind].append(name)\n"
   ]
  },
  {
   "cell_type": "code",
   "execution_count": 5,
   "id": "d83c22c1",
   "metadata": {},
   "outputs": [
    {
     "name": "stdout",
     "output_type": "stream",
     "text": [
      "[['0001_electron_spectrum_info.txt', '0001_electron_spectrum.npy', '0001_electron_spectrum_bins.npy', '0001_electron_spectrum.pdf'], ['0002_electron_spectrum_info.txt', '0002_electron_spectrum.npy', '0002_electron_spectrum_bins.npy', '0002_electron_spectrum.pdf'], ['0003_electron_spectrum_info.txt', '0003_electron_spectrum.npy', '0003_electron_spectrum_bins.npy', '0003_electron_spectrum.pdf'], ['0004_electron_spectrum_info.txt', '0004_electron_spectrum.npy', '0004_electron_spectrum_bins.npy', '0004_electron_spectrum.pdf'], ['0005_electron_spectrum_info.txt', '0005_electron_spectrum.npy', '0005_electron_spectrum_bins.npy', '0005_electron_spectrum.pdf'], ['0006_electron_spectrum_info.txt', '0006_electron_spectrum.npy', '0006_electron_spectrum_bins.npy', '0006_electron_spectrum.pdf'], ['0007_electron_spectrum_info.txt', '0007_electron_spectrum.npy', '0007_electron_spectrum_bins.npy', '0007_electron_spectrum.pdf'], ['0008_electron_spectrum_info.txt', '0008_electron_spectrum.npy', '0008_electron_spectrum_bins.npy', '0008_electron_spectrum.pdf'], ['0009_electron_spectrum_info.txt', '0009_electron_spectrum.npy', '0009_electron_spectrum_bins.npy', '0009_electron_spectrum.pdf'], ['0010_electron_spectrum_info.txt', '0010_electron_spectrum.npy', '0010_electron_spectrum_bins.npy', '0010_electron_spectrum.pdf'], ['0011_electron_spectrum_info.txt', '0011_electron_spectrum.npy', '0011_electron_spectrum_bins.npy', '0011_electron_spectrum.pdf'], ['0012_electron_spectrum_info.txt', '0012_electron_spectrum.npy', '0012_electron_spectrum_bins.npy', '0012_electron_spectrum.pdf'], ['0013_electron_spectrum_info.txt', '0013_electron_spectrum.npy', '0013_electron_spectrum_bins.npy', '0013_electron_spectrum.pdf'], ['0014_electron_spectrum_info.txt', '0014_electron_spectrum.npy', '0014_electron_spectrum_bins.npy', '0014_electron_spectrum.pdf'], ['0015_electron_spectrum_info.txt', '0015_electron_spectrum.npy', '0015_electron_spectrum_bins.npy', '0015_electron_spectrum.pdf'], ['0016_electron_spectrum_info.txt', '0016_electron_spectrum.npy', '0016_electron_spectrum_bins.npy', '0016_electron_spectrum.pdf'], ['0018_electron_spectrum_info.txt', '0018_electron_spectrum.npy', '0018_electron_spectrum_bins.npy', '0018_electron_spectrum.pdf'], ['0020_electron_spectrum.npy', '0020_electron_spectrum_bins.npy', '0020_electron_spectrum.pdf', '0020_electron_spectrum_info.txt'], ['0019_electron_spectrum.npy', '0019_electron_spectrum_bins.npy', '0019_electron_spectrum.pdf', '0019_electron_spectrum_info.txt'], ['0021_electron_spectrum_info.txt', '0021_electron_spectrum.npy', '0021_electron_spectrum_bins.npy', '0021_electron_spectrum.pdf']]\n"
     ]
    }
   ],
   "source": [
    "print(espec_names_sort)"
   ]
  },
  {
   "cell_type": "code",
   "execution_count": 6,
   "id": "3ce9ddb0",
   "metadata": {},
   "outputs": [
    {
     "data": {
      "text/plain": [
       "[[],\n",
       " [],\n",
       " [],\n",
       " [],\n",
       " [],\n",
       " [],\n",
       " [],\n",
       " [],\n",
       " [],\n",
       " [],\n",
       " [],\n",
       " [],\n",
       " [],\n",
       " [],\n",
       " [],\n",
       " [],\n",
       " [],\n",
       " [],\n",
       " [],\n",
       " []]"
      ]
     },
     "execution_count": 6,
     "metadata": {},
     "output_type": "execute_result"
    }
   ],
   "source": [
    "l = 20*[[]]\n",
    "l"
   ]
  },
  {
   "cell_type": "code",
   "execution_count": 7,
   "id": "55981650",
   "metadata": {},
   "outputs": [
    {
     "name": "stdout",
     "output_type": "stream",
     "text": [
      "[['0001_electron_spectrum_bins.npy', '0001_electron_spectrum.npy'], ['0002_electron_spectrum_bins.npy', '0002_electron_spectrum.npy'], ['0003_electron_spectrum_bins.npy', '0003_electron_spectrum.npy'], ['0004_electron_spectrum_bins.npy', '0004_electron_spectrum.npy'], ['0005_electron_spectrum_bins.npy', '0005_electron_spectrum.npy'], ['0006_electron_spectrum_bins.npy', '0006_electron_spectrum.npy'], ['0007_electron_spectrum_bins.npy', '0007_electron_spectrum.npy'], ['0008_electron_spectrum_bins.npy', '0008_electron_spectrum.npy'], ['0009_electron_spectrum_bins.npy', '0009_electron_spectrum.npy'], ['0010_electron_spectrum_bins.npy', '0010_electron_spectrum.npy'], ['0011_electron_spectrum_bins.npy', '0011_electron_spectrum.npy'], ['0012_electron_spectrum_bins.npy', '0012_electron_spectrum.npy'], ['0013_electron_spectrum_bins.npy', '0013_electron_spectrum.npy'], ['0014_electron_spectrum_bins.npy', '0014_electron_spectrum.npy'], ['0015_electron_spectrum_bins.npy', '0015_electron_spectrum.npy'], ['0016_electron_spectrum_bins.npy', '0016_electron_spectrum.npy'], ['0019_electron_spectrum_bins.npy', '0019_electron_spectrum.npy'], ['0018_electron_spectrum_bins.npy', '0018_electron_spectrum.npy'], ['0020_electron_spectrum_bins.npy', '0020_electron_spectrum.npy'], ['0021_electron_spectrum_bins.npy', '0021_electron_spectrum.npy']]\n"
     ]
    }
   ],
   "source": [
    "mx_ar= np.round(np.logspace(np.log10(6), np.log10(500), 20), 1)\n",
    "espec_and_bins = []\n",
    "for i in range(len(mx_ar)):\n",
    "    espec_and_bins.append([])\n",
    "for run in espec_names_sort:\n",
    "    for file in run:\n",
    "        if '.txt' in file:\n",
    "            txt_file = open(espec_path + file, 'r')\n",
    "            txt_file_read = txt_file.read()\n",
    "            this_mx = np.float(txt_file_read.split('Dark Matter Particle Mass: ')[-1].split('GeV')[0])\n",
    "        elif '.npy' in file:\n",
    "            if 'bins.npy' in file:\n",
    "                bins_name = file\n",
    "            else:\n",
    "                spec_name = file\n",
    "    #print(this_mx)\n",
    "    ind = np.where(mx_ar==this_mx)[0][0]\n",
    "    #print(ind)\n",
    "    #print(espec_and_bins)\n",
    "    espec_and_bins[ind].append(bins_name)\n",
    "    espec_and_bins[ind].append(spec_name)\n",
    "print(espec_and_bins)"
   ]
  },
  {
   "cell_type": "code",
   "execution_count": 20,
   "id": "f3f6a7cc",
   "metadata": {},
   "outputs": [
    {
     "data": {
      "image/png": "[encoded data removed]",
      "text/plain": [
       "<Figure size 432x288 with 1 Axes>"
      ]
     },
     "metadata": {
      "needs_background": "light"
     },
     "output_type": "display_data"
    }
   ],
   "source": [
    "plt.rc('text', usetex=True)\n",
    "plt.rc('font', family='serif')\n",
    "for j in range(5):\n",
    "    i = 2 + 3*j\n",
    "    bins = np.load(espec_path+espec_and_bins[i][0])\n",
    "    spec = np.load(espec_path+espec_and_bins[i][1])\n",
    "    plt.plot(bins[0:-1], bins[0:-1]*spec, label=r'$m_\\chi = ' + str(mx_ar[i]) + '\\;\\mathrm{GeV}$')\n",
    "plt.xscale('log')\n",
    "plt.yscale('log')\n",
    "plt.xlabel(r'$E \\;\\rm{(GeV)}$', size=16)\n",
    "plt.ylabel(r'$E \\times (dN_e/dE)$', size=16)\n",
    "plt.title(r'$\\chi\\chi \\rightarrow b\\bar{b}$', size=16)\n",
    "plt.legend(loc=(.15 ,0.05))\n",
    "plt.axis('square')\n",
    "plt.savefig(base_path + '/figs/espec_bbbar.pdf')"
   ]
  },
  {
   "cell_type": "code",
   "execution_count": null,
   "id": "61463841",
   "metadata": {},
   "outputs": [],
   "source": []
  }
 ],
 "metadata": {
  "kernelspec": {
   "display_name": "Python 3",
   "language": "python",
   "name": "python3"
  },
  "language_info": {
   "codemirror_mode": {
    "name": "ipython",
    "version": 3
   },
   "file_extension": ".py",
   "mimetype": "text/x-python",
   "name": "python",
   "nbconvert_exporter": "python",
   "pygments_lexer": "ipython3",
   "version": "3.7.10"
  }
 },
 "nbformat": 4,
 "nbformat_minor": 5
}
