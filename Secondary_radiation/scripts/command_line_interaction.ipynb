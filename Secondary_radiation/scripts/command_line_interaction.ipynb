{
 "cells": [
  {
   "cell_type": "code",
   "execution_count": 1,
   "id": "e03262c4",
   "metadata": {},
   "outputs": [],
   "source": [
    "import numpy as np\n",
    "import os"
   ]
  },
  {
   "cell_type": "code",
   "execution_count": 4,
   "id": "0b57156d",
   "metadata": {},
   "outputs": [],
   "source": [
    "base_path = os.getcwd().split('scripts')[0]\n",
    "array_path = base_path + 'fig_arrays/'"
   ]
  },
  {
   "cell_type": "code",
   "execution_count": 5,
   "id": "0326888f",
   "metadata": {},
   "outputs": [
    {
     "name": "stdout",
     "output_type": "stream",
     "text": [
      "['results', 'stats_none_left', 'stats_none_none', 'stats_left_left', 'stats_none_right', 'fig:intensity_map__data.npy', 'fig:intensity_map__xcoords.npy', 'fig:intensity_map__ycoords.npy', 'fig:magnetic_field_disk__Bparams.npy', 'fig:magnetic_field_disk__Bmeas.npy', 'fig:magnetic_field_disk__Berr.npy', 'fig:magnetic_field_disk_R.npy', 'fig:magnetic_field_disk__R.npy', 'fig:HI_gas__R.npy', 'fig:HI_gas__disk.npy', 'fig:HI_gas__disk_density.npy', 'fig:H2_gas__R.npy', 'fig:H2_gas__disk.npy', 'fig:H2_gas__disk_density.npy', 'fig:bulge_SED__model_L.pdf.npy', 'fig:bulge_SED___model_lamda_cm.pdf.npy', 'fig:bulge_SED__data_L.pdf.npy', 'fig:bulge_SED___data_lamda_cm.pdf.npy', 'fig:disk_SED__model_L.pdf.npy', 'fig:disk_SED___model_lamda_cm.pdf.npy', 'fig:disk_SED__data_L.pdf.npy', 'fig:disk_SED___data_lamda_cm.pdf.npy', 'fig:bulge_SED__model_lamda_cm.pdf.npy', 'fig:bulge_SED__data_lamda_cm.pdf.npy', 'fig:disk_SED__model_lamda_cm.pdf.npy', 'fig:disk_SED__data_lamda_cm.pdf.npy', 'fig:bulge_SED__model_L.npy', 'fig:bulge_SED__model_lamda_cm.npy', 'fig:bulge_SED__data_L.npy', 'fig:bulge_SED__data_lamda_cm.npy', 'fig:disk_SED__model_L.npy', 'fig:disk_SED__model_lamda_cm.npy', 'fig:disk_SED__data_L.npy', 'fig:disk_SED__data_lamda_cm.npy', 'fig:ISRF__R.npy', 'fig:ISRF__rho_tot.npy', 'fig:ISRF__rho_bulge.npy', 'fig:ISRF__rho_disk.npy']\n"
     ]
    }
   ],
   "source": [
    "file_list = os.listdir(array_path)\n",
    "print(file_list)"
   ]
  },
  {
   "cell_type": "code",
   "execution_count": 13,
   "id": "9c8d07ce",
   "metadata": {},
   "outputs": [
    {
     "data": {
      "text/plain": [
       "[256,\n",
       " 0,\n",
       " 0,\n",
       " 0,\n",
       " 0,\n",
       " 0,\n",
       " 0,\n",
       " 0,\n",
       " 0,\n",
       " 0,\n",
       " 0,\n",
       " 0,\n",
       " 0,\n",
       " 0,\n",
       " 0,\n",
       " 0,\n",
       " 0,\n",
       " 0,\n",
       " 0,\n",
       " 0,\n",
       " 0,\n",
       " 0,\n",
       " 0,\n",
       " 0,\n",
       " 0,\n",
       " 0,\n",
       " 0,\n",
       " 0,\n",
       " 0,\n",
       " 0,\n",
       " 0,\n",
       " 0,\n",
       " 0,\n",
       " 0,\n",
       " 0,\n",
       " 0,\n",
       " 0,\n",
       " 0]"
      ]
     },
     "execution_count": 13,
     "metadata": {},
     "output_type": "execute_result"
    }
   ],
   "source": [
    "\n",
    "[os.system('mv ' + array_path + name + ' ' + array_path + name[4:]) for name in file_list if name[:4]=='fig:']\n",
    "\n"
   ]
  },
  {
   "cell_type": "code",
   "execution_count": 11,
   "id": "e110b2d2",
   "metadata": {},
   "outputs": [
    {
     "data": {
      "text/plain": [
       "'fig:'"
      ]
     },
     "execution_count": 11,
     "metadata": {},
     "output_type": "execute_result"
    }
   ],
   "source": [
    "names[0][:4]"
   ]
  },
  {
   "cell_type": "code",
   "execution_count": null,
   "id": "febb5b19",
   "metadata": {},
   "outputs": [],
   "source": []
  }
 ],
 "metadata": {
  "kernelspec": {
   "display_name": "Python 3",
   "language": "python",
   "name": "python3"
  },
  "language_info": {
   "codemirror_mode": {
    "name": "ipython",
    "version": 3
   },
   "file_extension": ".py",
   "mimetype": "text/x-python",
   "name": "python",
   "nbconvert_exporter": "python",
   "pygments_lexer": "ipython3",
   "version": "3.7.10"
  }
 },
 "nbformat": 4,
 "nbformat_minor": 5
}
