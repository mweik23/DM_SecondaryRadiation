{
 "cells": [
  {
   "cell_type": "code",
   "execution_count": 1,
   "id": "681846b1",
   "metadata": {},
   "outputs": [],
   "source": [
    "import numpy as np\n",
    "import matplotlib.pyplot as plt\n",
    "from scipy.integrate import quad"
   ]
  },
  {
   "cell_type": "code",
   "execution_count": 5,
   "id": "ccf61d2b",
   "metadata": {},
   "outputs": [],
   "source": [
    "def func(x, *args):\n",
    "    gamma=args[0]\n",
    "    return x**(2-gamma)/((1+x)**(3-gamma))\n",
    "gamma_vals = np.array([.5, .75, 1, 1.25, 1.4])\n",
    "nx = 1000\n",
    "x_ar = np.linspace(0, 5, nx)\n",
    "\n",
    "def I(x, gamma):\n",
    "    result = np.array([quad(func, x[i], x[i+1], args=(gamma))[0] for i in range(nx-1)])\n",
    "    cumulative = np.cumsum(result)\n",
    "    return cumulative\n",
    "\n",
    "Ires = np.array([I(x_ar, gamma) for gamma in gamma_vals])"
   ]
  },
  {
   "cell_type": "code",
   "execution_count": 4,
   "id": "a3a2d8cf",
   "metadata": {},
   "outputs": [
    {
     "data": {
      "text/plain": [
       "[<matplotlib.lines.Line2D at 0x7fefdc943890>]"
      ]
     },
     "execution_count": 4,
     "metadata": {},
     "output_type": "execute_result"
    },
    {
     "data": {
      "image/png": "[encoded data removed]",
      "text/plain": [
       "<Figure size 432x288 with 1 Axes>"
      ]
     },
     "metadata": {
      "needs_background": "light"
     },
     "output_type": "display_data"
    }
   ],
   "source": []
  },
  {
   "cell_type": "code",
   "execution_count": null,
   "id": "aca6f3dc",
   "metadata": {},
   "outputs": [],
   "source": [
    "r0_default = 16500\n",
    "rho0_default = 1.1e-2\n"
   ]
  }
 ],
 "metadata": {
  "kernelspec": {
   "display_name": "Python 3",
   "language": "python",
   "name": "python3"
  },
  "language_info": {
   "codemirror_mode": {
    "name": "ipython",
    "version": 3
   },
   "file_extension": ".py",
   "mimetype": "text/x-python",
   "name": "python",
   "nbconvert_exporter": "python",
   "pygments_lexer": "ipython3",
   "version": "3.7.10"
  }
 },
 "nbformat": 4,
 "nbformat_minor": 5
}
