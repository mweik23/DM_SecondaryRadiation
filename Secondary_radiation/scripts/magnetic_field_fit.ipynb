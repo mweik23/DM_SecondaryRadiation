{
 "cells": [
  {
   "cell_type": "code",
   "execution_count": 1,
   "id": "fd2a1df9",
   "metadata": {},
   "outputs": [],
   "source": [
    "import numpy as np\n",
    "import matplotlib.pyplot as plt\n",
    "from scipy.optimize import minimize\n",
    "import os"
   ]
  },
  {
   "cell_type": "code",
   "execution_count": 2,
   "id": "f1dab1b8",
   "metadata": {},
   "outputs": [],
   "source": [
    "base_path = os.getcwd().split('scripts')[0]\n",
    "model_funcs_path = base_path + 'funcs+params_Andromeda5/'"
   ]
  },
  {
   "cell_type": "code",
   "execution_count": 3,
   "id": "2ca145f6",
   "metadata": {},
   "outputs": [],
   "source": [
    "def B(R, w):\n",
    "    return w[0]*np.exp(-R/w[1]) + w[2]*np.exp(-R/w[3])\n",
    "def chi2(w, *args):\n",
    "    d, R, e = args\n",
    "    return np.sum((d-B(R, w))**2/e**2)"
   ]
  },
  {
   "cell_type": "code",
   "execution_count": 4,
   "id": "7e8024c5",
   "metadata": {},
   "outputs": [],
   "source": [
    "d = np.array([15, 19, 7.3, 7.5, 7.1, 6.3, 0.15])\n",
    "e = np.array([3, 3, .2*d[2], .2*d[3], .2*d[4], .2*d[5], 0.15])\n",
    "R = np.array([.3, .9, 7, 9, 11, 13, 300])\n",
    "w_init = [11, 1.5, 9, 40]"
   ]
  },
  {
   "cell_type": "code",
   "execution_count": 5,
   "id": "0a451cf7",
   "metadata": {},
   "outputs": [
    {
     "name": "stdout",
     "output_type": "stream",
     "text": [
      "initial weights are: w0 = 11; w1 = 1.5; w2 = 9; w3 = 40; \n",
      "chi^2 = 3.975983415518556\n",
      "w_fin:  [11.18327545  3.45741525  7.20414034 77.63481584]\n",
      "True\n",
      "CONVERGENCE: NORM_OF_PROJECTED_GRADIENT_<=_PGTOL\n",
      "final chi2: 2.2107457230766694\n"
     ]
    }
   ],
   "source": [
    "#print initial statistics\n",
    "this_chi2 = chi2(w_init, *(d, R,  e))\n",
    "statement1 = 'initial weights are: '\n",
    "for j in range(len(w_init)):\n",
    "    statement1 += 'w' + str(j) + ' = ' + str(w_init[j]) + '; '\n",
    "print(statement1)\n",
    "print('chi^2 = ' + str(this_chi2))\n",
    "\n",
    "# update weights\n",
    "bnds = [(0, 50), (0, 200), (0, 50), (0 , 500)]\n",
    "res = minimize(chi2, w_init, args=(d, R, e), bounds=bnds)\n",
    "\n",
    "w_fin = res.x\n",
    "print('w_fin: ', w_fin)\n",
    "print(res.success)\n",
    "print(res.message)\n",
    "chi2_final = chi2(w_fin, *(d, R, e))\n",
    "print('final chi2: '+ str(chi2_final)) "
   ]
  },
  {
   "cell_type": "code",
   "execution_count": 6,
   "id": "87c44f9a",
   "metadata": {},
   "outputs": [
    {
     "data": {
      "text/plain": [
       "Text(0.5, 0, '$R \\\\; \\\\rm(kpc)$')"
      ]
     },
     "execution_count": 6,
     "metadata": {},
     "output_type": "execute_result"
    },
    {
     "data": {
      "image/png": "[encoded data removed]",
      "text/plain": [
       "<Figure size 432x288 with 1 Axes>"
      ]
     },
     "metadata": {
      "needs_background": "light"
     },
     "output_type": "display_data"
    }
   ],
   "source": [
    "R_grid = np.linspace(0, 50, 1000)\n",
    "B_best = B(R_grid, w_fin)\n",
    "fig = plt.figure()\n",
    "plt.errorbar(R[:-1], d[:-1], yerr=e[:-1], fmt='none', color='r')\n",
    "plt.scatter(R[:-1], d[:-1], s=6, color='r', label='data')\n",
    "plt.plot(R_grid, B_best, color='b', label='model')\n",
    "plt.legend()\n",
    "plt.xlabel(r'$R \\; \\rm(kpc)$')"
   ]
  },
  {
   "cell_type": "code",
   "execution_count": 7,
   "id": "eab53079",
   "metadata": {},
   "outputs": [],
   "source": [
    "np.save(model_funcs_path + 'B_params.npy', np.array(w_fin).reshape(2,2))"
   ]
  },
  {
   "cell_type": "code",
   "execution_count": 8,
   "id": "cf98bed8",
   "metadata": {},
   "outputs": [],
   "source": [
    "arrays_path = base_path +'fig_arrays/'\n",
    "tex_label = 'magnetic_field_disk'\n",
    "np.save(arrays_path + tex_label + '__Bparams.npy', np.array(w_fin))\n",
    "np.save(arrays_path + tex_label + '__Bmeas.npy', d)\n",
    "np.save(arrays_path + tex_label + '__Berr.npy', e)\n",
    "np.save(arrays_path + tex_label + '__R.npy', R)\n"
   ]
  },
  {
   "cell_type": "code",
   "execution_count": 45,
   "id": "08332462",
   "metadata": {},
   "outputs": [
    {
     "data": {
      "text/html": [
       "<table>\n",
       "    <tr>\n",
       "        <td colspan=\"2\" style=\"text-align:left\" title=\"Minimum value of function\"> FCN = 2.211 (chi2/ndof = 0.7) </td>\n",
       "        <td colspan=\"3\" style=\"text-align:center\" title=\"No. of function evaluations in last call and total number\"> Nfcn = 91 </td>\n",
       "    </tr>\n",
       "    <tr>\n",
       "        <td colspan=\"2\" style=\"text-align:left\" title=\"Estimated distance to minimum and goal\"> EDM = 0.000197 (Goal: 0.0002) </td>\n",
       "        <td colspan=\"3\" style=\"text-align:center\" title=\"No. of gradient evaluations in last call and total number\">  </td>\n",
       "    </tr>\n",
       "    <tr>\n",
       "        <td style=\"text-align:center;background-color:#92CCA6;color:black\"> Valid Minimum </td>\n",
       "        <td style=\"text-align:center;background-color:#92CCA6;color:black\"> Valid Parameters </td>\n",
       "        <td colspan=\"3\" style=\"text-align:center;background-color:#92CCA6;color:black\"> No Parameters at limit </td>\n",
       "    </tr>\n",
       "    <tr>\n",
       "        <td colspan=\"2\" style=\"text-align:center;background-color:#92CCA6;color:black\"> Below EDM threshold (goal x 10) </td>\n",
       "        <td colspan=\"3\" style=\"text-align:center;background-color:#92CCA6;color:black\"> Below call limit </td>\n",
       "    </tr>\n",
       "    <tr>\n",
       "        <td style=\"text-align:center;background-color:#92CCA6;color:black\"> Covariance </td>\n",
       "        <td style=\"text-align:center;background-color:#92CCA6;color:black\"> Hesse ok </td>\n",
       "        <td style=\"text-align:center;background-color:#92CCA6;color:black\" title=\"Is covariance matrix accurate?\"> Accurate </td>\n",
       "        <td style=\"text-align:center;background-color:#92CCA6;color:black\" title=\"Is covariance matrix positive definite?\"> Pos. def. </td>\n",
       "        <td style=\"text-align:center;background-color:#92CCA6;color:black\" title=\"Was positive definiteness enforced by Minuit?\"> Not forced </td>\n",
       "    </tr>\n",
       "</table><table>\n",
       "    <tr>\n",
       "        <td></td>\n",
       "        <th title=\"Variable name\"> Name </th>\n",
       "        <th title=\"Value of parameter\"> Value </th>\n",
       "        <th title=\"Hesse error\"> Hesse Error </th>\n",
       "        <th title=\"Minos lower error\"> Minos Error- </th>\n",
       "        <th title=\"Minos upper error\"> Minos Error+ </th>\n",
       "        <th title=\"Lower limit of the parameter\"> Limit- </th>\n",
       "        <th title=\"Upper limit of the parameter\"> Limit+ </th>\n",
       "        <th title=\"Is the parameter fixed in the fit\"> Fixed </th>\n",
       "    </tr>\n",
       "    <tr>\n",
       "        <th> 0 </th>\n",
       "        <td> B0 </td>\n",
       "        <td> 11.2 </td>\n",
       "        <td> 2.9 </td>\n",
       "        <td>  </td>\n",
       "        <td>  </td>\n",
       "        <td>  </td>\n",
       "        <td>  </td>\n",
       "        <td>  </td>\n",
       "    </tr>\n",
       "    <tr>\n",
       "        <th> 1 </th>\n",
       "        <td> R0 </td>\n",
       "        <td> 3.4 </td>\n",
       "        <td> 2.6 </td>\n",
       "        <td>  </td>\n",
       "        <td>  </td>\n",
       "        <td>  </td>\n",
       "        <td>  </td>\n",
       "        <td>  </td>\n",
       "    </tr>\n",
       "    <tr>\n",
       "        <th> 2 </th>\n",
       "        <td> B1 </td>\n",
       "        <td> 7.2 </td>\n",
       "        <td> 1.9 </td>\n",
       "        <td>  </td>\n",
       "        <td>  </td>\n",
       "        <td>  </td>\n",
       "        <td>  </td>\n",
       "        <td>  </td>\n",
       "    </tr>\n",
       "    <tr>\n",
       "        <th> 3 </th>\n",
       "        <td> R1 </td>\n",
       "        <td> 77 </td>\n",
       "        <td> 21 </td>\n",
       "        <td>  </td>\n",
       "        <td>  </td>\n",
       "        <td>  </td>\n",
       "        <td>  </td>\n",
       "        <td>  </td>\n",
       "    </tr>\n",
       "</table><table>\n",
       "    <tr>\n",
       "        <td></td>\n",
       "        <th> B0 </th>\n",
       "        <th> R0 </th>\n",
       "        <th> B1 </th>\n",
       "        <th> R1 </th>\n",
       "    </tr>\n",
       "    <tr>\n",
       "        <th> B0 </th>\n",
       "        <td> 8.62 </td>\n",
       "        <td style=\"background-color:rgb(250,237,237);color:black\"> 0.667 <strong>(0.087)</strong> </td>\n",
       "        <td style=\"background-color:rgb(203,203,250);color:black\"> -1.99 <strong>(-0.358)</strong> </td>\n",
       "        <td style=\"background-color:rgb(250,221,221);color:black\"> 12.2 <strong>(0.194)</strong> </td>\n",
       "    </tr>\n",
       "    <tr>\n",
       "        <th> R0 </th>\n",
       "        <td style=\"background-color:rgb(250,237,237);color:black\"> 0.667 <strong>(0.087)</strong> </td>\n",
       "        <td> 6.77 </td>\n",
       "        <td style=\"background-color:rgb(138,138,250);color:black\"> -4.24 <strong>(-0.860)</strong> </td>\n",
       "        <td style=\"background-color:rgb(250,213,213);color:black\"> 13.9 <strong>(0.249)</strong> </td>\n",
       "    </tr>\n",
       "    <tr>\n",
       "        <th> B1 </th>\n",
       "        <td style=\"background-color:rgb(203,203,250);color:black\"> -1.99 <strong>(-0.358)</strong> </td>\n",
       "        <td style=\"background-color:rgb(138,138,250);color:black\"> -4.24 <strong>(-0.860)</strong> </td>\n",
       "        <td> 3.59 </td>\n",
       "        <td style=\"background-color:rgb(196,196,250);color:black\"> -16.8 <strong>(-0.413)</strong> </td>\n",
       "    </tr>\n",
       "    <tr>\n",
       "        <th> R1 </th>\n",
       "        <td style=\"background-color:rgb(250,221,221);color:black\"> 12.2 <strong>(0.194)</strong> </td>\n",
       "        <td style=\"background-color:rgb(250,213,213);color:black\"> 13.9 <strong>(0.249)</strong> </td>\n",
       "        <td style=\"background-color:rgb(196,196,250);color:black\"> -16.8 <strong>(-0.413)</strong> </td>\n",
       "        <td> 460 </td>\n",
       "    </tr>\n",
       "</table>"
      ],
      "text/plain": [
       "┌──────────────────────────────────┬──────────────────────────────────────┐\n",
       "│ FCN = 2.211 (chi2/ndof = 0.7)    │              Nfcn = 91               │\n",
       "│ EDM = 0.000197 (Goal: 0.0002)    │                                      │\n",
       "├───────────────┬──────────────────┼──────────────────────────────────────┤\n",
       "│ Valid Minimum │ Valid Parameters │        No Parameters at limit        │\n",
       "├───────────────┴──────────────────┼──────────────────────────────────────┤\n",
       "│ Below EDM threshold (goal x 10)  │           Below call limit           │\n",
       "├───────────────┬──────────────────┼───────────┬─────────────┬────────────┤\n",
       "│  Covariance   │     Hesse ok     │ Accurate  │  Pos. def.  │ Not forced │\n",
       "└───────────────┴──────────────────┴───────────┴─────────────┴────────────┘\n",
       "┌───┬──────┬───────────┬───────────┬────────────┬────────────┬─────────┬─────────┬───────┐\n",
       "│   │ Name │   Value   │ Hesse Err │ Minos Err- │ Minos Err+ │ Limit-  │ Limit+  │ Fixed │\n",
       "├───┼──────┼───────────┼───────────┼────────────┼────────────┼─────────┼─────────┼───────┤\n",
       "│ 0 │ B0   │   11.2    │    2.9    │            │            │         │         │       │\n",
       "│ 1 │ R0   │    3.4    │    2.6    │            │            │         │         │       │\n",
       "│ 2 │ B1   │    7.2    │    1.9    │            │            │         │         │       │\n",
       "│ 3 │ R1   │    77     │    21     │            │            │         │         │       │\n",
       "└───┴──────┴───────────┴───────────┴────────────┴────────────┴─────────┴─────────┴───────┘\n",
       "┌────┬─────────────────────────┐\n",
       "│    │    B0    R0    B1    R1 │\n",
       "├────┼─────────────────────────┤\n",
       "│ B0 │  8.62 0.667 -1.99  12.2 │\n",
       "│ R0 │ 0.667  6.77 -4.24  13.9 │\n",
       "│ B1 │ -1.99 -4.24  3.59 -16.8 │\n",
       "│ R1 │  12.2  13.9 -16.8   460 │\n",
       "└────┴─────────────────────────┘"
      ]
     },
     "execution_count": 45,
     "metadata": {},
     "output_type": "execute_result"
    }
   ],
   "source": [
    "from iminuit import Minuit\n",
    "from iminuit import cost\n",
    "def model(R, B0, R0, B1, R1):\n",
    "    return B0*np.exp(-R/R0) + B1*np.exp(-R/R1)\n",
    "\n",
    "c = cost.LeastSquares(R, d, e, model)\n",
    "w_init = 11, 3, 7, 70\n",
    "m = Minuit(c, *w_init)\n",
    "m.migrad()\n",
    "m.hesse()"
   ]
  },
  {
   "cell_type": "code",
   "execution_count": 46,
   "id": "0950d322",
   "metadata": {},
   "outputs": [
    {
     "data": {
      "text/plain": [
       "<ValueView B0=11.175786119626894 R0=3.4254439505291088 B1=7.230657961859057 R1=77.49932087240859>"
      ]
     },
     "execution_count": 46,
     "metadata": {},
     "output_type": "execute_result"
    }
   ],
   "source": [
    "m.values"
   ]
  },
  {
   "cell_type": "code",
   "execution_count": 44,
   "id": "cb4bbe4d",
   "metadata": {},
   "outputs": [
    {
     "data": {
      "text/plain": [
       "<ErrorView B0=2.936719815482729 R0=2.602717833015506 B1=1.8935095417760377 R1=21.456188417250665>"
      ]
     },
     "execution_count": 44,
     "metadata": {},
     "output_type": "execute_result"
    }
   ],
   "source": [
    "m.errors"
   ]
  },
  {
   "cell_type": "code",
   "execution_count": 57,
   "id": "684def60",
   "metadata": {},
   "outputs": [
    {
     "name": "stdout",
     "output_type": "stream",
     "text": [
      "0.4079885324652655\n"
     ]
    }
   ],
   "source": [
    "#D=(2*2.3 + 1.2)/3\n",
    "D = (2*.9 + .45)/3\n",
    "#D=(2*3.1 + 1.5)/3\n",
    "#D = (2*.8 + .41)/3\n",
    "E = 4.1\n",
    "B = 6.6\n",
    "D0 = D*(10/B)**(-1/3)*E**(-1/3)\n",
    "print(D0)"
   ]
  },
  {
   "cell_type": "code",
   "execution_count": null,
   "id": "c9500f62",
   "metadata": {},
   "outputs": [],
   "source": []
  }
 ],
 "metadata": {
  "kernelspec": {
   "display_name": "Python 3",
   "language": "python",
   "name": "python3"
  },
  "language_info": {
   "codemirror_mode": {
    "name": "ipython",
    "version": 3
   },
   "file_extension": ".py",
   "mimetype": "text/x-python",
   "name": "python",
   "nbconvert_exporter": "python",
   "pygments_lexer": "ipython3",
   "version": "3.7.10"
  }
 },
 "nbformat": 4,
 "nbformat_minor": 5
}
