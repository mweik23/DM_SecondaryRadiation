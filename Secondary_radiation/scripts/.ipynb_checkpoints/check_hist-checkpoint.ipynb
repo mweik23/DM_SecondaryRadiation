{
 "cells": [
  {
   "cell_type": "code",
   "execution_count": null,
   "id": "222f558b",
   "metadata": {},
   "outputs": [],
   "source": [
    "import numpy as np\n",
    "import matplotlib.pyplot as plt\n",
    "import os"
   ]
  },
  {
   "cell_type": "code",
   "execution_count": null,
   "id": "90067f42",
   "metadata": {},
   "outputs": [],
   "source": [
    "this_path = os.getcwd()\n",
    "sec_rad_path = this_path.split('scripts')[0]\n",
    "e_spec_path = sec_rad_path + 'electron_spectrum/'\n",
    "spec_name = '0001_electron_spectrum.npy'\n",
    "bins_name = '0001_electron_spectrum_bins.npy'"
   ]
  },
  {
   "cell_type": "code",
   "execution_count": null,
   "id": "044f6a76",
   "metadata": {},
   "outputs": [],
   "source": [
    "espec = np.load(e_spec_path + spec_name)\n",
    "bins = np.load(e_spec_path + bins_name)"
   ]
  }
 ],
 "metadata": {
  "kernelspec": {
   "display_name": "Python 3",
   "language": "python",
   "name": "python3"
  },
  "language_info": {
   "codemirror_mode": {
    "name": "ipython",
    "version": 3
   },
   "file_extension": ".py",
   "mimetype": "text/x-python",
   "name": "python",
   "nbconvert_exporter": "python",
   "pygments_lexer": "ipython3",
   "version": "3.8.8"
  }
 },
 "nbformat": 4,
 "nbformat_minor": 5
}
