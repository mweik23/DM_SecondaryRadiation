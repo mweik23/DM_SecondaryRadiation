{
 "cells": [
  {
   "cell_type": "code",
   "execution_count": 2,
   "id": "f487b322",
   "metadata": {},
   "outputs": [],
   "source": [
    "import numpy as np\n",
    "from astropy.io import fits\n",
    "import os\n",
    "import matplotlib.pyplot as plt\n",
    "from scipy.optimize import minimize\n",
    "import manipulate_text as mt"
   ]
  },
  {
   "cell_type": "code",
   "execution_count": 3,
   "id": "488cf600",
   "metadata": {},
   "outputs": [],
   "source": [
    "def get_data_and_info(fits_path, fits_name):\n",
    "    #extract data and information about data\n",
    "    hdul = fits.open(fits_path+fits_name)\n",
    "    data_uJ = hdul[0].data[0]\n",
    "    data = data_uJ/1000 #mJ/beam\n",
    "    hdr = hdul[0].header\n",
    "    dlt_N_deg = abs(hdr['CDELT1'])\n",
    "    dlt_n_deg = abs(hdr['CDELT2'])\n",
    "    N = hdr['NAXIS1']\n",
    "    n = hdr['NAXIS2']\n",
    "    nu_data = hdr['CRVAL3']\n",
    "    nu_BW = hdr['CDELT3']\n",
    "    HPBW_deg = hdr['BMIN']\n",
    "    return data, dlt_N_deg, dlt_n_deg, N, n, HPBW_deg, nu_data, nu_BW\n",
    "\n",
    "def make_coords(N, n, dlt_N, dlt_n, loc='centered'):\n",
    "    if loc=='centered':\n",
    "        ax_N_unit = np.linspace(-(N-1)/2, (N-1)/2, N)\n",
    "        ax_n_unit = np.linspace(-(n-1)/2, (n-1)/2, n)\n",
    "    elif loc=='edges':\n",
    "        ax_N_unit = np.linspace(-N/2, N/2, N+1)\n",
    "        ax_n_unit = np.linspace(-n/2, n/2, n+1)\n",
    "    return dlt_N*ax_N_unit, dlt_n*ax_n_unit\n",
    "\n",
    "def find_circular_rings(THETA, th_range):\n",
    "    ind = np.where(np.logical_or(THETA<th_range[0], THETA>th_range[1]))\n",
    "    return ind\n",
    "\n",
    "#puts indices in decending order with respect to a certain axis\n",
    "def sort_ind(ind, axis=0):\n",
    "    p = ind[0].argsort()[::-1]\n",
    "    new_ind = ()\n",
    "    for elem in ind:\n",
    "        new_ind += (elem[p],)\n",
    "    return new_ind\n",
    "\n",
    "def mask_image(image, ind , sort=True):\n",
    "    sh = image.shape\n",
    "    #reshape image if neccessary \n",
    "    if not len(sh) == 3:\n",
    "        n = sh[0]\n",
    "        N = sh[1]\n",
    "        block_image = np.transpose(image).reshape(N,n)\n",
    "    else:\n",
    "        block_image = image\n",
    "\n",
    "    #convert block_image to a list of arrays\n",
    "    block_image_ls = list(block_image)\n",
    "    \n",
    "    #sort indices if neccesary\n",
    "    if sort:\n",
    "        #reorder ind\n",
    "        ind = sort_ind(ind)\n",
    "    \n",
    "    #remove entries\n",
    "    for i in range(len(ind[0])):\n",
    "        block_image_ls[ind[1][i]] = np.delete(block_image_ls[ind[1][i]], ind[0][i], 0)\n",
    "    \n",
    "    return block_image_ls\n",
    "\n",
    "#coords = (x, y)                                                                                                                                               \n",
    "#ellipse_params = (r2, a, thickness/2)                                                                                                                         \n",
    "def create_mask(THETA, th_range, coords=None, ellipse_params=None, data=None,  sigma_rms=None, num_sigma_rms=None, sigma_BW=None, num_sigma_BW=None, dlt=None,\\\n",
    " method='azimuthally_sym'):\n",
    "    if method=='azimuthally_sym':\n",
    "        return np.logical_and(THETA>th_range[0], THETA<th_range[1])\n",
    "    elif method=='ellipse_and_azimuthally_sym':\n",
    "        m1 = np.logical_and(THETA>th_range[0], THETA<th_range[1])\n",
    "        elliptic_d = np.sqrt(coords[0]**2+ellipse_params[0]*coords[1]**2)\n",
    "        m2 = np.abs(elliptic_d-ellipse_params[1])>ellipse_params[2]\n",
    "        return m1*m2\n",
    "    \n",
    "def make_spot(x, w_spot):\n",
    "    template = w_spot[2]*np.exp(-((x[0]-w_spot[0])**2+(x[1]-w_spot[1])**2)/(2*w_spot[3]**2))\n",
    "    return template\n",
    "    \n",
    "def f(x, w):\n",
    "    spot_params = w[5:]\n",
    "    spot_ls = [[spot_params[4*i0 + i] for i in range(4)] for i0 in range(int(len(spot_params)/4))]\n",
    "    spot_temp = 0*x[0]\n",
    "    for item in spot_ls:\n",
    "        spot_temp += make_spot(x, item)\n",
    "    elliptic_d = np.sqrt(x[0]**2+w[2]*x[1]**2)\n",
    "    ell_unif = w[0]+w[1]*np.exp(-(elliptic_d-w[3])**2/(2*w[4]))\n",
    "    return ell_unif+spot_temp\n",
    "\n",
    "def im_to_1d(image, kind='list'):\n",
    "    if kind=='list':\n",
    "        image_t = tuple(image)\n",
    "    res = np.hstack(image_t)\n",
    "    return res\n",
    "\n",
    "#args = (data, x, sigma, mask)\n",
    "def chi2(w, *args):\n",
    "    model = f(args[1], w)\n",
    "    return np.sum(((args[0]-model)**2/args[2]**2)*args[3])\n",
    "\n",
    "def remove_ps(data, args):\n",
    "    pass"
   ]
  },
  {
   "cell_type": "code",
   "execution_count": 4,
   "id": "14f92372",
   "metadata": {},
   "outputs": [],
   "source": [
    "#define relevant paths and names\n",
    "base_path = os.getcwd().split('scripts')[0]\n",
    "fits_path = base_path.split('Secondary_radiation')[0] + 'synchrotron_data/'\n",
    "fits_name = 'm31cm3nthnew.ss.90sec.fits'"
   ]
  },
  {
   "cell_type": "code",
   "execution_count": 5,
   "id": "4a793fa7",
   "metadata": {},
   "outputs": [
    {
     "name": "stdout",
     "output_type": "stream",
     "text": [
      "real data info extracted\n"
     ]
    }
   ],
   "source": [
    "#extract info about data\n",
    "data, dlt_N_deg, dlt_n_deg, N, n, HPBW_deg, nu_data, nu_BW = get_data_and_info(fits_path, fits_name)\n",
    "dlt_N = dlt_N_deg*np.pi/180\n",
    "dlt_n = dlt_n_deg*np.pi/180\n",
    "HPBW = HPBW_deg*np.pi/180\n",
    "sigma_BW = HPBW/(2*np.sqrt(2*np.log(2)))\n",
    "omega_beam = 2*np.pi*sigma_BW**2\n",
    "print('real data info extracted')"
   ]
  },
  {
   "cell_type": "code",
   "execution_count": 6,
   "id": "4bea8acd",
   "metadata": {},
   "outputs": [],
   "source": [
    "#create coords for data\n",
    "ax_N, ax_n = make_coords(N, n, dlt_N, dlt_n)\n",
    "AX_N, AX_n = np.meshgrid(ax_N, ax_n)\n",
    "THETA = np.sqrt(AX_N**2+AX_n**2)\n",
    "sigma_rms = [0.25, 0.3]\n",
    "l = 2/3\n",
    "b = 2/3\n",
    "outside = np.logical_or(np.abs(AX_N)>(l/2)*np.pi/180, np.abs(AX_n)>(b/2)*np.pi/180)\n",
    "inside = np.logical_not(outside)\n",
    "noise = sigma_rms[-1]*outside + sigma_rms[0]*inside"
   ]
  },
  {
   "cell_type": "code",
   "execution_count": 7,
   "id": "a6977bbc",
   "metadata": {},
   "outputs": [],
   "source": [
    "dless_rad1 = 1\n",
    "dless_rad2 = 1.5\n",
    "ann1 = dless_rad1*HPBW/2\n",
    "ann2 = dless_rad2*HPBW/2\n",
    "ind0 = np.where(THETA==0)\n",
    "indx0 = ind0[0][0]\n",
    "indy0 = ind0[1][0]\n",
    "ind_ann0 = np.where(np.logical_and(THETA>ann1, THETA<ann2))\n",
    "dlt_ind_ann = (ind_ann0[0]-indx0, ind_ann0[1]-indy0)\n",
    "\n",
    "N_cent = 3\n",
    "n_cent = 3\n",
    "ind0_centx = int((N_cent-1)/2)\n",
    "ind0_centy = int((n_cent-1)/2)\n",
    "z_mat = np.zeros((N_cent, n_cent))\n",
    "ind_cent0 = np.where(z_mat>-1)\n",
    "dlt_ind_cent = (ind_cent0[0]-ind0_centx, ind_cent0[1]-ind0_centy)\n"
   ]
  },
  {
   "cell_type": "code",
   "execution_count": 8,
   "id": "1fd953c2",
   "metadata": {},
   "outputs": [
    {
     "name": "stdout",
     "output_type": "stream",
     "text": [
      "(array([-4, -4, -4, -4, -4, -3, -3, -3, -3, -3, -3, -3, -2, -2, -2, -2, -1,\n",
      "       -1, -1, -1,  0,  0,  0,  0,  1,  1,  1,  1,  2,  2,  2,  2,  3,  3,\n",
      "        3,  3,  3,  3,  3,  4,  4,  4,  4,  4]), array([-2, -1,  0,  1,  2, -3, -2, -1,  0,  1,  2,  3, -4, -3,  3,  4, -4,\n",
      "       -3,  3,  4, -4, -3,  3,  4, -4, -3,  3,  4, -4, -3,  3,  4, -3, -2,\n",
      "       -1,  0,  1,  2,  3, -2, -1,  0,  1,  2]))\n"
     ]
    }
   ],
   "source": [
    "print(dlt_ind_ann)\n"
   ]
  },
  {
   "cell_type": "code",
   "execution_count": null,
   "id": "39b04fec",
   "metadata": {},
   "outputs": [],
   "source": [
    "N_half = (N-1)/2\n",
    "n_half = (n-1)/2\n",
    "sh = data.shape\n",
    "for i in range(sh[0]):\n",
    "    for j in range(sh[1]):\n",
    "        ind_of_ind = [k for k in range(len(dlt_ind_ann[0])) \\\n",
    "                              if j+dlt_ind_ann[0][k] <= N_half and j+dlt_ind_ann[0][k] >= -N_half\\\n",
    "                             and i+dlt_ind_ann[1][k] <= n_half and i+dlt_ind_ann[1][k] >= -n_half]\n",
    "        ind_ann_x = np.array([j+dlt_ind_ann[0][ind] for ind in ind_of_ind])\n",
    "        ind_ann_y = np.array([i+dlt_ind_ann[1][ind] for ind in ind_of_ind])\n",
    "        num_ann = len(ind_of_ind)\n",
    "        ind_of_ind_cent = [k for k in range(len(dlt_ind_cent[0])) \\\n",
    "                              if j+dlt_ind_cent[0][k] <= N_half and j+dlt_ind_cent[0][k] >= -N_half\\\n",
    "                             and i+dlt_ind_cent[1][k] <= n_half and i+dlt_ind_cent[1][k] >= -n_half]\n",
    "        ind_cent_x = np.array([j+dlt_ind_cent[0][ind] for ind in ind_of_ind_cent])\n",
    "        ind_cent_y = np.array([i+dlt_ind_cent[1][ind] for ind in ind_of_ind_cent])\n",
    "        num_cent = len(ind_of_ind)\n",
    "        \n",
    "        #PICK UP HERE: compute average intensity in annulus and center"
   ]
  }
 ],
 "metadata": {
  "kernelspec": {
   "display_name": "Python 3",
   "language": "python",
   "name": "python3"
  },
  "language_info": {
   "codemirror_mode": {
    "name": "ipython",
    "version": 3
   },
   "file_extension": ".py",
   "mimetype": "text/x-python",
   "name": "python",
   "nbconvert_exporter": "python",
   "pygments_lexer": "ipython3",
   "version": "3.7.10"
  }
 },
 "nbformat": 4,
 "nbformat_minor": 5
}
