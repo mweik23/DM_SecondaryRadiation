{
 "cells": [
  {
   "cell_type": "code",
   "execution_count": 11,
   "id": "881f370d",
   "metadata": {},
   "outputs": [],
   "source": [
    "import numpy as np\n",
    "import os\n",
    "import matplotlib.pyplot as plt\n",
    "import meta_variables as mv\n",
    "import constants_and_functions as cf\n",
    "import manipulate_text as mt"
   ]
  },
  {
   "cell_type": "code",
   "execution_count": 12,
   "id": "fdc6e55f",
   "metadata": {},
   "outputs": [],
   "source": [
    "mx_min = 6\n",
    "mx_max = 500\n",
    "num_mx = 20\n",
    "D0_min = 3e28\n",
    "D0_max = 3e28\n",
    "num_D0 = 1\n",
    "mx_ar = np.round(np.logspace(np.log10(mx_min), np.log10(mx_max), num_mx), 1)\n",
    "D0_ar = np.logspace(np.log10(D0_min), np.log10(D0_max), num_D0)\n",
    "runs = mt.find_results(1, mx=mx_ar, D0=D0_ar)"
   ]
  },
  {
   "cell_type": "code",
   "execution_count": 13,
   "id": "cd5560d3",
   "metadata": {},
   "outputs": [
    {
     "data": {
      "text/plain": [
       "[]"
      ]
     },
     "execution_count": 13,
     "metadata": {},
     "output_type": "execute_result"
    }
   ],
   "source": [
    "runs"
   ]
  },
  {
   "cell_type": "code",
   "execution_count": null,
   "id": "1ce9e73c",
   "metadata": {},
   "outputs": [],
   "source": [
    "R = 50\n",
    "rr, EE, _, _ = mv.grid(mv.nr, mv.nE, [0, R], [cf.me, mx], E_spacing='log')"
   ]
  }
 ],
 "metadata": {
  "kernelspec": {
   "display_name": "Python 3",
   "language": "python",
   "name": "python3"
  },
  "language_info": {
   "codemirror_mode": {
    "name": "ipython",
    "version": 3
   },
   "file_extension": ".py",
   "mimetype": "text/x-python",
   "name": "python",
   "nbconvert_exporter": "python",
   "pygments_lexer": "ipython3",
   "version": "3.7.10"
  }
 },
 "nbformat": 4,
 "nbformat_minor": 5
}
