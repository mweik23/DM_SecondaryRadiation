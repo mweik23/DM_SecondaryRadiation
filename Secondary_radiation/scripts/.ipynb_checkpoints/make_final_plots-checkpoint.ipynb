{
 "cells": [
  {
   "cell_type": "code",
   "execution_count": 92,
   "id": "2f63f8fd",
   "metadata": {},
   "outputs": [],
   "source": [
    "import manipulate_text as mt\n",
    "import numpy as np\n",
    "import os\n",
    "import matplotlib.pyplot as plt\n",
    "import constants_and_functions as cf\n",
    "from astropy.io import fits\n",
    "import re\n",
    "from scipy import interpolate"
   ]
  },
  {
   "cell_type": "code",
   "execution_count": 84,
   "id": "20b6effc",
   "metadata": {},
   "outputs": [],
   "source": [
    "plt.rc('text', usetex=True)\n",
    "plt.rc('font', family='serif')\n",
    "sig_types = ['electron_spectrum', 'equillibrium_distribution', 'synchrotron_emission', 'inverse_compton', 'photon_spectrum']\n",
    "base_path = os.getcwd().split('scripts')[0]\n",
    "fig_path = base_path + 'figs/'\n",
    "fits_path = base_path.split('Secondary_radiation')[0] + 'synchrotron_data/'\n",
    "fits_name = 'm31cm3nthnew.ss.90sec.fits'"
   ]
  },
  {
   "cell_type": "code",
   "execution_count": 55,
   "id": "3db756d6",
   "metadata": {},
   "outputs": [],
   "source": [
    "def latex_float(f, n):\n",
    "    kwrd = '{0:.' +str(n)+ 'g}'\n",
    "    float_str = kwrd.format(f)\n",
    "    if \"e\" in float_str:\n",
    "        base, exponent = float_str.split(\"e\")\n",
    "        return r\"{0} \\times 10^{{{1}}}\".format(base, int(exponent))\n",
    "    else:\n",
    "        return float_str"
   ]
  },
  {
   "cell_type": "code",
   "execution_count": 72,
   "id": "c8891532",
   "metadata": {},
   "outputs": [],
   "source": [
    "nE = 400\n",
    "nr = 800\n",
    "sig_type = 1\n",
    "rmax = 50000\n",
    "me = 5.10999*10**(-4)\n",
    "r = np.linspace(0, rmax, nr+3)\n",
    "r = r[1:-2]\n",
    "sigmav_bench = 2.2e-26\n",
    "mx_start = 6\n",
    "mx_stop = 500\n",
    "num_mx = 20\n",
    "D0_set_in = np.array([3e28])\n",
    "mx_set_in = np.round(np.logspace(np.log10(mx_start), np.log10(mx_stop), num_mx), 1)"
   ]
  },
  {
   "cell_type": "code",
   "execution_count": 7,
   "id": "36c06a22",
   "metadata": {},
   "outputs": [
    {
     "name": "stdout",
     "output_type": "stream",
     "text": [
      "{'file_name': '0062_equillibrium_distribution_info.txt', 'mx': 6.0, 'D0': 3e+28, 'channel': 'bb_bar', 'nr': 800, 'nE': 400, 'sigma_v': 2.2e-26, 'DM_model': 'model type- NFW; rho0- 0.43GeV/cm^3; gamma- 1.25; Scale Radius- 16.5kpc; ', 'Astrophysical Model': 'Andromeda1', 'Spherical Average': 'unweighted'}\n",
      "{'file_name': '0065_equillibrium_distribution_info.txt', 'mx': 7.6, 'D0': 3e+28, 'channel': 'bb_bar', 'nr': 800, 'nE': 400, 'sigma_v': 2.2e-26, 'DM_model': 'model type- NFW; rho0- 0.43GeV/cm^3; gamma- 1.25; Scale Radius- 16.5kpc; ', 'Astrophysical Model': 'Andromeda1', 'Spherical Average': 'unweighted'}\n",
      "{'file_name': '0068_equillibrium_distribution_info.txt', 'mx': 9.6, 'D0': 3e+28, 'channel': 'bb_bar', 'nr': 800, 'nE': 400, 'sigma_v': 2.2e-26, 'DM_model': 'model type- NFW; rho0- 0.43GeV/cm^3; gamma- 1.25; Scale Radius- 16.5kpc; ', 'Astrophysical Model': 'Andromeda1', 'Spherical Average': 'unweighted'}\n",
      "{'file_name': '0071_equillibrium_distribution_info.txt', 'mx': 12.1, 'D0': 3e+28, 'channel': 'bb_bar', 'nr': 800, 'nE': 400, 'sigma_v': 2.2e-26, 'DM_model': 'model type- NFW; rho0- 0.43GeV/cm^3; gamma- 1.25; Scale Radius- 16.5kpc; ', 'Astrophysical Model': 'Andromeda1', 'Spherical Average': 'unweighted'}\n",
      "{'file_name': '0074_equillibrium_distribution_info.txt', 'mx': 15.2, 'D0': 3e+28, 'channel': 'bb_bar', 'nr': 800, 'nE': 400, 'sigma_v': 2.2e-26, 'DM_model': 'model type- NFW; rho0- 0.43GeV/cm^3; gamma- 1.25; Scale Radius- 16.5kpc; ', 'Astrophysical Model': 'Andromeda1', 'Spherical Average': 'unweighted'}\n",
      "{'file_name': '0077_equillibrium_distribution_info.txt', 'mx': 19.2, 'D0': 3e+28, 'channel': 'bb_bar', 'nr': 800, 'nE': 400, 'sigma_v': 2.2e-26, 'DM_model': 'model type- NFW; rho0- 0.43GeV/cm^3; gamma- 1.25; Scale Radius- 16.5kpc; ', 'Astrophysical Model': 'Andromeda1', 'Spherical Average': 'unweighted'}\n",
      "{'file_name': '0080_equillibrium_distribution_info.txt', 'mx': 24.3, 'D0': 3e+28, 'channel': 'bb_bar', 'nr': 800, 'nE': 400, 'sigma_v': 2.2e-26, 'DM_model': 'model type- NFW; rho0- 0.43GeV/cm^3; gamma- 1.25; Scale Radius- 16.5kpc; ', 'Astrophysical Model': 'Andromeda1', 'Spherical Average': 'unweighted'}\n",
      "{'file_name': '0083_equillibrium_distribution_info.txt', 'mx': 30.6, 'D0': 3e+28, 'channel': 'bb_bar', 'nr': 800, 'nE': 400, 'sigma_v': 2.2e-26, 'DM_model': 'model type- NFW; rho0- 0.43GeV/cm^3; gamma- 1.25; Scale Radius- 16.5kpc; ', 'Astrophysical Model': 'Andromeda1', 'Spherical Average': 'unweighted'}\n",
      "{'file_name': '0086_equillibrium_distribution_info.txt', 'mx': 38.6, 'D0': 3e+28, 'channel': 'bb_bar', 'nr': 800, 'nE': 400, 'sigma_v': 2.2e-26, 'DM_model': 'model type- NFW; rho0- 0.43GeV/cm^3; gamma- 1.25; Scale Radius- 16.5kpc; ', 'Astrophysical Model': 'Andromeda1', 'Spherical Average': 'unweighted'}\n",
      "{'file_name': '0089_equillibrium_distribution_info.txt', 'mx': 48.8, 'D0': 3e+28, 'channel': 'bb_bar', 'nr': 800, 'nE': 400, 'sigma_v': 2.2e-26, 'DM_model': 'model type- NFW; rho0- 0.43GeV/cm^3; gamma- 1.25; Scale Radius- 16.5kpc; ', 'Astrophysical Model': 'Andromeda1', 'Spherical Average': 'unweighted'}\n",
      "{'file_name': '0092_equillibrium_distribution_info.txt', 'mx': 61.5, 'D0': 3e+28, 'channel': 'bb_bar', 'nr': 800, 'nE': 400, 'sigma_v': 2.2e-26, 'DM_model': 'model type- NFW; rho0- 0.43GeV/cm^3; gamma- 1.25; Scale Radius- 16.5kpc; ', 'Astrophysical Model': 'Andromeda1', 'Spherical Average': 'unweighted'}\n",
      "{'file_name': '0095_equillibrium_distribution_info.txt', 'mx': 77.7, 'D0': 3e+28, 'channel': 'bb_bar', 'nr': 800, 'nE': 400, 'sigma_v': 2.2e-26, 'DM_model': 'model type- NFW; rho0- 0.43GeV/cm^3; gamma- 1.25; Scale Radius- 16.5kpc; ', 'Astrophysical Model': 'Andromeda1', 'Spherical Average': 'unweighted'}\n",
      "{'file_name': '0098_equillibrium_distribution_info.txt', 'mx': 98.0, 'D0': 3e+28, 'channel': 'bb_bar', 'nr': 800, 'nE': 400, 'sigma_v': 2.2e-26, 'DM_model': 'model type- NFW; rho0- 0.43GeV/cm^3; gamma- 1.25; Scale Radius- 16.5kpc; ', 'Astrophysical Model': 'Andromeda1', 'Spherical Average': 'unweighted'}\n",
      "{'file_name': '0101_equillibrium_distribution_info.txt', 'mx': 123.7, 'D0': 3e+28, 'channel': 'bb_bar', 'nr': 800, 'nE': 400, 'sigma_v': 2.2e-26, 'DM_model': 'model type- NFW; rho0- 0.43GeV/cm^3; gamma- 1.25; Scale Radius- 16.5kpc; ', 'Astrophysical Model': 'Andromeda1', 'Spherical Average': 'unweighted'}\n",
      "{'file_name': '0104_equillibrium_distribution_info.txt', 'mx': 156.1, 'D0': 3e+28, 'channel': 'bb_bar', 'nr': 800, 'nE': 400, 'sigma_v': 2.2e-26, 'DM_model': 'model type- NFW; rho0- 0.43GeV/cm^3; gamma- 1.25; Scale Radius- 16.5kpc; ', 'Astrophysical Model': 'Andromeda1', 'Spherical Average': 'unweighted'}\n",
      "{'file_name': '0107_equillibrium_distribution_info.txt', 'mx': 197.1, 'D0': 3e+28, 'channel': 'bb_bar', 'nr': 800, 'nE': 400, 'sigma_v': 2.2e-26, 'DM_model': 'model type- NFW; rho0- 0.43GeV/cm^3; gamma- 1.25; Scale Radius- 16.5kpc; ', 'Astrophysical Model': 'Andromeda1', 'Spherical Average': 'unweighted'}\n",
      "{'file_name': '0110_equillibrium_distribution_info.txt', 'mx': 248.7, 'D0': 3e+28, 'channel': 'bb_bar', 'nr': 800, 'nE': 400, 'sigma_v': 2.2e-26, 'DM_model': 'model type- NFW; rho0- 0.43GeV/cm^3; gamma- 1.25; Scale Radius- 16.5kpc; ', 'Astrophysical Model': 'Andromeda1', 'Spherical Average': 'unweighted'}\n",
      "{'file_name': '0113_equillibrium_distribution_info.txt', 'mx': 313.9, 'D0': 3e+28, 'channel': 'bb_bar', 'nr': 800, 'nE': 400, 'sigma_v': 2.2e-26, 'DM_model': 'model type- NFW; rho0- 0.43GeV/cm^3; gamma- 1.25; Scale Radius- 16.5kpc; ', 'Astrophysical Model': 'Andromeda1', 'Spherical Average': 'unweighted'}\n",
      "{'file_name': '0116_equillibrium_distribution_info.txt', 'mx': 396.2, 'D0': 3e+28, 'channel': 'bb_bar', 'nr': 800, 'nE': 400, 'sigma_v': 2.2e-26, 'DM_model': 'model type- NFW; rho0- 0.43GeV/cm^3; gamma- 1.25; Scale Radius- 16.5kpc; ', 'Astrophysical Model': 'Andromeda1', 'Spherical Average': 'unweighted'}\n",
      "{'file_name': '0119_equillibrium_distribution_info.txt', 'mx': 500.0, 'D0': 3e+28, 'channel': 'bb_bar', 'nr': 800, 'nE': 400, 'sigma_v': 2.2e-26, 'DM_model': 'model type- NFW; rho0- 0.43GeV/cm^3; gamma- 1.25; Scale Radius- 16.5kpc; ', 'Astrophysical Model': 'Andromeda1', 'Spherical Average': 'unweighted'}\n",
      "{'file_name': '0122_equillibrium_distribution_info.txt', 'mx': 6.0, 'D0': 3e+28, 'channel': 'bb_bar', 'nr': 800, 'nE': 400, 'sigma_v': 2.2e-26, 'DM_model': 'model type- NFW; rho0- 0.43GeV/cm^3; gamma- 1.25; Scale Radius- 16.5kpc; ', 'Astrophysical Model': 'Andromeda1', 'Spherical Average': 'weighted_dl'}\n",
      "{'file_name': '0125_equillibrium_distribution_info.txt', 'mx': 7.6, 'D0': 3e+28, 'channel': 'bb_bar', 'nr': 800, 'nE': 400, 'sigma_v': 2.2e-26, 'DM_model': 'model type- NFW; rho0- 0.43GeV/cm^3; gamma- 1.25; Scale Radius- 16.5kpc; ', 'Astrophysical Model': 'Andromeda1', 'Spherical Average': 'weighted_dl'}\n",
      "{'file_name': '0128_equillibrium_distribution_info.txt', 'mx': 9.6, 'D0': 3e+28, 'channel': 'bb_bar', 'nr': 800, 'nE': 400, 'sigma_v': 2.2e-26, 'DM_model': 'model type- NFW; rho0- 0.43GeV/cm^3; gamma- 1.25; Scale Radius- 16.5kpc; ', 'Astrophysical Model': 'Andromeda1', 'Spherical Average': 'weighted_dl'}\n",
      "{'file_name': '0131_equillibrium_distribution_info.txt', 'mx': 12.1, 'D0': 3e+28, 'channel': 'bb_bar', 'nr': 800, 'nE': 400, 'sigma_v': 2.2e-26, 'DM_model': 'model type- NFW; rho0- 0.43GeV/cm^3; gamma- 1.25; Scale Radius- 16.5kpc; ', 'Astrophysical Model': 'Andromeda1', 'Spherical Average': 'weighted_dl'}\n",
      "{'file_name': '0134_equillibrium_distribution_info.txt', 'mx': 15.2, 'D0': 3e+28, 'channel': 'bb_bar', 'nr': 800, 'nE': 400, 'sigma_v': 2.2e-26, 'DM_model': 'model type- NFW; rho0- 0.43GeV/cm^3; gamma- 1.25; Scale Radius- 16.5kpc; ', 'Astrophysical Model': 'Andromeda1', 'Spherical Average': 'weighted_dl'}\n",
      "{'file_name': '0137_equillibrium_distribution_info.txt', 'mx': 19.2, 'D0': 3e+28, 'channel': 'bb_bar', 'nr': 800, 'nE': 400, 'sigma_v': 2.2e-26, 'DM_model': 'model type- NFW; rho0- 0.43GeV/cm^3; gamma- 1.25; Scale Radius- 16.5kpc; ', 'Astrophysical Model': 'Andromeda1', 'Spherical Average': 'weighted_dl'}\n",
      "{'file_name': '0140_equillibrium_distribution_info.txt', 'mx': 24.3, 'D0': 3e+28, 'channel': 'bb_bar', 'nr': 800, 'nE': 400, 'sigma_v': 2.2e-26, 'DM_model': 'model type- NFW; rho0- 0.43GeV/cm^3; gamma- 1.25; Scale Radius- 16.5kpc; ', 'Astrophysical Model': 'Andromeda1', 'Spherical Average': 'weighted_dl'}\n",
      "{'file_name': '0143_equillibrium_distribution_info.txt', 'mx': 30.6, 'D0': 3e+28, 'channel': 'bb_bar', 'nr': 800, 'nE': 400, 'sigma_v': 2.2e-26, 'DM_model': 'model type- NFW; rho0- 0.43GeV/cm^3; gamma- 1.25; Scale Radius- 16.5kpc; ', 'Astrophysical Model': 'Andromeda1', 'Spherical Average': 'weighted_dl'}\n",
      "{'file_name': '0146_equillibrium_distribution_info.txt', 'mx': 38.6, 'D0': 3e+28, 'channel': 'bb_bar', 'nr': 800, 'nE': 400, 'sigma_v': 2.2e-26, 'DM_model': 'model type- NFW; rho0- 0.43GeV/cm^3; gamma- 1.25; Scale Radius- 16.5kpc; ', 'Astrophysical Model': 'Andromeda1', 'Spherical Average': 'weighted_dl'}\n",
      "{'file_name': '0149_equillibrium_distribution_info.txt', 'mx': 48.8, 'D0': 3e+28, 'channel': 'bb_bar', 'nr': 800, 'nE': 400, 'sigma_v': 2.2e-26, 'DM_model': 'model type- NFW; rho0- 0.43GeV/cm^3; gamma- 1.25; Scale Radius- 16.5kpc; ', 'Astrophysical Model': 'Andromeda1', 'Spherical Average': 'weighted_dl'}\n"
     ]
    },
    {
     "name": "stdout",
     "output_type": "stream",
     "text": [
      "{'file_name': '0152_equillibrium_distribution_info.txt', 'mx': 61.5, 'D0': 3e+28, 'channel': 'bb_bar', 'nr': 800, 'nE': 400, 'sigma_v': 2.2e-26, 'DM_model': 'model type- NFW; rho0- 0.43GeV/cm^3; gamma- 1.25; Scale Radius- 16.5kpc; ', 'Astrophysical Model': 'Andromeda1', 'Spherical Average': 'weighted_dl'}\n",
      "{'file_name': '0155_equillibrium_distribution_info.txt', 'mx': 77.7, 'D0': 3e+28, 'channel': 'bb_bar', 'nr': 800, 'nE': 400, 'sigma_v': 2.2e-26, 'DM_model': 'model type- NFW; rho0- 0.43GeV/cm^3; gamma- 1.25; Scale Radius- 16.5kpc; ', 'Astrophysical Model': 'Andromeda1', 'Spherical Average': 'weighted_dl'}\n",
      "{'file_name': '0158_equillibrium_distribution_info.txt', 'mx': 98.0, 'D0': 3e+28, 'channel': 'bb_bar', 'nr': 800, 'nE': 400, 'sigma_v': 2.2e-26, 'DM_model': 'model type- NFW; rho0- 0.43GeV/cm^3; gamma- 1.25; Scale Radius- 16.5kpc; ', 'Astrophysical Model': 'Andromeda1', 'Spherical Average': 'weighted_dl'}\n",
      "{'file_name': '0161_equillibrium_distribution_info.txt', 'mx': 123.7, 'D0': 3e+28, 'channel': 'bb_bar', 'nr': 800, 'nE': 400, 'sigma_v': 2.2e-26, 'DM_model': 'model type- NFW; rho0- 0.43GeV/cm^3; gamma- 1.25; Scale Radius- 16.5kpc; ', 'Astrophysical Model': 'Andromeda1', 'Spherical Average': 'weighted_dl'}\n",
      "{'file_name': '0164_equillibrium_distribution_info.txt', 'mx': 156.1, 'D0': 3e+28, 'channel': 'bb_bar', 'nr': 800, 'nE': 400, 'sigma_v': 2.2e-26, 'DM_model': 'model type- NFW; rho0- 0.43GeV/cm^3; gamma- 1.25; Scale Radius- 16.5kpc; ', 'Astrophysical Model': 'Andromeda1', 'Spherical Average': 'weighted_dl'}\n",
      "{'file_name': '0167_equillibrium_distribution_info.txt', 'mx': 197.1, 'D0': 3e+28, 'channel': 'bb_bar', 'nr': 800, 'nE': 400, 'sigma_v': 2.2e-26, 'DM_model': 'model type- NFW; rho0- 0.43GeV/cm^3; gamma- 1.25; Scale Radius- 16.5kpc; ', 'Astrophysical Model': 'Andromeda1', 'Spherical Average': 'weighted_dl'}\n",
      "{'file_name': '0170_equillibrium_distribution_info.txt', 'mx': 248.7, 'D0': 3e+28, 'channel': 'bb_bar', 'nr': 800, 'nE': 400, 'sigma_v': 2.2e-26, 'DM_model': 'model type- NFW; rho0- 0.43GeV/cm^3; gamma- 1.25; Scale Radius- 16.5kpc; ', 'Astrophysical Model': 'Andromeda1', 'Spherical Average': 'weighted_dl'}\n",
      "{'file_name': '0173_equillibrium_distribution_info.txt', 'mx': 313.9, 'D0': 3e+28, 'channel': 'bb_bar', 'nr': 800, 'nE': 400, 'sigma_v': 2.2e-26, 'DM_model': 'model type- NFW; rho0- 0.43GeV/cm^3; gamma- 1.25; Scale Radius- 16.5kpc; ', 'Astrophysical Model': 'Andromeda1', 'Spherical Average': 'weighted_dl'}\n",
      "{'file_name': '0176_equillibrium_distribution_info.txt', 'mx': 396.2, 'D0': 3e+28, 'channel': 'bb_bar', 'nr': 800, 'nE': 400, 'sigma_v': 2.2e-26, 'DM_model': 'model type- NFW; rho0- 0.43GeV/cm^3; gamma- 1.25; Scale Radius- 16.5kpc; ', 'Astrophysical Model': 'Andromeda1', 'Spherical Average': 'weighted_dl'}\n",
      "{'file_name': '0179_equillibrium_distribution_info.txt', 'mx': 500.0, 'D0': 3e+28, 'channel': 'bb_bar', 'nr': 800, 'nE': 400, 'sigma_v': 2.2e-26, 'DM_model': 'model type- NFW; rho0- 0.43GeV/cm^3; gamma- 1.25; Scale Radius- 16.5kpc; ', 'Astrophysical Model': 'Andromeda1', 'Spherical Average': 'weighted_dl'}\n"
     ]
    }
   ],
   "source": [
    "run_list = mt.find_results(sig_type, astro_model='Andromeda1', spherical_ave=['unweighted', 'weighted_dl'], D0=D0_set_in)\n",
    "res_set = []\n",
    "mx_set_out = []\n",
    "D0_set_out = []\n",
    "sphericalave_out = []\n",
    "for run in run_list:\n",
    "    print(run)\n",
    "    mx_set_out.append(run['mx'])\n",
    "    D0_set_out.append(run['D0'])\n",
    "    sphericalave_out.append(run['Spherical Average'])\n",
    "    array_file_name = run['file_name'].split('_info')[0] + '.npy'\n",
    "    this_res = np.load(base_path + sig_types[sig_type] + '/' + array_file_name)\n",
    "    res_set.append(this_res)\n",
    "mx_set_out = np.array(mx_set_out)\n",
    "D0_set_out = np.array(D0_set_out)\n",
    "res_set = np.array(res_set)\n",
    "\n"
   ]
  },
  {
   "cell_type": "code",
   "execution_count": 14,
   "id": "6373c1ff",
   "metadata": {},
   "outputs": [
    {
     "data": {
      "text/plain": [
       "(40, 400, 800)"
      ]
     },
     "execution_count": 14,
     "metadata": {},
     "output_type": "execute_result"
    }
   ],
   "source": [
    "res_set.shape"
   ]
  },
  {
   "cell_type": "code",
   "execution_count": 68,
   "id": "eee7e5cd",
   "metadata": {},
   "outputs": [
    {
     "data": {
      "image/png": "[encoded data removed]",
      "text/plain": [
       "<Figure size 432x288 with 1 Axes>"
      ]
     },
     "metadata": {
      "needs_background": "light"
     },
     "output_type": "display_data"
    }
   ],
   "source": [
    "i_40gev = np.where(np.abs(mx_set_out-40)<5)[0]\n",
    "E = np.logspace(np.log10(me), np.log10(mx_set_out[i_40gev[0]]), nE+2)\n",
    "E = E[1:-1]\n",
    "int_maxr = int(np.max(np.where(r<35000)[0]))\n",
    "colors = ['k', 'b', 'g', 'r']\n",
    "styles = ['--', '-']\n",
    "jE = 95*np.linspace(1, 4, 4).astype(int)\n",
    "for j in range(len(jE)):\n",
    "    for i in range(len(i_40gev)):\n",
    "        if sphericalave_out[i_40gev[i]]=='weighted_dl':\n",
    "            label_str = r'$E = ' +latex_float(E[jE[j]], 2)+ r'\\; \\rm{GeV}$'\n",
    "        else:\n",
    "            label_str = '_nolegend_'\n",
    "        plt.plot(r[:int_maxr]/1000, res_set[i_40gev[i], jE[j], :int_maxr]/(r[:int_maxr]*cf.cm_per_pc**3), color=colors[j], linestyle=styles[i], label=label_str)\n",
    "plt.title(r'$m_\\chi = ' + str(mx_set_out[i_40gev[i]]) + r'\\;\\rm{GeV} ; \\; D_0 = ' + latex_float(D0_set_out[i_40gev[i]], 1) + r'\\; \\rm{cm^2/s}$' , size=13)\n",
    "plt.xlabel(r'$r \\;\\rm{(kpc)}$', size=16)\n",
    "plt.ylabel(r'$f_e \\; \\rm{(GeV^{-1} cm^{-3})}$', size=16)\n",
    "ax = plt.gca()\n",
    "ax.set_box_aspect(1)\n",
    "ax.set_ylim([1e-26, 1e-8])\n",
    "plt.legend()\n",
    "plt.yscale('log')\n",
    "plt.savefig(fig_path+'Equil_density_vs_E.pdf')"
   ]
  },
  {
   "cell_type": "code",
   "execution_count": 67,
   "id": "221c3266",
   "metadata": {},
   "outputs": [
    {
     "name": "stdout",
     "output_type": "stream",
     "text": [
      "E_target = 1.497775259348846\n"
     ]
    },
    {
     "data": {
      "image/png": "[encoded data removed]",
      "text/plain": [
       "<Figure size 432x288 with 1 Axes>"
      ]
     },
     "metadata": {
      "needs_background": "light"
     },
     "output_type": "display_data"
    }
   ],
   "source": [
    "ind_mx = np.array([np.arange(4, 17, 4), np.arange(24, 37, 4)])\n",
    "E40 = np.logspace(np.log10(me), np.log10(mx_set_out[i_40gev[0]]), nE+2)\n",
    "E_tar = E40[3*95]\n",
    "print('E_target = '+ str(E_tar))\n",
    "for i in range(ind_mx.shape[0]):\n",
    "    for j in range(len(ind_mx[i])):\n",
    "        if sphericalave_out[ind_mx[i,j]]=='weighted_dl':\n",
    "            label_str = r'$m_\\chi = ' +str(mx_set_out[ind_mx[i,j]])+ r'\\; \\rm{GeV}$'\n",
    "        else:\n",
    "            label_str = '_nolegend_'\n",
    "        E = np.logspace(np.log10(me), np.log10(mx_set_out[ind_mx[i,j]]), nE+2)\n",
    "        E = E[1:-1]\n",
    "        indE = np.where(np.abs(E-E_tar)== np.min(np.abs(E-E_tar)))[0][0]\n",
    "        plt.plot(r[:int_maxr]/1000, res_set[i_40gev[i], indE, :int_maxr]/(r[:int_maxr]*cf.cm_per_pc**3),\\\n",
    "                 color=colors[j], linestyle=styles[i], label=label_str)\n",
    "plt.title(r'$E = ' + latex_float(E_tar, 3) + r'\\; \\rm{GeV}; \\; D_0 = ' + latex_float(D0_set_out[i_40gev[i]], 1) + r'\\; \\rm{cm^2/s}$' , size=13)\n",
    "plt.xlabel(r'$r \\;\\rm{(kpc)}$', size=16)\n",
    "plt.ylabel(r'$f_e \\; \\rm{(GeV^{-1} cm^{-3})}$', size=16)\n",
    "plt.yscale('log')\n",
    "ax = plt.gca()\n",
    "ax.set_box_aspect(1)\n",
    "plt.legend()\n",
    "plt.savefig(fig_path+'Equil_density_vs_mx.pdf')"
   ]
  },
  {
   "cell_type": "code",
   "execution_count": 80,
   "id": "a05c785f",
   "metadata": {},
   "outputs": [
    {
     "name": "stdout",
     "output_type": "stream",
     "text": [
      "{'file_name': '0085_equillibrium_distribution_info.txt', 'mx': 38.6, 'D0': 3e+27, 'channel': 'bb_bar', 'nr': 800, 'nE': 400, 'sigma_v': 2.2e-26, 'DM_model': 'model type- NFW; rho0- 0.43GeV/cm^3; gamma- 1.25; Scale Radius- 16.5kpc; ', 'Astrophysical Model': 'Andromeda1', 'Spherical Average': 'unweighted'}\n",
      "{'file_name': '0086_equillibrium_distribution_info.txt', 'mx': 38.6, 'D0': 3e+28, 'channel': 'bb_bar', 'nr': 800, 'nE': 400, 'sigma_v': 2.2e-26, 'DM_model': 'model type- NFW; rho0- 0.43GeV/cm^3; gamma- 1.25; Scale Radius- 16.5kpc; ', 'Astrophysical Model': 'Andromeda1', 'Spherical Average': 'unweighted'}\n",
      "{'file_name': '0087_equillibrium_distribution_info.txt', 'mx': 38.6, 'D0': 3e+29, 'channel': 'bb_bar', 'nr': 800, 'nE': 400, 'sigma_v': 2.2e-26, 'DM_model': 'model type- NFW; rho0- 0.43GeV/cm^3; gamma- 1.25; Scale Radius- 16.5kpc; ', 'Astrophysical Model': 'Andromeda1', 'Spherical Average': 'unweighted'}\n",
      "{'file_name': '0145_equillibrium_distribution_info.txt', 'mx': 38.6, 'D0': 3e+27, 'channel': 'bb_bar', 'nr': 800, 'nE': 400, 'sigma_v': 2.2e-26, 'DM_model': 'model type- NFW; rho0- 0.43GeV/cm^3; gamma- 1.25; Scale Radius- 16.5kpc; ', 'Astrophysical Model': 'Andromeda1', 'Spherical Average': 'weighted_dl'}\n",
      "{'file_name': '0146_equillibrium_distribution_info.txt', 'mx': 38.6, 'D0': 3e+28, 'channel': 'bb_bar', 'nr': 800, 'nE': 400, 'sigma_v': 2.2e-26, 'DM_model': 'model type- NFW; rho0- 0.43GeV/cm^3; gamma- 1.25; Scale Radius- 16.5kpc; ', 'Astrophysical Model': 'Andromeda1', 'Spherical Average': 'weighted_dl'}\n",
      "{'file_name': '0147_equillibrium_distribution_info.txt', 'mx': 38.6, 'D0': 3e+29, 'channel': 'bb_bar', 'nr': 800, 'nE': 400, 'sigma_v': 2.2e-26, 'DM_model': 'model type- NFW; rho0- 0.43GeV/cm^3; gamma- 1.25; Scale Radius- 16.5kpc; ', 'Astrophysical Model': 'Andromeda1', 'Spherical Average': 'weighted_dl'}\n"
     ]
    }
   ],
   "source": [
    "D0_set_in = np.array([3e27, 3e28, 3e29])\n",
    "run_list = mt.find_results(sig_type, mx=mx_set_in[np.where(np.abs(mx_set_in-40)<5)[0][0]], astro_model='Andromeda1', spherical_ave=['unweighted', 'weighted_dl'], D0=D0_set_in)\n",
    "res_set = []\n",
    "mx_set_out = []\n",
    "D0_set_out = []\n",
    "sphericalave_out = []\n",
    "for run in run_list:\n",
    "    print(run)\n",
    "    mx_set_out.append(run['mx'])\n",
    "    D0_set_out.append(run['D0'])\n",
    "    sphericalave_out.append(run['Spherical Average'])\n",
    "    array_file_name = run['file_name'].split('_info')[0] + '.npy'\n",
    "    this_res = np.load(base_path + sig_types[sig_type] + '/' + array_file_name)\n",
    "    res_set.append(this_res)\n",
    "mx_set_out = np.array(mx_set_out)\n",
    "D0_set_out = np.array(D0_set_out)\n",
    "res_set = np.array(res_set)"
   ]
  },
  {
   "cell_type": "code",
   "execution_count": 81,
   "id": "ea936c8c",
   "metadata": {},
   "outputs": [
    {
     "data": {
      "image/png": "[encoded data removed]",
      "text/plain": [
       "<Figure size 432x288 with 1 Axes>"
      ]
     },
     "metadata": {
      "needs_background": "light"
     },
     "output_type": "display_data"
    }
   ],
   "source": [
    "E = np.logspace(np.log10(me), np.log10(mx_set_out[0]), nE+2)\n",
    "E[1:-1]\n",
    "Eind = 3*95\n",
    "E_tar = E[Eind]\n",
    "for D0, sph_ave, res in zip(D0_set_out, sphericalave_out, list(res_set)):\n",
    "    if sph_ave=='weighted_dl':\n",
    "        label_str = r'$D_0 = ' + latex_float(D0, 1) + r'\\; \\rm{cm^2/s}$'\n",
    "        line = '-'\n",
    "    else:\n",
    "        label_str = '_nolegend_'\n",
    "        line='--'\n",
    "    if D0==3e27:\n",
    "        c = colors[0]\n",
    "    elif D0==3e28:\n",
    "        c = colors[1]  \n",
    "    elif D0==3e29:\n",
    "        c = colors[2]\n",
    "    plt.plot(r[:int_maxr]/1000, res[Eind, :int_maxr]/(r[:int_maxr]*cf.cm_per_pc**3), color=c, linestyle=line, label=label_str)\n",
    "    \n",
    "plt.title(r'$E = ' + latex_float(E_tar, 3) + r'\\; \\rm{GeV}; \\; m_\\chi = ' + str(mx_set_out[0]) + r'\\; \\rm{GeV}$' , size=13)\n",
    "plt.xlabel(r'$r \\;\\rm{(kpc)}$', size=16)\n",
    "plt.ylabel(r'$f_e \\; \\rm{(GeV^{-1} cm^{-3})}$', size=16)\n",
    "plt.yscale('log')\n",
    "ax = plt.gca()\n",
    "ax.set_box_aspect(1)\n",
    "plt.legend()\n",
    "plt.savefig(fig_path+'Equil_density_vs_D0.pdf')"
   ]
  },
  {
   "cell_type": "code",
   "execution_count": 74,
   "id": "a53af294",
   "metadata": {},
   "outputs": [
    {
     "data": {
      "text/plain": [
       "numpy.ndarray"
      ]
     },
     "execution_count": 74,
     "metadata": {},
     "output_type": "execute_result"
    }
   ],
   "source": [
    "type(list(res_set)[0])"
   ]
  },
  {
   "cell_type": "code",
   "execution_count": 123,
   "id": "d79f1fc2",
   "metadata": {},
   "outputs": [],
   "source": [
    "def get_data_and_info(fits_path, fits_name):\n",
    "    #extract data and information about data\n",
    "    hdul = fits.open(fits_path+fits_name)\n",
    "    data_uJ = hdul[0].data[0]\n",
    "    data = data_uJ/1000 #mJ/beam\n",
    "    hdr = hdul[0].header\n",
    "    dlt_N_deg = abs(hdr['CDELT1'])\n",
    "    dlt_n_deg = abs(hdr['CDELT2'])\n",
    "    N = hdr['NAXIS1']\n",
    "    n = hdr['NAXIS2']\n",
    "    nu_data = hdr['CRVAL3']\n",
    "    nu_BW = hdr['CDELT3']\n",
    "    HPBW_deg = hdr['BMIN']\n",
    "    return data, dlt_N_deg, dlt_n_deg, N, n, HPBW_deg, nu_data, nu_BW \n",
    "\n",
    "def make_coords(N, n, dlt_N, dlt_n, loc='centered'):\n",
    "    if loc=='centered':\n",
    "        ax_N_unit = np.linspace(-(N-1)/2, (N-1)/2, N)\n",
    "        ax_n_unit = np.linspace(-(n-1)/2, (n-1)/2, n)\n",
    "    elif loc=='edges':\n",
    "        ax_N_unit = np.linspace(-N/2, N/2, N+1)\n",
    "        ax_n_unit = np.linspace(-n/2, n/2, n+1)\n",
    "    return dlt_N*ax_N_unit, dlt_n*ax_n_unit\n",
    "\n",
    "def gen_templates(run, nu, Omega_beam, ax_x=None, ax_y=None, test_conv=False):\n",
    "\n",
    "    #bring in variables from the run\n",
    "    txt_file_name = run['file_name']\n",
    "    nx = run['nx']\n",
    "    nnu = run['nnu']\n",
    "    ny = run['ny']\n",
    "    thxrange=run['thx_range']\n",
    "    thyrange=run['thy_range']\n",
    "    sigmav_bench = run['sigma_v']\n",
    "    nu_range = run['nu_range']\n",
    "    astro_model = run['Astrophysical Model']\n",
    "    am = __import__(astro_model)\n",
    "    \n",
    "    #process run variables\n",
    "    array_file_name = txt_file_name.split('_info')[0] + '.npy'\n",
    "    m = re.search('[0-9]{4}_', array_file_name)\n",
    "    out_type = array_file_name.split('.npy')[0].split(m.group(0))[-1]\n",
    "    \n",
    "    #set coordinates for synchrotron spectrum\n",
    "    nuv = np.logspace(np.log10(nu_range[0]), np.log10(nu_range[1]), nnu)\n",
    "    thx_full = np.linspace(-thxrange, thxrange, 2*nx)\n",
    "    thy_full = np.linspace(-thyrange, thyrange, 2*ny)\n",
    "    thxv = thx_full[nx:]\n",
    "    thyv = thy_full[ny:]\n",
    "    thx2d, thy2d = np.meshgrid(thxv, thyv)\n",
    "    thx3d = np.repeat(np.array([thx2d]), nnu, axis=0)\n",
    "    thy3d = np.repeat(np.array([thy2d]), nnu, axis=0)\n",
    "    nu3d = np.multiply.outer(nuv, np.ones((ny, nx)))\n",
    "    \n",
    "    #load synchrotron emission result\n",
    "    dSdnudOmega = np.load(base_path + out_type + '/' + array_file_name) #erg cm^-2 s^-1 Sr^-1\n",
    "    flux_beam = ((10**26/nu3d)*dSdnudOmega*Omega_beam).astype(np.float64)\n",
    "    #determine central fequency\n",
    "    ind_nu = np.where(np.min(np.abs(nuv-nu))==np.abs(nuv-nu))[0][0]\n",
    "    if test_conv:\n",
    "        #replace 0s with 1e-300\n",
    "        nu_fin_ind = nnu\n",
    "        #find max synch frequency index and extrapolate to rho=0\n",
    "        for i in range(flux_init.shape[0]):\n",
    "            zs = np.where(flux_init[i] == 0)\n",
    "            if len(zs[0]) == nx*ny:\n",
    "                nu_fin_ind = i #max frequency index + 1\n",
    "                break\n",
    "            else:\n",
    "                for iy, ix in zip(zs[0], zs[1]):\n",
    "                    flux_init[i, iy, ix] = 1e-300\n",
    "        #copy results of analysis into other quadrants\n",
    "        flux_init = flux_beam\n",
    "        flux_flipx = np.flip(flux_init, axis=2)\n",
    "        flux_new = np.concatenate((flux_flipx, flux_init), axis=2)\n",
    "        flux_flipy = np.flip(flux_new, axis=1)\n",
    "        flux = np.concatenate((flux_flipy, flux_new), axis=1)\n",
    "        \n",
    "        #Interpolate every frequency with respect to x and y\n",
    "        lnflux_interp = [interpolate.interp2d(thx_full, thy_full, np.log(f), kind='cubic') for f in flux]\n",
    "        \n",
    "        #Convolve with gaussian beam for a few pixels and all frequencies\n",
    "        #Interpolate with respect to nu for each spatial pixel that is computed at last step.\n",
    "        #Convolve with gaussian in frequency for each of these pixels\n",
    "        #Store x,y interpolation at the central frequency with a standard name\n",
    "    else:\n",
    "        #Do all of this for central frequency only\n",
    "        flux_init = flux_beam[ind_nu]\n",
    "        \n",
    "        #copy results of analysis into other quadrants\n",
    "        flux_flipx = np.flip(flux_init, axis=1)\n",
    "        flux_new = np.concatenate((flux_flipx, flux_init), axis=1)\n",
    "        flux_flipy = np.flip(flux_new, axis=0)\n",
    "        flux = np.concatenate((flux_flipy, flux_new), axis=0)\n",
    "        \n",
    "        #Interpolate with respect to x and y\n",
    "        lnflux_interp = interpolate.interp2d(thx_full, thy_full, np.log(flux), kind='cubic')\n",
    "        if ax_x is None:\n",
    "            return lnflux_interp\n",
    "        else:\n",
    "            return np.exp(lnflux_interp(ax_x, ax_y))\n",
    "        \n",
    "def sort_runs(mx_set, D0_set, args=None, rtrn='inds'):\n",
    "    D0_vals = np.sort(np.unique(D0_set))\n",
    "    ind_set = []\n",
    "    for D0_val in D0_vals:\n",
    "        ind_D0val = np.where(D0_set==D0_val)[0]\n",
    "        p_D0val = np.argsort(mx_set[ind_D0val])\n",
    "        ind_set.append(ind_D0val[p_D0val])\n",
    "    ind_set_tup = tuple(ind_set)\n",
    "    ind_full = np.hstack(ind_set_tup)\n",
    "    if rtrn == 'inds':\n",
    "        return ind_full\n",
    "    elif rtrn == 'arrs':\n",
    "        if args==None:\n",
    "            return mx_set[ind_full], D0_set[ind_full]\n",
    "        else:\n",
    "            return mx_set[ind_full], D0_set[ind_full], tuple(args[i][ind_full] for i in range(len(args)))"
   ]
  },
  {
   "cell_type": "code",
   "execution_count": 119,
   "id": "68e199ea",
   "metadata": {},
   "outputs": [
    {
     "name": "stdout",
     "output_type": "stream",
     "text": [
      "real data info extracted\n"
     ]
    }
   ],
   "source": [
    "#extract info about data\n",
    "data, dlt_N_deg, dlt_n_deg, N, n, HPBW_deg, nu_data, nu_BW = get_data_and_info(fits_path, fits_name)\n",
    "dlt_N = dlt_N_deg*np.pi/180\n",
    "dlt_n = dlt_n_deg*np.pi/180\n",
    "HPBW = HPBW_deg*np.pi/180\n",
    "sigma_BW = HPBW/(2*np.sqrt(2*np.log(2)))\n",
    "omega_beam = 2*np.pi*sigma_BW**2\n",
    "print('real data info extracted')\n",
    "\n",
    "#create coords for data\n",
    "ax_N, ax_n = make_coords(N, n, dlt_N, dlt_n)\n",
    "AX_N, AX_n = np.meshgrid(ax_N, ax_n)\n",
    "THETA = np.sqrt(AX_N**2+AX_n**2)\n",
    "sigma_rms = [0.25, 0.3]\n",
    "l = 2/3\n",
    "b = 2/3\n",
    "outside = np.logical_or(np.abs(AX_N)>(l/2)*np.pi/180, np.abs(AX_n)>(b/2)*np.pi/180)\n",
    "inside = np.logical_not(outside)\n",
    "noise = sigma_rms[-1]*outside + sigma_rms[0]*inside\n",
    "rl_mask = ''"
   ]
  },
  {
   "cell_type": "code",
   "execution_count": null,
   "id": "0d615bf1",
   "metadata": {},
   "outputs": [],
   "source": [
    "sigmav_bench = 2.2e-26\n",
    "mx_start = 6\n",
    "mx_stop = 500\n",
    "num_mx = 20\n",
    "sig_type = 2\n",
    "\n",
    "#make these be  in increasing order\n",
    "D0_set_in = np.array([3e28])\n",
    "mx_set_in = np.round(np.logspace(np.log10(mx_start), np.log10(mx_stop), num_mx), 1)"
   ]
  },
  {
   "cell_type": "code",
   "execution_count": 128,
   "id": "50437116",
   "metadata": {},
   "outputs": [
    {
     "name": "stdout",
     "output_type": "stream",
     "text": [
      "0.017\n",
      "0.017\n",
      "length of run_list:  2\n",
      "{'file_name': '0086_synchrotron_emission_info.txt', 'mx': 38.6, 'D0': 3e+28, 'channel': 'bb_bar', 'nr': 800, 'nE': 400, 'sigma_v': 2.2e-26, 'DM_model': 'model type- NFW; rho0- 0.43GeV/cm^3; gamma- 1.25; Scale Radius- 16.5kpc; ', 'Astrophysical Model': 'Andromeda1', 'Spherical Average': 'unweighted', 'nx': 58, 'ny': 20, 'nnu': 3, 'thx_range': 0.017, 'thy_range': 0.006, 'nu_range': [5050000000.0, 11650000000.0], 'nu_spacing': 'lin'}\n",
      "{'file_name': '0146_synchrotron_emission_info.txt', 'mx': 38.6, 'D0': 3e+28, 'channel': 'bb_bar', 'nr': 800, 'nE': 400, 'sigma_v': 2.2e-26, 'DM_model': 'model type- NFW; rho0- 0.43GeV/cm^3; gamma- 1.25; Scale Radius- 16.5kpc; ', 'Astrophysical Model': 'Andromeda1', 'Spherical Average': 'weighted_dl', 'nx': 58, 'ny': 20, 'nnu': 3, 'thx_range': 0.017, 'thy_range': 0.006, 'nu_range': [5050000000.0, 11650000000.0], 'nu_spacing': 'lin'}\n",
      "['unweighted', 'weighted_dl']\n"
     ]
    }
   ],
   "source": [
    "mx40 = mx_set_in[np.where(np.abs(mx_set_in-40)<5)[0][0]]\n",
    "#extract info of runs that match criteria\n",
    "run_list = mt.find_results(sig_type, astro_model='Andromeda1', spherical_ave=['weighted_dl', 'unweighted'], mx=mx40, D0=D0_set_in)\n",
    "num_runs = len(run_list)\n",
    "print('length of run_list: ', str(num_runs))\n",
    "sig_set = []\n",
    "mx_set_out = []\n",
    "D0_set_out = []\n",
    "sphericalave_out = []\n",
    "for run in run_list:\n",
    "    print(run)\n",
    "    mx_set_out.append(run['mx'])\n",
    "    D0_set_out.append(run['D0'])\n",
    "    sphericalave_out.append(run['Spherical Average'])\n",
    "    this_sig = gen_templates(run, nu_data, omega_beam)\n",
    "    sig_set.append(this_sig)\n",
    "mx_set_out = np.array(mx_set_out)\n",
    "D0_set_out = np.array(D0_set_out)\n",
    "print(sphericalave_out)\n",
    "#sort runs\n",
    "ind = sort_runs(mx_set_out, D0_set_out)\n",
    "mx_set_out = mx_set_out[ind]\n",
    "D0_set_out = D0_set_out[ind]\n",
    "sig_set = [sig_set[i] for i in ind]\n",
    "run_list = [run_list[i] for i in ind]\n",
    "sphericalave_out = [sphericalave_out[i] for i in ind]"
   ]
  },
  {
   "cell_type": "code",
   "execution_count": 109,
   "id": "47658a09",
   "metadata": {},
   "outputs": [
    {
     "name": "stdout",
     "output_type": "stream",
     "text": [
      "['unweighted', 'weighted_dl']\n",
      "[38.6 38.6]\n",
      "[3.e+28 3.e+28]\n"
     ]
    }
   ],
   "source": [
    "print(sphericalave_out)\n",
    "print(mx_set_out)\n",
    "print(D0_set_out)"
   ]
  },
  {
   "cell_type": "code",
   "execution_count": 133,
   "id": "8d4c9ed7",
   "metadata": {},
   "outputs": [
    {
     "data": {
      "image/png": "[encoded data removed]",
      "text/plain": [
       "<Figure size 432x288 with 1 Axes>"
      ]
     },
     "metadata": {
      "needs_background": "light"
     },
     "output_type": "display_data"
    }
   ],
   "source": [
    "DA=780\n",
    "thx_max_deg = 58/60\n",
    "thy_max_deg = 20/60\n",
    "thx_max = thx_max_deg*np.pi/180\n",
    "thy_max = thy_max_deg*np.pi/180\n",
    "thx = np.linspace(0, thx_max, 200)\n",
    "thy = np.linspace(0, thy_max, 100)\n",
    "indy45_end = int(np.max(np.where(thx<thy_max)[0]))\n",
    "thx_45 = thx[:indy45_end]\n",
    "thy_45 = thx[:indy45_end]\n",
    "ls = ['--', '-']\n",
    "colors = ['k', 'b', 'r']\n",
    "th_ar = [[thx, 0*thx], [thx_45, thy_45], [0*thy, thy]]\n",
    "phis= ['0', '\\pi/4', '\\pi/2']\n",
    "for sig, sphericalave, mx, D0, line in zip(sig_set, sphericalave_out, mx_set_out, D0_set_out, ls):\n",
    "    for th, c, phi in zip(th_ar, colors, phis):\n",
    "        sig_ar = np.array([np.exp(sig(x, y)) for x, y in zip(th[0], th[1])])\n",
    "        if sphericalave =='weighted_dl':\n",
    "            label_str = r'$\\phi = ' + phi + r' \\; \\rm{rad}$'\n",
    "        else:\n",
    "            label_str = '_nolegend_'\n",
    "        \n",
    "        plt.plot(np.sqrt(th[0]**2+th[1]**2)*DA, sig_ar, linestyle=line, color=c, label=label_str)\n",
    "\n",
    "plt.title(r'$m_\\chi = ' + str(mx40) + r'\\; \\rm{GeV}; \\; D_0 = ' + latex_float(D0_set_out[0], 1) + r'\\; \\rm{cm^2/s}$' , size=13)\n",
    "plt.xlabel(r'$\\rho \\;\\rm{(kpc)}$', size=16)\n",
    "plt.ylabel(r'$dS/(d\\omega) \\; \\rm{(mJy/beam)}$', size=16)\n",
    "plt.yscale('log')\n",
    "ax = plt.gca()\n",
    "ax.set_box_aspect(1)\n",
    "plt.legend()\n",
    "plt.savefig(fig_path+'sync_flux_vs_phi.pdf')"
   ]
  },
  {
   "cell_type": "code",
   "execution_count": 134,
   "id": "3f71173e",
   "metadata": {},
   "outputs": [],
   "source": [
    "sigmav_bench = 2.2e-26\n",
    "mx_start = 6\n",
    "mx_stop = 500\n",
    "num_mx = 20\n",
    "sig_type = 2\n",
    "\n",
    "#make these be  in increasing order\n",
    "D0_set_in = np.array([3e28])\n",
    "mx_set_in = np.round(np.logspace(np.log10(mx_start), np.log10(mx_stop), num_mx), 1)"
   ]
  },
  {
   "cell_type": "code",
   "execution_count": 139,
   "id": "9ec8d20a",
   "metadata": {},
   "outputs": [
    {
     "name": "stdout",
     "output_type": "stream",
     "text": [
      "0.017\n",
      "0.017\n",
      "0.017\n",
      "0.017\n",
      "0.017\n",
      "0.017\n",
      "0.017\n",
      "0.017\n",
      "length of run_list:  8\n",
      "{'file_name': '0074_synchrotron_emission_info.txt', 'mx': 15.2, 'D0': 3e+28, 'channel': 'bb_bar', 'nr': 800, 'nE': 400, 'sigma_v': 2.2e-26, 'DM_model': 'model type- NFW; rho0- 0.43GeV/cm^3; gamma- 1.25; Scale Radius- 16.5kpc; ', 'Astrophysical Model': 'Andromeda1', 'Spherical Average': 'unweighted', 'nx': 58, 'ny': 20, 'nnu': 3, 'thx_range': 0.017, 'thy_range': 0.006, 'nu_range': [5050000000.0, 11650000000.0], 'nu_spacing': 'lin'}\n",
      "{'file_name': '0086_synchrotron_emission_info.txt', 'mx': 38.6, 'D0': 3e+28, 'channel': 'bb_bar', 'nr': 800, 'nE': 400, 'sigma_v': 2.2e-26, 'DM_model': 'model type- NFW; rho0- 0.43GeV/cm^3; gamma- 1.25; Scale Radius- 16.5kpc; ', 'Astrophysical Model': 'Andromeda1', 'Spherical Average': 'unweighted', 'nx': 58, 'ny': 20, 'nnu': 3, 'thx_range': 0.017, 'thy_range': 0.006, 'nu_range': [5050000000.0, 11650000000.0], 'nu_spacing': 'lin'}\n",
      "{'file_name': '0098_synchrotron_emission_info.txt', 'mx': 98.0, 'D0': 3e+28, 'channel': 'bb_bar', 'nr': 800, 'nE': 400, 'sigma_v': 2.2e-26, 'DM_model': 'model type- NFW; rho0- 0.43GeV/cm^3; gamma- 1.25; Scale Radius- 16.5kpc; ', 'Astrophysical Model': 'Andromeda1', 'Spherical Average': 'unweighted', 'nx': 58, 'ny': 20, 'nnu': 3, 'thx_range': 0.017, 'thy_range': 0.006, 'nu_range': [5050000000.0, 11650000000.0], 'nu_spacing': 'lin'}\n",
      "{'file_name': '0110_synchrotron_emission_info.txt', 'mx': 248.7, 'D0': 3e+28, 'channel': 'bb_bar', 'nr': 800, 'nE': 400, 'sigma_v': 2.2e-26, 'DM_model': 'model type- NFW; rho0- 0.43GeV/cm^3; gamma- 1.25; Scale Radius- 16.5kpc; ', 'Astrophysical Model': 'Andromeda1', 'Spherical Average': 'unweighted', 'nx': 58, 'ny': 20, 'nnu': 3, 'thx_range': 0.017, 'thy_range': 0.006, 'nu_range': [5050000000.0, 11650000000.0], 'nu_spacing': 'lin'}\n",
      "{'file_name': '0134_synchrotron_emission_info.txt', 'mx': 15.2, 'D0': 3e+28, 'channel': 'bb_bar', 'nr': 800, 'nE': 400, 'sigma_v': 2.2e-26, 'DM_model': 'model type- NFW; rho0- 0.43GeV/cm^3; gamma- 1.25; Scale Radius- 16.5kpc; ', 'Astrophysical Model': 'Andromeda1', 'Spherical Average': 'weighted_dl', 'nx': 58, 'ny': 20, 'nnu': 3, 'thx_range': 0.017, 'thy_range': 0.006, 'nu_range': [5050000000.0, 11650000000.0], 'nu_spacing': 'lin'}\n",
      "{'file_name': '0146_synchrotron_emission_info.txt', 'mx': 38.6, 'D0': 3e+28, 'channel': 'bb_bar', 'nr': 800, 'nE': 400, 'sigma_v': 2.2e-26, 'DM_model': 'model type- NFW; rho0- 0.43GeV/cm^3; gamma- 1.25; Scale Radius- 16.5kpc; ', 'Astrophysical Model': 'Andromeda1', 'Spherical Average': 'weighted_dl', 'nx': 58, 'ny': 20, 'nnu': 3, 'thx_range': 0.017, 'thy_range': 0.006, 'nu_range': [5050000000.0, 11650000000.0], 'nu_spacing': 'lin'}\n",
      "{'file_name': '0158_synchrotron_emission_info.txt', 'mx': 98.0, 'D0': 3e+28, 'channel': 'bb_bar', 'nr': 800, 'nE': 400, 'sigma_v': 2.2e-26, 'DM_model': 'model type- NFW; rho0- 0.43GeV/cm^3; gamma- 1.25; Scale Radius- 16.5kpc; ', 'Astrophysical Model': 'Andromeda1', 'Spherical Average': 'weighted_dl', 'nx': 58, 'ny': 20, 'nnu': 3, 'thx_range': 0.017, 'thy_range': 0.006, 'nu_range': [5050000000.0, 11650000000.0], 'nu_spacing': 'lin'}\n",
      "{'file_name': '0170_synchrotron_emission_info.txt', 'mx': 248.7, 'D0': 3e+28, 'channel': 'bb_bar', 'nr': 800, 'nE': 400, 'sigma_v': 2.2e-26, 'DM_model': 'model type- NFW; rho0- 0.43GeV/cm^3; gamma- 1.25; Scale Radius- 16.5kpc; ', 'Astrophysical Model': 'Andromeda1', 'Spherical Average': 'weighted_dl', 'nx': 58, 'ny': 20, 'nnu': 3, 'thx_range': 0.017, 'thy_range': 0.006, 'nu_range': [5050000000.0, 11650000000.0], 'nu_spacing': 'lin'}\n",
      "['unweighted', 'unweighted', 'unweighted', 'unweighted', 'weighted_dl', 'weighted_dl', 'weighted_dl', 'weighted_dl']\n"
     ]
    }
   ],
   "source": [
    "b = np.logical_or(np.logical_or(np.abs(mx_set_in-15)<2.5, np.abs(mx_set_in-40)<2.5), np.logical_or(np.abs(mx_set_in-100)<2.5, np.abs(mx_set_in-250)<2.5))\n",
    "mx_in = mx_set_in[np.where(b)[0]]\n",
    "#extract info of runs that match criteria\n",
    "run_list = mt.find_results(sig_type, astro_model='Andromeda1', spherical_ave=['weighted_dl', 'unweighted'], mx=mx_in, D0=D0_set_in)\n",
    "num_runs = len(run_list)\n",
    "print('length of run_list: ', str(num_runs))\n",
    "sig_set = []\n",
    "mx_set_out = []\n",
    "D0_set_out = []\n",
    "sphericalave_out = []\n",
    "for run in run_list:\n",
    "    print(run)\n",
    "    mx_set_out.append(run['mx'])\n",
    "    D0_set_out.append(run['D0'])\n",
    "    sphericalave_out.append(run['Spherical Average'])\n",
    "    this_sig = gen_templates(run, nu_data, omega_beam)\n",
    "    sig_set.append(this_sig)\n",
    "mx_set_out = np.array(mx_set_out)\n",
    "D0_set_out = np.array(D0_set_out)\n",
    "print(sphericalave_out)\n",
    "#sort runs\n",
    "ind = sort_runs(mx_set_out, D0_set_out)\n",
    "mx_set_out = mx_set_out[ind]\n",
    "D0_set_out = D0_set_out[ind]\n",
    "sig_set = [sig_set[i] for i in ind]\n",
    "run_list = [run_list[i] for i in ind]\n",
    "sphericalave_out = [sphericalave_out[i] for i in ind]"
   ]
  },
  {
   "cell_type": "code",
   "execution_count": 136,
   "id": "468b52c3",
   "metadata": {},
   "outputs": [
    {
     "data": {
      "text/plain": [
       "array([  6. ,   7.6,   9.6,  12.1,  15.2,  19.2,  24.3,  30.6,  38.6,\n",
       "        48.8,  61.5,  77.7,  98. , 123.7, 156.1, 197.1, 248.7, 313.9,\n",
       "       396.2, 500. ])"
      ]
     },
     "execution_count": 136,
     "metadata": {},
     "output_type": "execute_result"
    }
   ],
   "source": [
    "DA=780\n",
    "thx_max_deg = 58/60\n",
    "thx_max = thx_max_deg*np.pi/180\n",
    "thx = np.linspace(0, thx_max, 200)\n",
    "ls = ['--', '-']\n",
    "colors = ['k', 'b', 'g', 'r']\n",
    "th = [thx, 0*thx]\n",
    "for sig, sphericalave, mx, D0 in zip(sig_set, sphericalave_out, mx_set_out, D0_set_out):\n",
    "    if sphericalave=='weighted_dl':\n",
    "        label_str = r'$m_\\chi = ' +  + r' \\; \\rm{rad}$'\n",
    "    else:\n",
    "        label_str = '_nolegend_'"
   ]
  },
  {
   "cell_type": "code",
   "execution_count": null,
   "id": "5efbd200",
   "metadata": {},
   "outputs": [],
   "source": []
  }
 ],
 "metadata": {
  "kernelspec": {
   "display_name": "Python 3",
   "language": "python",
   "name": "python3"
  },
  "language_info": {
   "codemirror_mode": {
    "name": "ipython",
    "version": 3
   },
   "file_extension": ".py",
   "mimetype": "text/x-python",
   "name": "python",
   "nbconvert_exporter": "python",
   "pygments_lexer": "ipython3",
   "version": "3.7.10"
  }
 },
 "nbformat": 4,
 "nbformat_minor": 5
}
