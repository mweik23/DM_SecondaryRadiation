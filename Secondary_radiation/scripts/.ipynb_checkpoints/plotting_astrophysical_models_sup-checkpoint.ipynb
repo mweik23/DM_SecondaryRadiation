{
 "cells": [
  {
   "cell_type": "code",
   "execution_count": 1,
   "id": "b9c180a7",
   "metadata": {},
   "outputs": [],
   "source": [
    "import matplotlib.pyplot as plt\n",
    "import numpy as np\n",
    "import os"
   ]
  },
  {
   "cell_type": "code",
   "execution_count": 2,
   "id": "0f493006",
   "metadata": {},
   "outputs": [],
   "source": [
    "this_path = os.getcwd()\n",
    "base_path = this_path.split('scripts')[0]\n",
    "array_path = base_path+'fig_arrays/'\n",
    "model_funcs_path = base_path + 'funcs+params_Andromeda5/'"
   ]
  },
  {
   "cell_type": "code",
   "execution_count": 3,
   "id": "c8e6e0ea",
   "metadata": {},
   "outputs": [],
   "source": [
    "#HI Gas\n",
    "tex_label = 'HI_gas'\n",
    "H1_params = np.load(model_funcs_path + 'H1_params.npy')\n",
    "H1_interp = np.load(model_funcs_path + 'H1_interp.npy', allow_pickle=True)[()]\n",
    "R_bounds = np.load(model_funcs_path + 'H1_bounds.npy')\n",
    "H1_coef = np.load(model_funcs_path + 'H1_coef.npy')[0]\n",
    "def H1_extrap(R):\n",
    "    b0 = R<R_bounds[0]\n",
    "    b1 = R>R_bounds[-1]\n",
    "    return b0*H1_params[0,0]*np.exp(b0*R/H1_params[0,1]) + H1_interp(R) + b1*H1_params[1,0]*np.exp(-(R*b1)/H1_params[1,1])\n",
    "R_grid = np.linspace(0, 50, 1000)\n",
    "H1_disk = H1_extrap(R_grid)\n",
    "H1_disk_density = H1_disk*H1_coef\n",
    "np.save(array_path + tex_label + '__R.npy', R_grid)\n",
    "np.save(array_path + tex_label + '__disk.npy', H1_disk)\n",
    "np.save(array_path + tex_label + '__disk_density.npy', H1_disk_density)"
   ]
  },
  {
   "cell_type": "code",
   "execution_count": 4,
   "id": "b212835c",
   "metadata": {},
   "outputs": [],
   "source": [
    "#H2 Gas\n",
    "tex_label = 'H2_gas'\n",
    "H2_params = np.load(model_funcs_path + 'H2_params.npy')\n",
    "H2_interp = np.load(model_funcs_path + 'H2_interp.npy', allow_pickle=True)[()]\n",
    "R_bounds2 = np.load(model_funcs_path + 'H2_bounds.npy')\n",
    "H2_coef = np.load(model_funcs_path + 'H2_coef.npy')[0]\n",
    "def H2_extrap(R):\n",
    "    b0 = R<R_bounds2[0]\n",
    "    b1 = R>R_bounds2[-1]\n",
    "    return b0*H2_params[0,0]*np.exp(b0*R/H2_params[0,1]) + H2_interp(R) + b1*H2_params[1,0]*np.exp(-(R*b1)/H2_params[1,1])\n",
    "\n",
    "H2_disk = H2_extrap(R_grid)\n",
    "H2_disk_density = H2_disk*H2_coef\n",
    "\n",
    "np.save(array_path + tex_label + '__R.npy', R_grid)\n",
    "np.save(array_path + tex_label + '__disk.npy', H2_disk)\n",
    "np.save(array_path + tex_label + '__disk_density.npy', H2_disk_density)\n"
   ]
  },
  {
   "cell_type": "code",
   "execution_count": null,
   "id": "6f0b40fb",
   "metadata": {},
   "outputs": [],
   "source": []
  }
 ],
 "metadata": {
  "kernelspec": {
   "display_name": "Python 3",
   "language": "python",
   "name": "python3"
  },
  "language_info": {
   "codemirror_mode": {
    "name": "ipython",
    "version": 3
   },
   "file_extension": ".py",
   "mimetype": "text/x-python",
   "name": "python",
   "nbconvert_exporter": "python",
   "pygments_lexer": "ipython3",
   "version": "3.7.10"
  }
 },
 "nbformat": 4,
 "nbformat_minor": 5
}
