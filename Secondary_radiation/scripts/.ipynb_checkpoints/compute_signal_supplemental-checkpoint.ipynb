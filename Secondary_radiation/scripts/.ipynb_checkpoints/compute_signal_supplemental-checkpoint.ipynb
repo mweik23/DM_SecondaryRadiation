{
 "cells": [
  {
   "cell_type": "code",
   "execution_count": 1,
   "id": "dd38e425",
   "metadata": {},
   "outputs": [],
   "source": [
    "import numpy as np\n",
    "import matplotlib.pyplot as plt\n",
    "import manipulate_text as mt\n",
    "import os\n",
    "from astropy.io import fits\n",
    "import re\n",
    "from scipy.interpolate import interp2d"
   ]
  },
  {
   "cell_type": "code",
   "execution_count": 2,
   "id": "53caa865",
   "metadata": {},
   "outputs": [],
   "source": [
    "this_path = os.getcwd()\n",
    "base_path = this_path.split('scripts')[0]\n",
    "array_path = base_path+'fig_arrays/'\n",
    "astro_model = 'Andromeda5'\n",
    "fits_path = base_path.split('Secondary_radiation')[0] + 'synchrotron_data/'\n",
    "fits_name = 'm31cm3nthnew.ss.90sec.fits'"
   ]
  },
  {
   "cell_type": "code",
   "execution_count": 102,
   "id": "502c2f23",
   "metadata": {},
   "outputs": [],
   "source": [
    "def get_data_and_info(fits_path, fits_name):\n",
    "    #extract data and information about data\n",
    "    hdul = fits.open(fits_path+fits_name)\n",
    "    data_uJ = hdul[0].data[0]\n",
    "    data = data_uJ/1000 #mJ/beam\n",
    "    hdr = hdul[0].header\n",
    "    dlt_N_deg = abs(hdr['CDELT1'])\n",
    "    dlt_n_deg = abs(hdr['CDELT2'])\n",
    "    N = hdr['NAXIS1']\n",
    "    n = hdr['NAXIS2']\n",
    "    nu_data = hdr['CRVAL3']\n",
    "    nu_BW = hdr['CDELT3']\n",
    "    HPBW_deg = hdr['BMIN']\n",
    "    return data, dlt_N_deg, dlt_n_deg, N, n, HPBW_deg, nu_data, nu_BW \n",
    "\n",
    "def make_coords(N, n, dlt_N, dlt_n, loc='centered'):\n",
    "    if loc=='centered':\n",
    "        ax_N_unit = np.linspace(-(N-1)/2, (N-1)/2, N)\n",
    "        ax_n_unit = np.linspace(-(n-1)/2, (n-1)/2, n)\n",
    "    elif loc=='edges':\n",
    "        ax_N_unit = np.linspace(-N/2, N/2, N+1)\n",
    "        ax_n_unit = np.linspace(-n/2, n/2, n+1)\n",
    "    return dlt_N*ax_N_unit, dlt_n*ax_n_unit\n",
    "\n",
    "def gen_templates(run, nu, Omega_beam, AX_N, AX_n, test_conv=False):\n",
    "    #get shape of map\n",
    "    n, N = AX_N.shape\n",
    "    \n",
    "    #bring in variables from the run\n",
    "    txt_file_name = run['file_name']\n",
    "    nx = run['nx']\n",
    "    nnu = run['nnu']\n",
    "    ny = run['ny']\n",
    "    thxrange=run['thx_range']\n",
    "    thyrange=run['thy_range']\n",
    "    sigmav_bench = run['sigma_v']\n",
    "    nu_range = run['nu_range']\n",
    "    astro_model = run['Astrophysical Model']\n",
    "    #am = __import__(astro_model)\n",
    "    \n",
    "    #process run variables\n",
    "    array_file_name = txt_file_name.split('_info')[0] + '.npy'\n",
    "    m = re.search('[0-9]{4}_', array_file_name)\n",
    "    out_type = array_file_name.split('.npy')[0].split(m.group(0))[-1]\n",
    "    \n",
    "    #set coordinates for synchrotron spectrum\n",
    "    nuv = np.logspace(np.log10(nu_range[0]), np.log10(nu_range[1]), nnu)\n",
    "    thx_full = np.linspace(-thxrange, thxrange, 2*nx)\n",
    "    thy_full = np.linspace(-thyrange, thyrange, 2*ny)\n",
    "    thxv = thx_full[nx:]\n",
    "    thyv = thy_full[ny:]\n",
    "    thx2d, thy2d = np.meshgrid(thxv, thyv)\n",
    "    thx3d = np.repeat(np.array([thx2d]), nnu, axis=0)\n",
    "    thy3d = np.repeat(np.array([thy2d]), nnu, axis=0)\n",
    "    nu3d = np.multiply.outer(nuv, np.ones((ny, nx)))\n",
    "    \n",
    "    #load synchrotron emission result\n",
    "    dSdnudOmega = np.load(base_path + out_type + '/' + array_file_name) #erg cm^-2 s^-1 Sr^-1\n",
    "    flux_beam = ((10**26/nu3d)*dSdnudOmega*Omega_beam).astype(np.float64)\n",
    "    \n",
    "    #determine central fequency\n",
    "    ind_nu = np.where(np.min(np.abs(nuv-nu))==np.abs(nuv-nu))[0][0]\n",
    "    if test_conv:\n",
    "        #replace 0s with 1e-300\n",
    "        nu_fin_ind = nnu\n",
    "        #find max synch frequency index and extrapolate to rho=0\n",
    "        for i in range(flux_init.shape[0]):\n",
    "            zs = np.where(flux_init[i] == 0)\n",
    "            if len(zs[0]) == nx*ny:\n",
    "                nu_fin_ind = i #max frequency index + 1\n",
    "                break\n",
    "            else:\n",
    "                for iy, ix in zip(zs[0], zs[1]):\n",
    "                    flux_init[i, iy, ix] = 1e-300\n",
    "        #copy results of analysis into other quadrants\n",
    "        flux_init = flux_beam\n",
    "        flux_flipx = np.flip(flux_init, axis=2)\n",
    "        flux_new = np.concatenate((flux_flipx, flux_init), axis=2)\n",
    "        flux_flipy = np.flip(flux_new, axis=1)\n",
    "        flux = np.concatenate((flux_flipy, flux_new), axis=1)\n",
    "        \n",
    "        #Interpolate every frequency with respect to x and y\n",
    "        lnflux_interp = [interp2d(thx_full, thy_full, np.log(f), kind='cubic') for f in flux]\n",
    "        \n",
    "        #Convolve with gaussian beam for a few pixels and all frequencies\n",
    "        #Interpolate with respect to nu for each spatial pixel that is computed at last step.\n",
    "        #Convolve with gaussian in frequency for each of these pixels\n",
    "        #Store x,y interpolation at the central frequency with a standard name\n",
    "    else:\n",
    "        #Do all of this for central frequency only\n",
    "        flux_init = flux_beam[ind_nu]\n",
    "        \n",
    "        #copy results of analysis into other quadrants\n",
    "        flux_flipx = np.flip(flux_init, axis=1)\n",
    "        flux_new = np.concatenate((flux_flipx, flux_init), axis=1)\n",
    "        flux_flipy = np.flip(flux_new, axis=0)\n",
    "        flux = np.concatenate((flux_flipy, flux_new), axis=0)\n",
    "        \n",
    "        #Interpolate with respect to x and y\n",
    "        lnflux_interp = interp2d(thx_full, thy_full, np.log(flux), kind='cubic')\n",
    "    return np.exp(lnflux_interp(AX_N[0], AX_n[:, 0]))\n",
    "\n",
    "def order_indices(out_vars):\n",
    "    num_vars = len(out_vars)\n",
    "    #print('num_vars: ', num_vars)\n",
    "    num_results = len(out_vars[0])\n",
    "    #print('num_results: ', num_results)\n",
    "    var_options = [np.unique(out_var) if type(out_var[0])==str else np.sort(np.unique(out_var)) for out_var in out_vars]\n",
    "    #print('var_options: ', var_options)\n",
    "    num_options = [len(var_opt) for var_opt in var_options]\n",
    "    #print('num_options: ', num_options)\n",
    "    rank_sets = [[np.where(var_option==ov)[0][0] for ov in out_var] for var_option, out_var in zip(var_options, out_vars)] \n",
    "    #print('rank_sets', rank_sets)\n",
    "    ranking = np.array([int(''.join([str(rank_sets[i][j]).zfill(int(np.floor(np.log10(num_options[i])))+1) for i in range(num_vars)])) for j in range(num_results)])\n",
    "    #print(ranking)\n",
    "    return np.argsort(ranking)\n",
    "\n",
    "def get_labels(run_list, out_var_names):\n",
    "    labels = tuple((np.array([run[name] for run in run_list]) for name in out_var_names))\n",
    "    return labels\n",
    "\n",
    "def order_output(outvar_names, signal_temps, run_list):\n",
    "    outvars = get_labels(run_list, outvar_names)\n",
    "    inds = order_indices(outvars)\n",
    "    outvars = [ov[inds] for ov in outvars]\n",
    "    signal_temps = signal_temps[inds]\n",
    "    return signal_temps, outvars\n",
    "\n",
    "def load_eq_dist(run, base_path):\n",
    "    path = base_path + 'equillibrium_distribution/'\n",
    "    array_name = run['file_name'].split('_info')[0] + '.npy'\n",
    "    file_path = path + array_name\n",
    "    return np.load(file_path)\n",
    "\n",
    "def reshape_array_set(outvars, signal_temps):\n",
    "    template_sh = signal_temps[0].shape\n",
    "    nums = tuple((len(np.unique(var)) for var in outvars))\n",
    "    len_nums = len(nums)\n",
    "    new_shape = tuple((nums[i] if i<len_nums else template_sh[i-len_nums] for i in range(len_nums+2)))\n",
    "    signal_temps = signal_temps.reshape(new_shape)\n",
    "    return signal_temps"
   ]
  },
  {
   "cell_type": "code",
   "execution_count": 34,
   "id": "695bf495",
   "metadata": {},
   "outputs": [
    {
     "name": "stdout",
     "output_type": "stream",
     "text": [
      "real data info extracted\n"
     ]
    }
   ],
   "source": [
    "data, dlt_N_deg, dlt_n_deg, N, n, HPBW_deg, nu_data, nu_BW = get_data_and_info(fits_path, fits_name)\n",
    "dlt_N = dlt_N_deg*np.pi/180\n",
    "dlt_n = dlt_n_deg*np.pi/180\n",
    "HPBW = HPBW_deg*np.pi/180\n",
    "sigma_BW = HPBW/(2*np.sqrt(2*np.log(2)))\n",
    "omega_beam = 2*np.pi*sigma_BW**2\n",
    "print('real data info extracted')\n",
    "#create coords for data\n",
    "ax_N, ax_n = make_coords(N, n, dlt_N, dlt_n)\n",
    "AX_N, AX_n = np.meshgrid(ax_N, ax_n)\n",
    "THETA = np.sqrt(AX_N**2+AX_n**2)\n",
    "sigma_rms = [0.25, 0.3]\n",
    "l = 2/3\n",
    "b = 2/3\n",
    "outside = np.logical_or(np.abs(AX_N)>(l/2)*np.pi/180, np.abs(AX_n)>(b/2)*np.pi/180)\n",
    "inside = np.logical_not(outside)\n",
    "noise = sigma_rms[-1]*outside + sigma_rms[0]*inside\n",
    "rl_mask = ''"
   ]
  },
  {
   "cell_type": "code",
   "execution_count": 35,
   "id": "c991157e",
   "metadata": {},
   "outputs": [],
   "source": [
    "sph_avgs = ['weighted_dl']\n",
    "D0 = [5e27, 1.1e28, 5e28, 2e29]\n",
    "mx_st = 6\n",
    "mx_end = 500\n",
    "num_mx = 20\n",
    "mx = np.round(np.logspace(np.log10(mx_st), np.log10(mx_end), num_mx), 1)"
   ]
  },
  {
   "cell_type": "code",
   "execution_count": 105,
   "id": "606a7072",
   "metadata": {},
   "outputs": [
    {
     "name": "stdout",
     "output_type": "stream",
     "text": [
      "number of runs:  80\n",
      "{'file_name': '0521_equillibrium_distribution_info.txt', 'mx': 6.0, 'channel': 'bb_bar', 'D0': 5e+27, 'nr': 800, 'nE': 400, 'sigma_v': 2.2e-26, 'DM_model': 'model type- NFW; rho0- 0.418GeV/cm^3; gamma- 1; Scale Radius- 16.5kpc; ', 'Astrophysical Model': 'Andromeda5', 'Spherical Average': 'weighted_dl'}\n",
      "(1, 4, 20, 400, 800)\n"
     ]
    },
    {
     "data": {
      "text/plain": [
       "\"\\nu_set = np.load\\nrr, EE, dr, dE = mv.grid(mv.nr+3, mv.nE+2, [0, rmax], [cf.me, mx], E_spacing='log')\\nrr = rr[1:-1, 1:-2]\\nEE = EE[1:-1, 1:-2]\\nfe = pr.smooth_fe([rr, EE, u])\\n\""
      ]
     },
     "execution_count": 105,
     "metadata": {},
     "output_type": "execute_result"
    }
   ],
   "source": [
    "run_list = mt.find_results(1, astro_model=astro_model, spherical_ave=sph_avgs, D0=D0, mx=mx)\n",
    "print('number of runs: ', len(run_list))\n",
    "print(run_list[0])\n",
    "u = np.array([load_eq_dist(run, base_path) for run in run_list])\n",
    "outvar_names = ['Spherical Average' ,'D0', 'mx']\n",
    "u, outvars = order_output(outvar_names, u, run_list)\n",
    "u = reshape_array_set(outvars, u)\n",
    "print(u.shape)\n",
    "'''\n",
    "u_set = np.load\n",
    "rr, EE, dr, dE = mv.grid(mv.nr+3, mv.nE+2, [0, rmax], [cf.me, mx], E_spacing='log')\n",
    "rr = rr[1:-1, 1:-2]\n",
    "EE = EE[1:-1, 1:-2]\n",
    "fe = pr.smooth_fe([rr, EE, u])\n",
    "'''"
   ]
  },
  {
   "cell_type": "code",
   "execution_count": 103,
   "id": "8d5de96d",
   "metadata": {},
   "outputs": [
    {
     "name": "stdout",
     "output_type": "stream",
     "text": [
      "number of runs:  80\n",
      "(1, 4, 20, 155, 441)\n"
     ]
    }
   ],
   "source": [
    "#synchrotron\n",
    "run_list = mt.find_results(2, astro_model=astro_model, spherical_ave=sph_avgs, D0=D0, mx=mx)\n",
    "print('number of runs: ', len(run_list))\n",
    "signal_temps = np.array([gen_templates(run, nu_data, omega_beam, AX_N, AX_n) for run in run_list])\n",
    "outvar_names = ['Spherical Average' ,'D0', 'mx']\n",
    "signal_temps, outvars = order_output(outvar_names, signal_temps, run_list)\n",
    "signal_temps = reshape_array_set(outvars, signal_temps)\n",
    "print(signal_temps.shape)"
   ]
  },
  {
   "cell_type": "code",
   "execution_count": 104,
   "id": "f8d6f7c7",
   "metadata": {},
   "outputs": [
    {
     "data": {
      "text/plain": [
       "<matplotlib.colorbar.Colorbar at 0x7f467fe1ca50>"
      ]
     },
     "execution_count": 104,
     "metadata": {},
     "output_type": "execute_result"
    },
    {
     "data": {
      "image/png": "[encoded data removed]",
      "text/plain": [
       "<Figure size 432x288 with 2 Axes>"
      ]
     },
     "metadata": {
      "needs_background": "light"
     },
     "output_type": "display_data"
    }
   ],
   "source": [
    "plt.imshow(signal_temps[0, 1, 8, :, :])\n",
    "plt.colorbar(orientation='horizontal')"
   ]
  },
  {
   "cell_type": "code",
   "execution_count": 48,
   "id": "6e6ddd05",
   "metadata": {},
   "outputs": [
    {
     "data": {
      "text/plain": [
       "(array([], dtype=int64),)"
      ]
     },
     "execution_count": 48,
     "metadata": {},
     "output_type": "execute_result"
    }
   ],
   "source": [
    "a = ['a', 'a', 'b', 'b']\n",
    "np.where(a=='a')"
   ]
  },
  {
   "cell_type": "code",
   "execution_count": 59,
   "id": "4428942a",
   "metadata": {},
   "outputs": [
    {
     "name": "stdout",
     "output_type": "stream",
     "text": [
      "[ 0  4  8 12 16 20 24 28 32 36 40 44 48 52 56 60 64 68 72 76  1  5  9 13\n",
      " 17 21 25 29 33 37 41 45 49 53 57 61 65 69 73 77  2  6 10 14 18 22 26 30\n",
      " 34 38 42 46 50 54 58 62 66 70 74 78  3  7 11 15 19 23 27 31 35 39 43 47\n",
      " 51 55 59 63 67 71 75 79]\n"
     ]
    },
    {
     "ename": "TypeError",
     "evalue": "only integer scalar arrays can be converted to a scalar index",
     "output_type": "error",
     "traceback": [
      "\u001b[0;31m---------------------------------------------------------------------------\u001b[0m",
      "\u001b[0;31mTypeError\u001b[0m                                 Traceback (most recent call last)",
      "\u001b[0;32m<ipython-input-59-dbdc669e79e8>\u001b[0m in \u001b[0;36m<module>\u001b[0;34m\u001b[0m\n\u001b[1;32m      1\u001b[0m \u001b[0minds\u001b[0m \u001b[0;34m=\u001b[0m \u001b[0minds\u001b[0m\u001b[0;34m.\u001b[0m\u001b[0mastype\u001b[0m\u001b[0;34m(\u001b[0m\u001b[0mint\u001b[0m\u001b[0;34m)\u001b[0m\u001b[0;34m\u001b[0m\u001b[0;34m\u001b[0m\u001b[0m\n\u001b[1;32m      2\u001b[0m \u001b[0mprint\u001b[0m\u001b[0;34m(\u001b[0m\u001b[0minds\u001b[0m\u001b[0;34m)\u001b[0m\u001b[0;34m\u001b[0m\u001b[0;34m\u001b[0m\u001b[0m\n\u001b[0;32m----> 3\u001b[0;31m \u001b[0mmx_set\u001b[0m\u001b[0;34m[\u001b[0m\u001b[0minds\u001b[0m\u001b[0;34m]\u001b[0m\u001b[0;34m\u001b[0m\u001b[0;34m\u001b[0m\u001b[0m\n\u001b[0m",
      "\u001b[0;31mTypeError\u001b[0m: only integer scalar arrays can be converted to a scalar index"
     ]
    }
   ],
   "source": [
    "inds = inds.astype(int)\n",
    "print(inds)\n",
    "mx_set[inds]"
   ]
  },
  {
   "cell_type": "code",
   "execution_count": 48,
   "id": "a01b7638",
   "metadata": {},
   "outputs": [
    {
     "name": "stdout",
     "output_type": "stream",
     "text": [
      "[0, 0, 1, 0, 0]\n"
     ]
    }
   ],
   "source": [
    "I = [0]*5\n",
    "I[2] = 1\n",
    "print(I)"
   ]
  },
  {
   "cell_type": "code",
   "execution_count": 82,
   "id": "6d2611f2",
   "metadata": {},
   "outputs": [
    {
     "name": "stdout",
     "output_type": "stream",
     "text": [
      "[[[0. 0. 0. 0. 0.]\n",
      "  [0. 0. 0. 0. 0.]\n",
      "  [0. 0. 0. 0. 0.]\n",
      "  [0. 0. 0. 0. 0.]]\n",
      "\n",
      " [[1. 1. 1. 1. 1.]\n",
      "  [1. 1. 1. 1. 1.]\n",
      "  [1. 1. 1. 1. 1.]\n",
      "  [1. 1. 1. 1. 1.]]\n",
      "\n",
      " [[2. 2. 2. 2. 2.]\n",
      "  [2. 2. 2. 2. 2.]\n",
      "  [2. 2. 2. 2. 2.]\n",
      "  [2. 2. 2. 2. 2.]]\n",
      "\n",
      " [[3. 3. 3. 3. 3.]\n",
      "  [3. 3. 3. 3. 3.]\n",
      "  [3. 3. 3. 3. 3.]\n",
      "  [3. 3. 3. 3. 3.]]\n",
      "\n",
      " [[4. 4. 4. 4. 4.]\n",
      "  [4. 4. 4. 4. 4.]\n",
      "  [4. 4. 4. 4. 4.]\n",
      "  [4. 4. 4. 4. 4.]]\n",
      "\n",
      " [[5. 5. 5. 5. 5.]\n",
      "  [5. 5. 5. 5. 5.]\n",
      "  [5. 5. 5. 5. 5.]\n",
      "  [5. 5. 5. 5. 5.]]]\n",
      "[[5. 5. 5. 5. 5.]\n",
      " [5. 5. 5. 5. 5.]\n",
      " [5. 5. 5. 5. 5.]\n",
      " [5. 5. 5. 5. 5.]]\n"
     ]
    }
   ],
   "source": [
    "base = np.ones((4,5))\n",
    "arr = np.array([i*base for i in range(6)])\n",
    "print(arr)\n",
    "new_arr = arr.reshape((1, 2, 3, 4, 5))\n",
    "print(new_arr[0, 1, 2])"
   ]
  },
  {
   "cell_type": "code",
   "execution_count": null,
   "id": "6a19a7f1",
   "metadata": {},
   "outputs": [],
   "source": []
  }
 ],
 "metadata": {
  "kernelspec": {
   "display_name": "Python 3",
   "language": "python",
   "name": "python3"
  },
  "language_info": {
   "codemirror_mode": {
    "name": "ipython",
    "version": 3
   },
   "file_extension": ".py",
   "mimetype": "text/x-python",
   "name": "python",
   "nbconvert_exporter": "python",
   "pygments_lexer": "ipython3",
   "version": "3.7.10"
  }
 },
 "nbformat": 4,
 "nbformat_minor": 5
}
