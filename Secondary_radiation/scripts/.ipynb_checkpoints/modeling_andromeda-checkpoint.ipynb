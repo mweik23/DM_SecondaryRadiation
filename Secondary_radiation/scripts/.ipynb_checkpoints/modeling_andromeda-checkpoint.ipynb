{
 "cells": [
  {
   "cell_type": "code",
   "execution_count": 1,
   "id": "586ec81a",
   "metadata": {},
   "outputs": [],
   "source": [
    "import numpy as np\n",
    "import matplotlib.pyplot as plt\n",
    "from scipy.interpolate import interp1d, interp2d\n",
    "from time import time\n",
    "from scipy.optimize import minimize\n",
    "from scipy.integrate import tplquad, dblquad, quad\n",
    "from sklearn.linear_model import LinearRegression\n",
    "import vegas\n",
    "import os"
   ]
  },
  {
   "cell_type": "code",
   "execution_count": 2,
   "id": "320799d8",
   "metadata": {},
   "outputs": [],
   "source": [
    "base_path = os.getcwd().split('scripts')[0]\n",
    "model_funcs_path = base_path + 'funcs+params_Andromeda5/'\n",
    "array_path = base_path + 'fig_arrays/'"
   ]
  },
  {
   "cell_type": "code",
   "execution_count": 3,
   "id": "bf0b7ac5",
   "metadata": {},
   "outputs": [],
   "source": [
    "# digitized from fig 10a second collumn in 1999A&A...351.1087L\n",
    "R2 = np.array([0.4838709677419355, 1.4838709677419355, 2.5, 3.5, 4.5, 5.483870967741935, 6.5, 7.483870967741935, 8.483870967741936, 9.483870967741936, 10.46774193548387, 11.483870967741936, 12.483870967741936])\n",
    "W = np.array([0.0055762081784386614, 0.6189591078066914, 1.0427509293680297, 0.775092936802974, 0.9312267657992565, 1.0594795539033457, 1.745353159851301, 2.3308550185873607, 2.12453531598513, 1.8178438661710037, 1.2546468401486988, 1.1486988847583643, 0.7527881040892193])\n",
    "top_err = np.array([0.724907063197026, 0.8977695167286245, 1.2657992565055762, 0.9758364312267658, 1.1152416356877324, 1.2546468401486988, 1.9126394052044609, 2.5427509293680295, 2.3308550185873607, 2.024163568773234, 1.4442379182156133, 1.3550185873605947, 0.9591078066914498])\n",
    "sigma3 = top_err-W # 3 sigma errors\n",
    "sigma = sigma3/3\n",
    "Sig_HII = 0.65*W\n",
    "sigma_Sig_HII = 0.65*sigma"
   ]
  },
  {
   "cell_type": "code",
   "execution_count": 4,
   "id": "94a43faa",
   "metadata": {},
   "outputs": [],
   "source": [
    "#digitized from fig 1 in 2000immm.proc...29H\n",
    "R = np.array([0.49128367670364503, 1.5055467511885896, 2.5039619651347067, 3.502377179080824, 4.500792393026941, 5.499207606973059, 6.513470681458004, 7.496038034865293, 8.49445324881141, 9.508716323296355, 10.507131537242472, 11.50554675118859])\n",
    "Sig = np.array([0.4, 0.41702127659574467, 0.902127659574468, 0.6042553191489362, 0.7063829787234043, 0.8, 0.8170212765957447, 1.6085106382978724, 1.651063829787234, 1.3021276595744682, 1.2, 1.0042553191489363])"
   ]
  },
  {
   "cell_type": "code",
   "execution_count": 5,
   "id": "1c35572b",
   "metadata": {},
   "outputs": [],
   "source": [
    "DA = 785"
   ]
  },
  {
   "cell_type": "code",
   "execution_count": 6,
   "id": "1af2d616",
   "metadata": {},
   "outputs": [],
   "source": [
    "def f(x):\n",
    "    return x**2\n",
    "\n",
    "def normal_func(R):\n",
    "    start = time()\n",
    "    res = f(x)\n",
    "    end = time()\n",
    "    print('normal time: ' +str(end-start))\n",
    "    return res\n",
    "\n",
    "def H2_func(R):\n",
    "    start = time()\n",
    "    res = H2_interp(R)\n",
    "    end = time()\n",
    "    print('H2 time: ' + str(end-start))\n",
    "    return res\n"
   ]
  },
  {
   "cell_type": "code",
   "execution_count": 7,
   "id": "992731d0",
   "metadata": {},
   "outputs": [],
   "source": [
    "#produce function for distribution of H2 on disk\n",
    "#digitized data from fig 1 (top right) in 0906.4821 (M31 H2 curve)\n",
    "R_contin = [2.5407779171894607, 2.885821831869511, 3.01129234629862, 3.105395232120452, 3.1994981179422837, 3.324968632371393, 3.419071518193225, 3.5131744040150568, 3.6072772898368886, 3.7327478042659976, 3.82685069008783, 3.8895859473023844, 3.983688833124216, 4.077791718946048, 4.297365119196989, 4.64240903387704, 5.018820577164367, 5.112923462986199, 5.238393977415308, 5.3324968632371395, 5.489335006273526, 5.5834378920953585, 5.740276035131744, 5.897114178168131, 6.02258469259724, 6.179422835633627, 6.398996235884567, 6.806775407779172, 7.151819322459223, 7.496863237139273, 7.716436637390214, 7.936010037641155, 8.092848180677542, 8.281053952321205, 8.437892095357592, 8.626097867001256, 8.782936010037641, 8.939774153074028, 9.096612296110415, 9.28481806775408, 9.441656210790464, 9.661229611041406, 9.84943538268507, 10.006273525721456, 10.225846925972398, 10.476787954830616, 10.790464240903388, 11.166875784190717, 11.574654956085322, 11.888331242158094, 12.17063989962359, 12.39021329987453, 12.609786700125472, 12.797992471769135, 12.9861982434128, 13.174404015056464, 13.331242158092849, 13.488080301129235, 13.6762860727729, 13.958594730238396, 14.240903387703892, 14.648682559598496, 14.993726474278546, 15.370138017565873, 15.7465495608532, 16.21706398996236, 16.656210790464243, 17.03262233375157, 17.314930991217064, 17.50313676286073, 17.72271016311167, 17.84818067754078, 18.036386449184445, 18.224592220828107]\n",
    "# They use DA = 785; scale from 785 kpc to my DA\n",
    "R_contin = (DA/785)*np.array(R_contin)\n",
    "H2_contin = [0.08865150578845593, 0.09459215741777145, 0.10869693641542155, 0.12375288492593493, 0.14089427938393012, 0.1589304977178145, 0.18262886349665822, 0.20792535165921835, 0.23672573455729082, 0.2670295698328871, 0.3068467509940691, 0.3461269476079518, 0.3977384578474271, 0.4486539222430446, 0.48317519184958707, 0.4486539222430446, 0.41275673173378524, 0.3591964137258583, 0.3154960772573044, 0.27711238464845883, 0.24566430171715672, 0.21577644027668694, 0.18952477772730886, 0.1680165692974834, 0.1475754392359904, 0.13082784905663325, 0.11815023986098194, 0.11280124247254679, 0.12148063188672933, 0.13327493854748187, 0.14894921865632352, 0.1680165692974834, 0.1877767642658503, 0.21378630406973703, 0.24115360722680024, 0.27711238464845883, 0.3097031866848188, 0.3493490425575466, 0.3940700605708588, 0.4486539222430446, 0.5060871986919683, 0.5708726481190468, 0.6499459824703668, 0.7263852252558912, 0.8193715592256531, 0.907290740990469, 1.0046437167833568, 1.0620792930499436, 1.0425782292730918, 0.9591606384273169, 0.8582258859545695, 0.7608301709650421, 0.6744874030533933, 0.6035094913817819, 0.5350202516862012, 0.4787187996578963, 0.4204772030843884, 0.3693213603476951, 0.327408947146641, 0.29843454604612313, 0.2670295698328871, 0.2502593671817619, 0.23023589756505405, 0.21181452316662439, 0.20035992718747528, 0.19668107595294265, 0.20035992718747528, 0.18952477772730886, 0.17275258204904584, 0.1531477652749169, 0.13451559464019325, 0.11815023986098194, 0.10474196672943295, 0.09285533069808581]\n",
    "H2_contin = np.array(H2_contin)\n",
    "H2_interp = interp1d(R_contin, H2_contin, fill_value=(0, 0), bounds_error=False, kind='linear')\n",
    "slope0 = (H2_contin[1]-H2_contin[0])/(R_contin[1]-R_contin[0])\n",
    "H2_0 = H2_contin[0]\n",
    "RH2_sc0 = H2_0/slope0\n",
    "H2_norm0 = H2_0*np.exp(-R_contin[0]/RH2_sc0)\n",
    "slope1 = (H2_contin[-1]-H2_contin[-2])/(R_contin[-1]-R_contin[-2])\n",
    "H2_1 = H2_contin[-1]\n",
    "RH2_sc1 = -H2_1/slope1\n",
    "H2_norm1 = H2_1*np.exp(R_contin[-1]/RH2_sc1)\n",
    "H2_params = np.array([[H2_norm0, RH2_sc0], [H2_norm1, RH2_sc1]])\n",
    "np.save(model_funcs_path + 'H2_params.npy', H2_params)\n",
    "np.save(model_funcs_path + 'H2_interp.npy', H2_interp)\n",
    "RH2_bounds = np.array([R_contin[0], R_contin[-1]])\n",
    "np.save(model_funcs_path + 'H2_bounds.npy', RH2_bounds)\n",
    "def H2_extrap(R):\n",
    "    b0 = R<R_contin[0]\n",
    "    b1 = R>R_contin[-1]\n",
    "    return b0*H2_norm0*np.exp(b0*R/RH2_sc0) + H2_interp(R) + b1*H2_norm1*np.exp(-(R*b1)/RH2_sc1)\n"
   ]
  },
  {
   "cell_type": "code",
   "execution_count": 8,
   "id": "067e17dd",
   "metadata": {},
   "outputs": [],
   "source": [
    "#digitized data from fig 1 (top right) in 0906.4821 (M31 H1 curve)\n",
    "R_H1 = [0.995475113122172, 1.4479638009049773, 2.0211161387631975, 2.5037707390648567, 3.257918552036199, 3.680241327300151, 4.072398190045249, 4.40422322775264, 4.856711915535445, 5.158371040723982, 5.701357466063349, 6.2745098039215685, 6.757164404223228, 7.330316742081448, 7.812971342383107, 8.386123680241328, 8.959276018099548, 9.592760180995475, 10.165912518853695, 10.829562594268477, 11.553544494720965, 12.156862745098039, 12.850678733031675, 13.363499245852188, 14.057315233785822, 14.660633484162895, 15.233785822021117, 15.776772247360483, 16.380090497737555, 16.832579185520363, 17.46606334841629, 17.918552036199095, 18.3710407239819, 18.763197586727, 19.457013574660635, 20, 20.72398190045249, 21.176470588235293, 21.840120663650076, 22.29260935143288, 22.956259426847662]\n",
    "H1 = [0.5890623834890419, 0.6228089410985899, 0.7158774948942684, 0.7639492627733862, 0.7568891123391596, 0.830529071097915, 0.96354270508342, 1.0671508298863583, 1.2496091412919867, 1.4099170043394307, 1.6976130678672037, 1.9878659591254741, 2.201617838827324, 2.507226378680568, 2.77682420987277, 3.1330530020876424, 3.5349811050301057, 3.915091671561022, 4.177993326387515, 4.458549045514106, 4.542114359559527, 4.417344703140069, 4.063225896377959, 3.807546021222372, 3.5023120527777905, 3.191774921565869, 2.8552567130814888, 2.602091599524384, 2.3062332316278322, 2.082324395317762, 1.8116091942004142, 1.5907901866580412, 1.3459603241553644, 1.1818997619088922, 1.077105056036769, 1.0187427149936814, 0.9284145445194745, 0.8460954407714701, 0.7292949827514623, 0.6584887916536986, 0.5836184760920001]\n",
    "#rescale R coordinates\n",
    "R_H1 = (DA/785)*np.array(R_H1)\n",
    "H1 = np.array(H1)\n",
    "H1_interp = interp1d(R_H1, H1, fill_value=(0, 0), bounds_error=False, kind='linear')\n",
    "slope0 = (H1[1]-H1[0])/(R_H1[1]-R_H1[0])\n",
    "H1_0 = H1[0]\n",
    "RH1_sc0 = H1_0/slope0\n",
    "H1_norm0 = H1_0*np.exp(-R_H1[0]/RH1_sc0)\n",
    "slope1 = (H1[-1]-H1[-2])/(R_H1[-1]-R_H1[-2])\n",
    "H1_1 = H1[-1]\n",
    "RH1_sc1 = -H1_1/slope1\n",
    "H1_norm1 = H1_1*np.exp(R_H1[-1]/RH1_sc1)\n",
    "H1_params = np.array([[H1_norm0, RH1_sc0], [H1_norm1, RH1_sc1]])\n",
    "np.save(model_funcs_path + 'H1_params.npy', H1_params)\n",
    "np.save(model_funcs_path + 'H1_interp.npy', H1_interp)\n",
    "RH1_bounds = np.array([R_H1[0], R_H1[-1]])\n",
    "np.save(model_funcs_path + 'H1_bounds.npy', RH1_bounds)\n",
    "def H1_extrap(R):\n",
    "    b0 = R<R_H1[0]\n",
    "    b1 = R>R_H1[-1]\n",
    "    return b0*H1_params[0,0]*np.exp(b0*R/H1_params[0,1]) + H1_interp(R) + b1*H1_params[1,0]*np.exp(-(R*b1)/H1_params[1,1])"
   ]
  },
  {
   "cell_type": "code",
   "execution_count": 9,
   "id": "0e354a1e",
   "metadata": {},
   "outputs": [
    {
     "data": {
      "text/plain": [
       "[<matplotlib.lines.Line2D at 0x7fdb0ac5a350>]"
      ]
     },
     "execution_count": 9,
     "metadata": {},
     "output_type": "execute_result"
    },
    {
     "data": {
      "image/png": "[encoded data removed]",
      "text/plain": [
       "<Figure size 432x288 with 1 Axes>"
      ]
     },
     "metadata": {
      "needs_background": "light"
     },
     "output_type": "display_data"
    }
   ],
   "source": [
    "R_grid = np.linspace(0, 50, 1000)\n",
    "plt.plot(R_grid, H1_extrap(R_grid))"
   ]
  },
  {
   "cell_type": "code",
   "execution_count": 10,
   "id": "a8827c62",
   "metadata": {},
   "outputs": [
    {
     "name": "stdout",
     "output_type": "stream",
     "text": [
      "H1: h_slope =  0.016\n",
      "H1: h_int =  0.20705797101449275\n"
     ]
    },
    {
     "name": "stderr",
     "output_type": "stream",
     "text": [
      "/cms/base/HETconda/miniconda3/lib/python3.7/site-packages/scipy/integrate/quadpack.py:880: IntegrationWarning: The maximum number of subdivisions (50) has been achieved.\n",
      "  If increasing the limit yields no improvement it is advised to analyze \n",
      "  the integrand in order to determine the difficulties.  If the position of a \n",
      "  local difficulty can be determined (singularity, discontinuity) one will \n",
      "  probably gain from splitting up the interval and calling the integrator \n",
      "  on the subranges.  Perhaps a special-purpose integrator should be used.\n",
      "  **opt)\n"
     ]
    }
   ],
   "source": [
    "#scale height info taken from 1991ApJ...372...54B\n",
    "h_slope = 0.016\n",
    "h_int_raw = 0.182\n",
    "#must scale h_int_raw to the correct distance away\n",
    "h_int = (DA/690)*h_int_raw\n",
    "print('H1: h_slope = ', h_slope)\n",
    "print('H1: h_int = ', h_int)\n",
    "H1_params2 = np.array([h_int, h_slope])\n",
    "np.save(model_funcs_path + 'H1_params2.npy', H1_params2)\n",
    "def H1_nonorm(R, z):\n",
    "    hz = h_int + h_slope*R\n",
    "    return np.exp(-np.abs(z)/hz)*H1_extrap(R)\n",
    "#2 times the integrad needed\n",
    "def f(z, R):\n",
    "    return 4*np.pi*R*H1_nonorm(R, z)\n",
    "\n",
    "#integrate over half the space\n",
    "res = dblquad(f, 0, 100000, 0, 1000)\n",
    "norm_H1 = res[0]"
   ]
  },
  {
   "cell_type": "code",
   "execution_count": 11,
   "id": "6881611b",
   "metadata": {},
   "outputs": [
    {
     "name": "stdout",
     "output_type": "stream",
     "text": [
      "3762.765230969677 3.064586544867103\n"
     ]
    }
   ],
   "source": [
    "#check result\n",
    "def func(x):\n",
    "    return f(x[1], x[0])\n",
    "\n",
    "integ_space = vegas.Integrator([[0, 1000], [0, 100]])\n",
    "res = integ_space(func, nitn=10, neval=5000)\n",
    "print(res.mean, res.sdev)"
   ]
  },
  {
   "cell_type": "code",
   "execution_count": 12,
   "id": "ffc53374",
   "metadata": {},
   "outputs": [
    {
     "data": {
      "text/plain": [
       "3762.8(3.1)"
      ]
     },
     "execution_count": 12,
     "metadata": {},
     "output_type": "execute_result"
    }
   ],
   "source": [
    "res"
   ]
  },
  {
   "cell_type": "code",
   "execution_count": 13,
   "id": "dc8df292",
   "metadata": {},
   "outputs": [
    {
     "name": "stdout",
     "output_type": "stream",
     "text": [
      "H1: coef =  0.05379178690904281\n",
      "number of hydrogen:  5.947966507177034e+66\n"
     ]
    }
   ],
   "source": [
    "cm_per_pc = 3.086e18\n",
    "tot_mass = 5e9 #solar mass\n",
    "m_H = 1.672e-27 #kg per hydrogen\n",
    "M_solar = 1.989e+30 #kg per solar mass\n",
    "N_H = tot_mass*M_solar/m_H\n",
    "H1_coef = (N_H/norm_H1)/((cm_per_pc*1000)**3)\n",
    "print('H1: coef = ', H1_coef)\n",
    "np.save(model_funcs_path + 'H1_coef.npy', np.array([H1_coef]))\n",
    "print('number of hydrogen: ', N_H)\n",
    "#final result in (kpc)^-3\n",
    "def H1(R, z):\n",
    "    return H1_coef*H1_nonorm(R,z)"
   ]
  },
  {
   "cell_type": "code",
   "execution_count": 14,
   "id": "3ea18e80",
   "metadata": {},
   "outputs": [
    {
     "data": {
      "text/plain": [
       "0.22819604873141092"
      ]
     },
     "execution_count": 14,
     "metadata": {},
     "output_type": "execute_result"
    }
   ],
   "source": [
    "H1(12.5, 0)"
   ]
  },
  {
   "cell_type": "code",
   "execution_count": 15,
   "id": "598fec3c",
   "metadata": {},
   "outputs": [
    {
     "data": {
      "image/png": "[encoded data removed]",
      "text/plain": [
       "<Figure size 432x288 with 1 Axes>"
      ]
     },
     "metadata": {
      "needs_background": "light"
     },
     "output_type": "display_data"
    }
   ],
   "source": [
    "R = np.linspace(0, 20, 100)\n",
    "z = np.linspace(0, 10, 100)\n",
    "plt.plot(R, H1(4, z))\n",
    "plt.yscale('log')"
   ]
  },
  {
   "cell_type": "code",
   "execution_count": 16,
   "id": "1adab38b",
   "metadata": {},
   "outputs": [],
   "source": [
    "# digitized from 1707.00743 fig 10 top\n",
    "R_hzH2_MW = [0.01791044776119403, 0.05373134328358209, 0.09850746268656717, 0.14328358208955225, 0.21492537313432836, 0.30447761194029854, 0.3850746268656717, 0.4567164179104478, 0.5373134328358209, 0.591044776119403, 0.6447761194029851, 0.7074626865671643, 0.7791044776119403, 0.8776119402985075, 0.9671641791044777, 1.0477611940298508, 1.101492537313433, 1.146268656716418, 1.191044776119403, 1.2537313432835822, 1.3343283582089553, 1.4149253731343285, 1.5044776119402985, 1.5761194029850747, 1.62089552238806, 1.6656716417910449, 1.7104477611940299, 1.773134328358209, 1.8626865671641792, 1.9343283582089554, 1.9880597014925374, 2.0776119402985076, 2.1402985074626866, 2.265671641791045, 2.202985074626866, 2.328358208955224, 2.382089552238806, 2.4447761194029853, 2.5253731343283583, 2.5970149253731343, 2.6865671641791047, 2.7761194029850746, 2.874626865671642, 2.973134328358209, 3.0716417910447764, 3.1701492537313434, 3.259701492537314, 3.3402985074626868, 3.4298507462686567, 3.519402985074627, 3.591044776119403, 3.6716417910447765, 3.7611940298507465, 3.8328358208955224, 3.895522388059702, 3.976119402985075, 4.056716417910448, 4.128358208955224, 4.217910447761194, 4.307462686567164, 4.370149253731343, 4.414925373134329, 4.486567164179105, 4.540298507462687, 4.594029850746269, 4.647761194029851, 4.737313432835821, 4.835820895522389, 4.916417910447762, 5.014925373134329, 5.068656716417911, 5.140298507462687, 5.22089552238806, 5.283582089552239, 5.364179104477612, 5.453731343283582, 5.543283582089552, 5.614925373134328, 5.695522388059702, 5.802985074626866, 5.901492537313433, 5.982089552238806, 6.035820895522388, 6.125373134328359, 6.205970149253732, 6.295522388059702, 6.385074626865672, 6.456716417910448, 6.340298507462687, 6.519402985074628, 6.5552238805970156, 6.5910447761194035, 6.6358208955223885, 6.6895522388059705, 6.7791044776119405, 6.86865671641791, 6.949253731343284, 7.029850746268657, 7.083582089552239, 7.146268656716418, 7.226865671641791, 7.343283582089553]\n",
    "hz_H2_MW = [0.10446428571428572, 0.09464285714285715, 0.08660714285714287, 0.07857142857142858, 0.07142857142857144, 0.07232142857142858, 0.07767857142857143, 0.0830357142857143, 0.08928571428571429, 0.09642857142857143, 0.10535714285714287, 0.1142857142857143, 0.11875000000000001, 0.11696428571428573, 0.11785714285714287, 0.11696428571428573, 0.10982142857142858, 0.1017857142857143, 0.09375000000000001, 0.08750000000000001, 0.09196428571428572, 0.09910714285714287, 0.10267857142857144, 0.0955357142857143, 0.08571428571428572, 0.07589285714285715, 0.06696428571428573, 0.059821428571428574, 0.05714285714285715, 0.0642857142857143, 0.0705357142857143, 0.07321428571428572, 0.06696428571428573, 0.06607142857142857, 0.06517857142857143, 0.07232142857142858, 0.08035714285714286, 0.08750000000000001, 0.08214285714285716, 0.07410714285714286, 0.06964285714285715, 0.07500000000000001, 0.07767857142857143, 0.07500000000000001, 0.07500000000000001, 0.07767857142857143, 0.07321428571428572, 0.06696428571428573, 0.0625, 0.06517857142857143, 0.07142857142857144, 0.07767857142857143, 0.07946428571428572, 0.07321428571428572, 0.06607142857142857, 0.06160714285714286, 0.06339285714285715, 0.06875, 0.0705357142857143, 0.07410714285714286, 0.08125, 0.08750000000000001, 0.09196428571428572, 0.08482142857142858, 0.07500000000000001, 0.06696428571428573, 0.06607142857142857, 0.06517857142857143, 0.058928571428571434, 0.06071428571428572, 0.06785714285714287, 0.07500000000000001, 0.0705357142857143, 0.06339285714285715, 0.05803571428571429, 0.05446428571428572, 0.058928571428571434, 0.06696428571428573, 0.0705357142857143, 0.07142857142857144, 0.07142857142857144, 0.06696428571428573, 0.06071428571428572, 0.05625000000000001, 0.059821428571428574, 0.06696428571428573, 0.07857142857142858, 0.08571428571428572, 0.07321428571428572, 0.08035714285714286, 0.07232142857142858, 0.06339285714285715, 0.05446428571428572, 0.04642857142857143, 0.04196428571428572, 0.037500000000000006, 0.03125, 0.033035714285714286, 0.04196428571428572, 0.05, 0.05446428571428572, 0.05446428571428572]\n",
    "R_hzH2_MW = np.array(R_hzH2_MW)\n",
    "hz_H2_MW = np.array(hz_H2_MW)\n",
    "hz_H2MW_interp = interp1d(R_hzH2_MW, hz_H2_MW, kind='cubic')"
   ]
  },
  {
   "cell_type": "code",
   "execution_count": 17,
   "id": "56d4992e",
   "metadata": {},
   "outputs": [
    {
     "name": "stdout",
     "output_type": "stream",
     "text": [
      "initial model params:  [0.09, 0.005]\n",
      "initial value of chi^2:  5.815965989996408\n",
      "best fit model params:  [ 0.09606098 13.24020266]\n",
      "final value of chi^2:  0.17014495717747619\n"
     ]
    },
    {
     "data": {
      "text/plain": [
       "[<matplotlib.lines.Line2D at 0x7fdb0a992910>]"
      ]
     },
     "execution_count": 17,
     "metadata": {},
     "output_type": "execute_result"
    },
    {
     "data": {
      "image/png": "[encoded data removed]",
      "text/plain": [
       "<Figure size 432x288 with 1 Axes>"
      ]
     },
     "metadata": {
      "needs_background": "light"
     },
     "output_type": "display_data"
    }
   ],
   "source": [
    "R_grid = np.linspace(.1, 7, 1000)\n",
    "hz_grid = hz_H2MW_interp(R_grid)\n",
    "plt.plot(R_grid, hz_grid)\n",
    "\n",
    "def hz(R, w):\n",
    "    return w[0]*np.exp(-R/w[1])\n",
    "\n",
    "def chi2(w, *args):\n",
    "    d = args[0]\n",
    "    R = args[1]\n",
    "    f = hz(R, w)\n",
    "    return np.sum((d-f)**2)\n",
    "\n",
    "w_init = [.09, 0.005]\n",
    "chi_init = chi2(w_init, *(hz_grid, R_grid))\n",
    "print('initial model params: ', w_init)\n",
    "print('initial value of chi^2: ', chi_init)\n",
    "bnds = [(.04, .15), (1, 20)]\n",
    "res = minimize(chi2, w_init, args=(hz_grid, R_grid), bounds=bnds)\n",
    "\n",
    "w_fin = res.x\n",
    "chi_fin = chi2(w_fin, *(hz_grid, R_grid))\n",
    "print('best fit model params: ', w_fin)\n",
    "print('final value of chi^2: ', chi_fin)\n",
    "plt.plot(R_grid, hz(R_grid, w_fin))\n",
    "# reg = LinearRegression().fit(R_grid.reshape(-1, 1), hz_grid.reshape(-1, 1))\n",
    "# hz0 = reg.intercept_[0]\n",
    "# hz_slope = reg.coef_[0]\n",
    "# def hz_MW_H2(R):\n",
    "#     return hz0 + hz_slope*R\n",
    "# plt.plot(R_grid, hz_MW_H2(R_grid))"
   ]
  },
  {
   "cell_type": "code",
   "execution_count": null,
   "id": "061eeede",
   "metadata": {},
   "outputs": [],
   "source": []
  },
  {
   "cell_type": "code",
   "execution_count": 18,
   "id": "c5dfe8fd",
   "metadata": {},
   "outputs": [],
   "source": [
    "# digitized from 1707.00743 fig 6 top\n",
    "R_H1_MW = [0.018648018648018648, 0.13986013986013987, 0.26107226107226106, 0.3822843822843823, 0.5034965034965035, 0.6247086247086248, 0.717948717948718, 0.8111888111888111, 0.8951048951048951, 0.9790209790209791, 1.062937062937063, 1.156177156177156, 1.2773892773892774, 1.3986013986013985, 1.557109557109557, 1.696969696969697, 1.8181818181818181, 1.9766899766899766, 2.1351981351981353, 2.2843822843822843, 2.414918414918415, 2.5454545454545454, 2.6666666666666665, 2.769230769230769, 2.825174825174825, 2.8811188811188813, 2.937062937062937, 3.0023310023310024, 3.0955710955710956, 3.160839160839161, 3.2167832167832167, 3.272727272727273, 3.31002331002331, 3.3846153846153846, 3.4778554778554778, 3.599067599067599, 3.6736596736596736, 3.7482517482517483, 3.8414918414918415, 3.9347319347319347, 4.037296037296037, 4.130536130536131, 4.205128205128205, 4.3076923076923075, 4.410256410256411, 4.531468531468532, 4.662004662004662, 4.792540792540793, 4.923076923076923, 5.034965034965035, 5.137529137529137, 5.24941724941725, 5.333333333333333, 5.445221445221446, 5.547785547785548, 5.6223776223776225, 5.668997668997669, 5.734265734265734, 5.836829836829837, 5.9020979020979025, 5.948717948717949, 5.986013986013986, 6.023310023310024, 6.107226107226107, 6.2191142191142195, 6.312354312354312, 6.424242424242424, 6.554778554778554, 6.675990675990676, 6.806526806526806, 6.881118881118881, 6.9557109557109555, 7.03030303030303, 7.142191142191142]\n",
    "hz_H1_MW = [0.09851301115241635, 0.09293680297397769, 0.09293680297397769, 0.0966542750929368, 0.10408921933085502, 0.120817843866171, 0.1449814126394052, 0.15799256505576206, 0.15613382899628253, 0.1449814126394052, 0.13011152416356878, 0.11895910780669144, 0.10780669144981413, 0.10408921933085502, 0.11152416356877323, 0.11895910780669144, 0.10966542750929367, 0.10408921933085502, 0.10594795539033457, 0.11338289962825278, 0.120817843866171, 0.13011152416356878, 0.1449814126394052, 0.16728624535315983, 0.19144981412639403, 0.21747211895910779, 0.2453531598513011, 0.2620817843866171, 0.2639405204460966, 0.24721189591078066, 0.22490706319702602, 0.20260223048327136, 0.18029739776951673, 0.16171003717472118, 0.15799256505576206, 0.17843866171003717, 0.19516728624535315, 0.21003717472118957, 0.21561338289962825, 0.22304832713754646, 0.21747211895910779, 0.20260223048327136, 0.18401486988847582, 0.1765799256505576, 0.1895910780669145, 0.18587360594795538, 0.18029739776951673, 0.1654275092936803, 0.1765799256505576, 0.1765799256505576, 0.1654275092936803, 0.15799256505576206, 0.17286245353159851, 0.18773234200743494, 0.20260223048327136, 0.23605947955390333, 0.2620817843866171, 0.28252788104089216, 0.28252788104089216, 0.25464684014869887, 0.2211895910780669, 0.19888475836431227, 0.1765799256505576, 0.1654275092936803, 0.18587360594795538, 0.20260223048327136, 0.2137546468401487, 0.21003717472118957, 0.20260223048327136, 0.21003717472118957, 0.22304832713754646, 0.22304832713754646, 0.20817843866171004, 0.20817843866171004]\n",
    "R_H1_MW = np.array(R_H1_MW)\n",
    "hz_H1_MW = np.array(hz_H1_MW)\n",
    "hz_H1MW_interp = interp1d(R_H1_MW, hz_H1_MW, kind='cubic')"
   ]
  },
  {
   "cell_type": "code",
   "execution_count": 19,
   "id": "2cccf710",
   "metadata": {},
   "outputs": [
    {
     "data": {
      "image/png": "[encoded data removed]",
      "text/plain": [
       "<Figure size 432x288 with 1 Axes>"
      ]
     },
     "metadata": {
      "needs_background": "light"
     },
     "output_type": "display_data"
    }
   ],
   "source": [
    "R_grid1 = np.linspace(.1, 7, 1000)\n",
    "hz_grid1 = hz_H1MW_interp(R_grid1)\n",
    "plt.plot(R_grid1, hz_grid1)\n",
    "#find average H1 scale height in MW from 0 to 7 kpc\n",
    "h_MW_H1_ave = np.sum(hz_grid1)/len(hz_grid1)"
   ]
  },
  {
   "cell_type": "code",
   "execution_count": 20,
   "id": "580a4165",
   "metadata": {},
   "outputs": [
    {
     "name": "stdout",
     "output_type": "stream",
     "text": [
      "1.5550296726819601\n",
      "H2: [hz_0, R_hz] = [ 0.14937768 13.24020266]\n"
     ]
    }
   ],
   "source": [
    "#find average H1 scale height in M31\n",
    "h_M31_H1_ave = h_int + h_slope*3.5\n",
    "hz_ratio = h_M31_H1_ave/h_MW_H1_ave\n",
    "print(hz_ratio)\n",
    "hz_params_H2_M31 = np.array(w_fin.copy())\n",
    "hz_params_H2_M31[0] = hz_params_H2_M31[0]*hz_ratio\n",
    "print('H2: [hz_0, R_hz] =', hz_params_H2_M31)\n",
    "np.save(model_funcs_path + 'hz_params_H2.npy', hz_params_H2_M31)"
   ]
  },
  {
   "cell_type": "code",
   "execution_count": 21,
   "id": "cc52b372",
   "metadata": {},
   "outputs": [
    {
     "name": "stdout",
     "output_type": "stream",
     "text": [
      "[ 0.14937768 13.24020266]\n"
     ]
    }
   ],
   "source": [
    "print(hz_params_H2_M31)"
   ]
  },
  {
   "cell_type": "code",
   "execution_count": 22,
   "id": "58d7b6fd",
   "metadata": {},
   "outputs": [
    {
     "name": "stderr",
     "output_type": "stream",
     "text": [
      "/cms/base/HETconda/miniconda3/lib/python3.7/site-packages/scipy/integrate/quadpack.py:880: IntegrationWarning: The maximum number of subdivisions (50) has been achieved.\n",
      "  If increasing the limit yields no improvement it is advised to analyze \n",
      "  the integrand in order to determine the difficulties.  If the position of a \n",
      "  local difficulty can be determined (singularity, discontinuity) one will \n",
      "  probably gain from splitting up the interval and calling the integrator \n",
      "  on the subranges.  Perhaps a special-purpose integrator should be used.\n",
      "  **opt)\n",
      "/cms/base/HETconda/miniconda3/lib/python3.7/site-packages/scipy/integrate/quadpack.py:880: IntegrationWarning: The occurrence of roundoff error is detected, which prevents \n",
      "  the requested tolerance from being achieved.  The error may be \n",
      "  underestimated.\n",
      "  **opt)\n"
     ]
    },
    {
     "name": "stdout",
     "output_type": "stream",
     "text": [
      "norm:  51.11129748621156\n",
      "err:  0.3426382726327683\n",
      "H2: coef =  0.23758285324690895\n",
      "number of hydrogen:  3.56877990430622e+65\n"
     ]
    }
   ],
   "source": [
    "epsilon = 0.0001\n",
    "def H2_nonorm(R, z):\n",
    "    hz_val = hz(R, hz_params_H2_M31)\n",
    "    return np.exp(-np.abs(z)/(hz_val+epsilon))*H2_extrap(R)\n",
    "#2 times the integrad needed\n",
    "def f2(R, z):\n",
    "    return 4*np.pi*R*H2_nonorm(R, z)\n",
    "\n",
    "#integrate over half the space\n",
    "n_bins = 5\n",
    "z_bins = np.logspace(-1, 3, n_bins)\n",
    "z_bins = np.insert(z_bins, 0, 0)\n",
    "R_bins = np.logspace(-1, 4, n_bins)\n",
    "R_bins = np.insert(R_bins, 0, 0)\n",
    "res = np.array([[dblquad(f2, z_bins[j], z_bins[j+1], R_bins[i], R_bins[i+1]) for i in range(n_bins)] for j in range(n_bins)])\n",
    "\n",
    "norm_H2 = np.sum(res[:, :, 0])\n",
    "err_norm_H2 = np.sqrt(np.sum(res[:, :, 1]**2))\n",
    "print('norm: ', norm_H2)\n",
    "print('err: ', err_norm_H2)\n",
    "\n",
    "tot_mass2 = 3e8 #solar mass\n",
    "N_H2 = tot_mass2*M_solar/m_H\n",
    "\n",
    "H2_coef = (N_H2/norm_H2)/(cm_per_pc*1000)**3\n",
    "print('H2: coef = ', H2_coef)\n",
    "np.save(model_funcs_path + 'H2_coef.npy', np.array([H2_coef]))\n",
    "print('number of hydrogen: ', N_H2)\n",
    "#final result in (kpc)^-3\n",
    "def H2(R, z):\n",
    "    return H2_coef*H2_nonorm(R,z)"
   ]
  },
  {
   "cell_type": "code",
   "execution_count": 23,
   "id": "a2dbe1c6",
   "metadata": {},
   "outputs": [],
   "source": [
    "phi0 = .2\n",
    "EM = 10\n",
    "ze = 500\n",
    "n_disk = np.sqrt(phi0*EM/(ze))"
   ]
  },
  {
   "cell_type": "code",
   "execution_count": 24,
   "id": "8b98749d",
   "metadata": {},
   "outputs": [
    {
     "name": "stdout",
     "output_type": "stream",
     "text": [
      "0.06324555320336758\n"
     ]
    }
   ],
   "source": [
    "print(n_disk)"
   ]
  },
  {
   "cell_type": "code",
   "execution_count": 25,
   "id": "26f5f731",
   "metadata": {},
   "outputs": [
    {
     "name": "stdout",
     "output_type": "stream",
     "text": [
      "initial model params:  [0.1, 7, 0.5]\n",
      "initial value of chi^2:  2.313396056570893\n",
      "best fit model params ([n0, R0, z0]):  [0.13978094 9.44372886 0.39092827]\n",
      "final value of chi^2:  0.09697165030841311\n"
     ]
    }
   ],
   "source": [
    "# sech model motivated by 0105416\n",
    "def nion(R, z, w):\n",
    "    return w[0]*((1/np.cosh(R/w[1]))**2)*((1/np.cosh(z/w[2]))**2)\n",
    "    #return w[0]*np.exp(-R**2/(2*w[1]**2))*np.exp(-z**2/(2*w[2]**2))\n",
    "def chi2(w, *args):\n",
    "    R = args[0]\n",
    "    z = args[1]\n",
    "    d = args[2]\n",
    "    e = args[3]\n",
    "    return np.sum((d - nion(R, z, w))**2/e**2)\n",
    "\n",
    "#data from arxiv 0310258 and 1994ApJ...431..156W\n",
    "d = np.array([0.063, 0.008, 0.007, 0.004])\n",
    "e = np.array([0.039, 0.004, 0.0035, 0.002])\n",
    "z = np.array([0, .65, .65, .65])\n",
    "R = np.array([9, 9, 11, 13])\n",
    "\n",
    "w_init = [.1, 7, 0.5]\n",
    "chi_init = chi2(w_init, *(R, z, d, e))\n",
    "print('initial model params: ', w_init)\n",
    "print('initial value of chi^2: ', chi_init)\n",
    "bnds = [(.01, .3), (3, 15), (.1, 2)]\n",
    "res = minimize(chi2, w_init, args=(R, z, d, e), bounds=bnds)\n",
    "\n",
    "w_fin = res.x\n",
    "chi_fin = chi2(w_fin, *(R, z, d, e))\n",
    "print('best fit model params ([n0, R0, z0]): ', w_fin)\n",
    "print('final value of chi^2: ', chi_fin)\n",
    "np.save(model_funcs_path + 'ion_gas_params.npy', np.array(w_fin))"
   ]
  },
  {
   "cell_type": "code",
   "execution_count": 225,
   "id": "89c35dd8",
   "metadata": {},
   "outputs": [
    {
     "name": "stdout",
     "output_type": "stream",
     "text": [
      "8.457076929638852\n",
      "11.779115741330047\n"
     ]
    },
    {
     "data": {
      "image/png": "[encoded data removed]",
      "text/plain": [
       "<Figure size 432x288 with 1 Axes>"
      ]
     },
     "metadata": {
      "needs_background": "light"
     },
     "output_type": "display_data"
    },
    {
     "data": {
      "image/png": "[encoded data removed]",
      "text/plain": [
       "<Figure size 432x288 with 1 Axes>"
      ]
     },
     "metadata": {
      "needs_background": "light"
     },
     "output_type": "display_data"
    }
   ],
   "source": [
    "# DISREGARD\n",
    "# fig1 first collumn in 9811296 digitized\n",
    "R = [0.37302725968436157, 0.8034433285509326, 1.2051649928263988, 1.5494978479196557, 1.951219512195122, 2.3529411764705883, 2.783357245337159, 3.1850789096126255, 3.558106169296987, 3.902439024390244, 4.246771879483501, 4.533715925394548, 4.878048780487805, 5.251076040172166, 5.652797704447632, 6.054519368723099, 6.513629842180775, 6.944045911047346, 7.345767575322812, 7.747489239598278, 8.149210903873744, 8.579626972740316, 8.981348637015781, 9.383070301291248, 9.784791965566715, 10.24390243902439, 10.67431850789096, 11.076040172166428, 11.44906743185079, 11.793400286944046, 12.080344332855093, 12.252510760401721, 12.42467718794835, 12.625538020086083, 12.79770444763271, 12.96987087517934, 13.285509325681492, 13.629842180774748, 13.974175035868006, 14.433285509325682, 14.921090387374463, 15.408895265423242, 15.925394548063128, 16.441893830703012, 16.958393113342897, 17.50358680057389, 18.020086083213773, 18.536585365853657, 19.08177905308465, 19.626972740315637]\n",
    "rhoR = [9.735810072368084, 8.59228209756805, 7.583068188000413, 6.632930188158994, 5.801841918105203, 5.166284215610409, 4.6415888336127775, 4.060010266584481, 3.551301926056501, 3.1063333691080395, 2.692976466146365, 2.334624583227059, 2.023958253303164, 1.770361740799285, 1.576429011081868, 1.403740472757035, 1.2611745370012613, 1.123020274528141, 1, 0.8825441369233811, 0.7858666107290001, 0.6935619697027281, 0.6175863298586859, 0.5450471944608124, 0.4853404758786075, 0.4321742776037886, 0.3882820258008982, 0.34884753529516355, 0.30242671703095136, 0.2645334647359108, 0.2293322417118811, 0.19356271514803752, 0.16337225161105315, 0.137890670607985, 0.11742685834509281, 0.1, 0.0859228209756805, 0.07448915080832304, 0.06515586103639381, 0.059063316474370416, 0.054020442775342854, 0.049851062445855215, 0.04600348126200236, 0.042833439139826894, 0.040239369086248984, 0.037802400577118714, 0.035831382566228705, 0.03396313347847434, 0.03219229493990668, 0.030242671703095136]\n",
    "R = np.array(R)\n",
    "rhoR = np.array(rhoR)\n",
    "z = [0.1077199281867150, 0.502692998204668, 0.7540394973070020, 0.9694793536804310, 1.2926391382405800, 1.6157989228007200, 1.9748653500897700, 2.3698384201077200, 2.764811490125670, 3.1597845601436300, 3.5906642728904900, 4.021543985637340, 4.4524236983842000, 4.8833034111310600, 5.350089766606820, 5.780969479353680, 6.2477558348294400, 6.750448833034110, 7.253141831238780, 7.719928186714540, 8.186714542190310, 8.725314183123880, 9.192100538599640, 9.694793536804310, 10.19748653500900, 10.700179533213600, 11.238779174147200, 11.741472172351900, 12.208258527827700, 12.782764811490100, 13.285457809694800, 13.788150807899500, 14.326750448833000, 14.865350089766600, 15.403949730700200, 15.94254937163380, 16.48114901256730, 16.983842010772000, 17.52244165170560, 18.061041292639100, 18.599640933572700, 19.138240574506300, 19.67684021543990]\n",
    "rhoz = [2.9571529411596600, 2.5859573583722900, 2.236220184172960, 1.8910326579193700, 1.635280405873080, 1.4141173049727700, 1.222865353881490, 1.0813856010449400, 0.9562743882108920, 0.8456379525161770, 0.7562071454092660, 0.6762341319550610, 0.6047186990986750, 0.5468447886019580, 0.4890129816668910, 0.4471831562372910, 0.40438600444044600, 0.36568470503959400, 0.3344042933786610, 0.30579958606136800, 0.28278496196534900, 0.2585957358372300, 0.23913369623874200, 0.22113637911182600, 0.2044935487379740, 0.1891032657919370, 0.17487126295116900, 0.1635280405873080, 0.15292060917860300, 0.14300124081209000, 0.13372530349989500, 0.1250510603585410, 0.1182539167056690, 0.11058324257687000, 0.10457249638055400, 0.09778928306368200, 0.0924739518478615, 0.08744753517409240, 0.08269432910799680, 0.07819948330170500, 0.07478016305274580, 0.0707154913162778, 0.0676234131955061]\n",
    "z = np.array(z)\n",
    "rhoz = np.array(rhoz)\n",
    "rhoR_MW_interp = interp1d(R, rhoR, fill_value=(0, 0), bounds_error=False, kind='cubic')\n",
    "rhoz_MW_interp = interp1d(z, rhoz, fill_value=(0, 0), bounds_error=False, kind='cubic')\n",
    "slope1_R = (rhoR[-1]-rhoR[-2])/(R[-1]-R[-2])\n",
    "rhoR_1 = rhoR[-1]\n",
    "Rrho_sc1 = -rhoR_1/slope1_R\n",
    "print(Rrho_sc1)\n",
    "R1 = R[-1]\n",
    "z1 = z[-1]\n",
    "rhoR_norm1 = rhoR_1*np.exp(R1/Rrho_sc1)\n",
    "slope1_z = (rhoz[-1]-rhoz[-2])/(z[-1]-z[-2])\n",
    "rhoz_1 = rhoz[-1]\n",
    "zrho_sc1 = -rhoz_1/slope1_z\n",
    "print(zrho_sc1)\n",
    "rhoz_norm1 = rhoz_1*np.exp(z1/zrho_sc1)\n",
    "rhoR0 = rhoR[0]\n",
    "R0 = R[0]\n",
    "rhoz0 = rhoz[0]\n",
    "z0 = z[0]\n",
    "R_zslice = 4\n",
    "\n",
    "def rhoR_MW_extrap(R):\n",
    "    b0 = R<R0\n",
    "    b1 = R>R1\n",
    "    return b0*rhoR0 + b1*rhoR_norm1*np.exp(-R/Rrho_sc1) + rhoR_MW_interp(R)\n",
    "def rhoz_MW_extrap(z):\n",
    "    zz = np.abs(z)\n",
    "    b0 = zz<z0\n",
    "    b1 = zz>z1\n",
    "    return b0*rhoz0 + b1*rhoz_norm1*np.exp(-zz/zrho_sc1) + rhoz_MW_interp(zz)\n",
    "\n",
    "def rho_MW(R, z):\n",
    "    return rhoR_MW_extrap(R)*rhoz_MW_extrap(z)/rhoR_MW_extrap(R_zslice)\n",
    "\n",
    "Rgrid = np.linspace(0, 40, 300)\n",
    "zgrid = np.linspace(-30, 30, 300)\n",
    "plt.plot(Rgrid, rhoR_MW_extrap(Rgrid))\n",
    "plt.yscale('log')\n",
    "fig = plt.figure()\n",
    "plt.plot(zgrid, rhoz_MW_extrap(zgrid))\n",
    "plt.yscale('log')"
   ]
  },
  {
   "cell_type": "code",
   "execution_count": 72,
   "id": "3bb21a2c",
   "metadata": {},
   "outputs": [
    {
     "ename": "NameError",
     "evalue": "name 'rho_MW' is not defined",
     "output_type": "error",
     "traceback": [
      "\u001b[0;31m---------------------------------------------------------------------------\u001b[0m",
      "\u001b[0;31mNameError\u001b[0m                                 Traceback (most recent call last)",
      "\u001b[0;32m<ipython-input-72-e0ccf8c81e14>\u001b[0m in \u001b[0;36m<module>\u001b[0;34m\u001b[0m\n\u001b[1;32m      2\u001b[0m \u001b[0;32mdef\u001b[0m \u001b[0mfunc\u001b[0m\u001b[0;34m(\u001b[0m\u001b[0mR\u001b[0m\u001b[0;34m,\u001b[0m \u001b[0mz\u001b[0m\u001b[0;34m)\u001b[0m\u001b[0;34m:\u001b[0m\u001b[0;34m\u001b[0m\u001b[0;34m\u001b[0m\u001b[0m\n\u001b[1;32m      3\u001b[0m     \u001b[0;32mreturn\u001b[0m \u001b[0;36m4\u001b[0m\u001b[0;34m*\u001b[0m\u001b[0mnp\u001b[0m\u001b[0;34m.\u001b[0m\u001b[0mpi\u001b[0m\u001b[0;34m*\u001b[0m\u001b[0mR\u001b[0m\u001b[0;34m*\u001b[0m\u001b[0mrho_MW\u001b[0m\u001b[0;34m(\u001b[0m\u001b[0mR\u001b[0m\u001b[0;34m,\u001b[0m \u001b[0mz\u001b[0m\u001b[0;34m)\u001b[0m\u001b[0;34m\u001b[0m\u001b[0;34m\u001b[0m\u001b[0m\n\u001b[0;32m----> 4\u001b[0;31m \u001b[0mres\u001b[0m \u001b[0;34m=\u001b[0m \u001b[0mdblquad\u001b[0m\u001b[0;34m(\u001b[0m\u001b[0mfunc\u001b[0m\u001b[0;34m,\u001b[0m \u001b[0;36m0\u001b[0m\u001b[0;34m,\u001b[0m \u001b[0;36m1000\u001b[0m\u001b[0;34m,\u001b[0m \u001b[0;36m0\u001b[0m\u001b[0;34m,\u001b[0m \u001b[0;36m1000\u001b[0m\u001b[0;34m)\u001b[0m\u001b[0;34m\u001b[0m\u001b[0;34m\u001b[0m\u001b[0m\n\u001b[0m\u001b[1;32m      5\u001b[0m \u001b[0mprint\u001b[0m\u001b[0;34m(\u001b[0m\u001b[0mres\u001b[0m\u001b[0;34m)\u001b[0m\u001b[0;34m\u001b[0m\u001b[0;34m\u001b[0m\u001b[0m\n\u001b[1;32m      6\u001b[0m \u001b[0mcm_per_pc\u001b[0m \u001b[0;34m=\u001b[0m \u001b[0;36m3.086e18\u001b[0m\u001b[0;34m\u001b[0m\u001b[0;34m\u001b[0m\u001b[0m\n",
      "\u001b[0;32m/cms/base/HETconda/miniconda3/lib/python3.7/site-packages/scipy/integrate/quadpack.py\u001b[0m in \u001b[0;36mdblquad\u001b[0;34m(func, a, b, gfun, hfun, args, epsabs, epsrel)\u001b[0m\n\u001b[1;32m    600\u001b[0m \u001b[0;34m\u001b[0m\u001b[0m\n\u001b[1;32m    601\u001b[0m     return nquad(func, [temp_ranges, [a, b]], args=args,\n\u001b[0;32m--> 602\u001b[0;31m             opts={\"epsabs\": epsabs, \"epsrel\": epsrel})\n\u001b[0m\u001b[1;32m    603\u001b[0m \u001b[0;34m\u001b[0m\u001b[0m\n\u001b[1;32m    604\u001b[0m \u001b[0;34m\u001b[0m\u001b[0m\n",
      "\u001b[0;32m/cms/base/HETconda/miniconda3/lib/python3.7/site-packages/scipy/integrate/quadpack.py\u001b[0m in \u001b[0;36mnquad\u001b[0;34m(func, ranges, args, opts, full_output)\u001b[0m\n\u001b[1;32m    823\u001b[0m     \u001b[0;32melse\u001b[0m\u001b[0;34m:\u001b[0m\u001b[0;34m\u001b[0m\u001b[0;34m\u001b[0m\u001b[0m\n\u001b[1;32m    824\u001b[0m         \u001b[0mopts\u001b[0m \u001b[0;34m=\u001b[0m \u001b[0;34m[\u001b[0m\u001b[0mopt\u001b[0m \u001b[0;32mif\u001b[0m \u001b[0mcallable\u001b[0m\u001b[0;34m(\u001b[0m\u001b[0mopt\u001b[0m\u001b[0;34m)\u001b[0m \u001b[0;32melse\u001b[0m \u001b[0m_OptFunc\u001b[0m\u001b[0;34m(\u001b[0m\u001b[0mopt\u001b[0m\u001b[0;34m)\u001b[0m \u001b[0;32mfor\u001b[0m \u001b[0mopt\u001b[0m \u001b[0;32min\u001b[0m \u001b[0mopts\u001b[0m\u001b[0;34m]\u001b[0m\u001b[0;34m\u001b[0m\u001b[0;34m\u001b[0m\u001b[0m\n\u001b[0;32m--> 825\u001b[0;31m     \u001b[0;32mreturn\u001b[0m \u001b[0m_NQuad\u001b[0m\u001b[0;34m(\u001b[0m\u001b[0mfunc\u001b[0m\u001b[0;34m,\u001b[0m \u001b[0mranges\u001b[0m\u001b[0;34m,\u001b[0m \u001b[0mopts\u001b[0m\u001b[0;34m,\u001b[0m \u001b[0mfull_output\u001b[0m\u001b[0;34m)\u001b[0m\u001b[0;34m.\u001b[0m\u001b[0mintegrate\u001b[0m\u001b[0;34m(\u001b[0m\u001b[0;34m*\u001b[0m\u001b[0margs\u001b[0m\u001b[0;34m)\u001b[0m\u001b[0;34m\u001b[0m\u001b[0;34m\u001b[0m\u001b[0m\n\u001b[0m\u001b[1;32m    826\u001b[0m \u001b[0;34m\u001b[0m\u001b[0m\n\u001b[1;32m    827\u001b[0m \u001b[0;34m\u001b[0m\u001b[0m\n",
      "\u001b[0;32m/cms/base/HETconda/miniconda3/lib/python3.7/site-packages/scipy/integrate/quadpack.py\u001b[0m in \u001b[0;36mintegrate\u001b[0;34m(self, *args, **kwargs)\u001b[0m\n\u001b[1;32m    878\u001b[0m             \u001b[0mf\u001b[0m \u001b[0;34m=\u001b[0m \u001b[0mpartial\u001b[0m\u001b[0;34m(\u001b[0m\u001b[0mself\u001b[0m\u001b[0;34m.\u001b[0m\u001b[0mintegrate\u001b[0m\u001b[0;34m,\u001b[0m \u001b[0mdepth\u001b[0m\u001b[0;34m=\u001b[0m\u001b[0mdepth\u001b[0m\u001b[0;34m+\u001b[0m\u001b[0;36m1\u001b[0m\u001b[0;34m)\u001b[0m\u001b[0;34m\u001b[0m\u001b[0;34m\u001b[0m\u001b[0m\n\u001b[1;32m    879\u001b[0m         quad_r = quad(f, low, high, args=args, full_output=self.full_output,\n\u001b[0;32m--> 880\u001b[0;31m                       **opt)\n\u001b[0m\u001b[1;32m    881\u001b[0m         \u001b[0mvalue\u001b[0m \u001b[0;34m=\u001b[0m \u001b[0mquad_r\u001b[0m\u001b[0;34m[\u001b[0m\u001b[0;36m0\u001b[0m\u001b[0;34m]\u001b[0m\u001b[0;34m\u001b[0m\u001b[0;34m\u001b[0m\u001b[0m\n\u001b[1;32m    882\u001b[0m         \u001b[0mabserr\u001b[0m \u001b[0;34m=\u001b[0m \u001b[0mquad_r\u001b[0m\u001b[0;34m[\u001b[0m\u001b[0;36m1\u001b[0m\u001b[0;34m]\u001b[0m\u001b[0;34m\u001b[0m\u001b[0;34m\u001b[0m\u001b[0m\n",
      "\u001b[0;32m/cms/base/HETconda/miniconda3/lib/python3.7/site-packages/scipy/integrate/quadpack.py\u001b[0m in \u001b[0;36mquad\u001b[0;34m(func, a, b, args, full_output, epsabs, epsrel, limit, points, weight, wvar, wopts, maxp1, limlst)\u001b[0m\n\u001b[1;32m    350\u001b[0m     \u001b[0;32mif\u001b[0m \u001b[0mweight\u001b[0m \u001b[0;32mis\u001b[0m \u001b[0;32mNone\u001b[0m\u001b[0;34m:\u001b[0m\u001b[0;34m\u001b[0m\u001b[0;34m\u001b[0m\u001b[0m\n\u001b[1;32m    351\u001b[0m         retval = _quad(func, a, b, args, full_output, epsabs, epsrel, limit,\n\u001b[0;32m--> 352\u001b[0;31m                        points)\n\u001b[0m\u001b[1;32m    353\u001b[0m     \u001b[0;32melse\u001b[0m\u001b[0;34m:\u001b[0m\u001b[0;34m\u001b[0m\u001b[0;34m\u001b[0m\u001b[0m\n\u001b[1;32m    354\u001b[0m         \u001b[0;32mif\u001b[0m \u001b[0mpoints\u001b[0m \u001b[0;32mis\u001b[0m \u001b[0;32mnot\u001b[0m \u001b[0;32mNone\u001b[0m\u001b[0;34m:\u001b[0m\u001b[0;34m\u001b[0m\u001b[0;34m\u001b[0m\u001b[0m\n",
      "\u001b[0;32m/cms/base/HETconda/miniconda3/lib/python3.7/site-packages/scipy/integrate/quadpack.py\u001b[0m in \u001b[0;36m_quad\u001b[0;34m(func, a, b, args, full_output, epsabs, epsrel, limit, points)\u001b[0m\n\u001b[1;32m    461\u001b[0m     \u001b[0;32mif\u001b[0m \u001b[0mpoints\u001b[0m \u001b[0;32mis\u001b[0m \u001b[0;32mNone\u001b[0m\u001b[0;34m:\u001b[0m\u001b[0;34m\u001b[0m\u001b[0;34m\u001b[0m\u001b[0m\n\u001b[1;32m    462\u001b[0m         \u001b[0;32mif\u001b[0m \u001b[0minfbounds\u001b[0m \u001b[0;34m==\u001b[0m \u001b[0;36m0\u001b[0m\u001b[0;34m:\u001b[0m\u001b[0;34m\u001b[0m\u001b[0;34m\u001b[0m\u001b[0m\n\u001b[0;32m--> 463\u001b[0;31m             \u001b[0;32mreturn\u001b[0m \u001b[0m_quadpack\u001b[0m\u001b[0;34m.\u001b[0m\u001b[0m_qagse\u001b[0m\u001b[0;34m(\u001b[0m\u001b[0mfunc\u001b[0m\u001b[0;34m,\u001b[0m\u001b[0ma\u001b[0m\u001b[0;34m,\u001b[0m\u001b[0mb\u001b[0m\u001b[0;34m,\u001b[0m\u001b[0margs\u001b[0m\u001b[0;34m,\u001b[0m\u001b[0mfull_output\u001b[0m\u001b[0;34m,\u001b[0m\u001b[0mepsabs\u001b[0m\u001b[0;34m,\u001b[0m\u001b[0mepsrel\u001b[0m\u001b[0;34m,\u001b[0m\u001b[0mlimit\u001b[0m\u001b[0;34m)\u001b[0m\u001b[0;34m\u001b[0m\u001b[0;34m\u001b[0m\u001b[0m\n\u001b[0m\u001b[1;32m    464\u001b[0m         \u001b[0;32melse\u001b[0m\u001b[0;34m:\u001b[0m\u001b[0;34m\u001b[0m\u001b[0;34m\u001b[0m\u001b[0m\n\u001b[1;32m    465\u001b[0m             \u001b[0;32mreturn\u001b[0m \u001b[0m_quadpack\u001b[0m\u001b[0;34m.\u001b[0m\u001b[0m_qagie\u001b[0m\u001b[0;34m(\u001b[0m\u001b[0mfunc\u001b[0m\u001b[0;34m,\u001b[0m\u001b[0mbound\u001b[0m\u001b[0;34m,\u001b[0m\u001b[0minfbounds\u001b[0m\u001b[0;34m,\u001b[0m\u001b[0margs\u001b[0m\u001b[0;34m,\u001b[0m\u001b[0mfull_output\u001b[0m\u001b[0;34m,\u001b[0m\u001b[0mepsabs\u001b[0m\u001b[0;34m,\u001b[0m\u001b[0mepsrel\u001b[0m\u001b[0;34m,\u001b[0m\u001b[0mlimit\u001b[0m\u001b[0;34m)\u001b[0m\u001b[0;34m\u001b[0m\u001b[0;34m\u001b[0m\u001b[0m\n",
      "\u001b[0;32m/cms/base/HETconda/miniconda3/lib/python3.7/site-packages/scipy/integrate/quadpack.py\u001b[0m in \u001b[0;36mintegrate\u001b[0;34m(self, *args, **kwargs)\u001b[0m\n\u001b[1;32m    878\u001b[0m             \u001b[0mf\u001b[0m \u001b[0;34m=\u001b[0m \u001b[0mpartial\u001b[0m\u001b[0;34m(\u001b[0m\u001b[0mself\u001b[0m\u001b[0;34m.\u001b[0m\u001b[0mintegrate\u001b[0m\u001b[0;34m,\u001b[0m \u001b[0mdepth\u001b[0m\u001b[0;34m=\u001b[0m\u001b[0mdepth\u001b[0m\u001b[0;34m+\u001b[0m\u001b[0;36m1\u001b[0m\u001b[0;34m)\u001b[0m\u001b[0;34m\u001b[0m\u001b[0;34m\u001b[0m\u001b[0m\n\u001b[1;32m    879\u001b[0m         quad_r = quad(f, low, high, args=args, full_output=self.full_output,\n\u001b[0;32m--> 880\u001b[0;31m                       **opt)\n\u001b[0m\u001b[1;32m    881\u001b[0m         \u001b[0mvalue\u001b[0m \u001b[0;34m=\u001b[0m \u001b[0mquad_r\u001b[0m\u001b[0;34m[\u001b[0m\u001b[0;36m0\u001b[0m\u001b[0;34m]\u001b[0m\u001b[0;34m\u001b[0m\u001b[0;34m\u001b[0m\u001b[0m\n\u001b[1;32m    882\u001b[0m         \u001b[0mabserr\u001b[0m \u001b[0;34m=\u001b[0m \u001b[0mquad_r\u001b[0m\u001b[0;34m[\u001b[0m\u001b[0;36m1\u001b[0m\u001b[0;34m]\u001b[0m\u001b[0;34m\u001b[0m\u001b[0;34m\u001b[0m\u001b[0m\n",
      "\u001b[0;32m/cms/base/HETconda/miniconda3/lib/python3.7/site-packages/scipy/integrate/quadpack.py\u001b[0m in \u001b[0;36mquad\u001b[0;34m(func, a, b, args, full_output, epsabs, epsrel, limit, points, weight, wvar, wopts, maxp1, limlst)\u001b[0m\n\u001b[1;32m    350\u001b[0m     \u001b[0;32mif\u001b[0m \u001b[0mweight\u001b[0m \u001b[0;32mis\u001b[0m \u001b[0;32mNone\u001b[0m\u001b[0;34m:\u001b[0m\u001b[0;34m\u001b[0m\u001b[0;34m\u001b[0m\u001b[0m\n\u001b[1;32m    351\u001b[0m         retval = _quad(func, a, b, args, full_output, epsabs, epsrel, limit,\n\u001b[0;32m--> 352\u001b[0;31m                        points)\n\u001b[0m\u001b[1;32m    353\u001b[0m     \u001b[0;32melse\u001b[0m\u001b[0;34m:\u001b[0m\u001b[0;34m\u001b[0m\u001b[0;34m\u001b[0m\u001b[0m\n\u001b[1;32m    354\u001b[0m         \u001b[0;32mif\u001b[0m \u001b[0mpoints\u001b[0m \u001b[0;32mis\u001b[0m \u001b[0;32mnot\u001b[0m \u001b[0;32mNone\u001b[0m\u001b[0;34m:\u001b[0m\u001b[0;34m\u001b[0m\u001b[0;34m\u001b[0m\u001b[0m\n",
      "\u001b[0;32m/cms/base/HETconda/miniconda3/lib/python3.7/site-packages/scipy/integrate/quadpack.py\u001b[0m in \u001b[0;36m_quad\u001b[0;34m(func, a, b, args, full_output, epsabs, epsrel, limit, points)\u001b[0m\n\u001b[1;32m    461\u001b[0m     \u001b[0;32mif\u001b[0m \u001b[0mpoints\u001b[0m \u001b[0;32mis\u001b[0m \u001b[0;32mNone\u001b[0m\u001b[0;34m:\u001b[0m\u001b[0;34m\u001b[0m\u001b[0;34m\u001b[0m\u001b[0m\n\u001b[1;32m    462\u001b[0m         \u001b[0;32mif\u001b[0m \u001b[0minfbounds\u001b[0m \u001b[0;34m==\u001b[0m \u001b[0;36m0\u001b[0m\u001b[0;34m:\u001b[0m\u001b[0;34m\u001b[0m\u001b[0;34m\u001b[0m\u001b[0m\n\u001b[0;32m--> 463\u001b[0;31m             \u001b[0;32mreturn\u001b[0m \u001b[0m_quadpack\u001b[0m\u001b[0;34m.\u001b[0m\u001b[0m_qagse\u001b[0m\u001b[0;34m(\u001b[0m\u001b[0mfunc\u001b[0m\u001b[0;34m,\u001b[0m\u001b[0ma\u001b[0m\u001b[0;34m,\u001b[0m\u001b[0mb\u001b[0m\u001b[0;34m,\u001b[0m\u001b[0margs\u001b[0m\u001b[0;34m,\u001b[0m\u001b[0mfull_output\u001b[0m\u001b[0;34m,\u001b[0m\u001b[0mepsabs\u001b[0m\u001b[0;34m,\u001b[0m\u001b[0mepsrel\u001b[0m\u001b[0;34m,\u001b[0m\u001b[0mlimit\u001b[0m\u001b[0;34m)\u001b[0m\u001b[0;34m\u001b[0m\u001b[0;34m\u001b[0m\u001b[0m\n\u001b[0m\u001b[1;32m    464\u001b[0m         \u001b[0;32melse\u001b[0m\u001b[0;34m:\u001b[0m\u001b[0;34m\u001b[0m\u001b[0;34m\u001b[0m\u001b[0m\n\u001b[1;32m    465\u001b[0m             \u001b[0;32mreturn\u001b[0m \u001b[0m_quadpack\u001b[0m\u001b[0;34m.\u001b[0m\u001b[0m_qagie\u001b[0m\u001b[0;34m(\u001b[0m\u001b[0mfunc\u001b[0m\u001b[0;34m,\u001b[0m\u001b[0mbound\u001b[0m\u001b[0;34m,\u001b[0m\u001b[0minfbounds\u001b[0m\u001b[0;34m,\u001b[0m\u001b[0margs\u001b[0m\u001b[0;34m,\u001b[0m\u001b[0mfull_output\u001b[0m\u001b[0;34m,\u001b[0m\u001b[0mepsabs\u001b[0m\u001b[0;34m,\u001b[0m\u001b[0mepsrel\u001b[0m\u001b[0;34m,\u001b[0m\u001b[0mlimit\u001b[0m\u001b[0;34m)\u001b[0m\u001b[0;34m\u001b[0m\u001b[0;34m\u001b[0m\u001b[0m\n",
      "\u001b[0;32m<ipython-input-72-e0ccf8c81e14>\u001b[0m in \u001b[0;36mfunc\u001b[0;34m(R, z)\u001b[0m\n\u001b[1;32m      1\u001b[0m \u001b[0;31m#DISREG\u001b[0m\u001b[0;34m\u001b[0m\u001b[0;34m\u001b[0m\u001b[0;34m\u001b[0m\u001b[0m\n\u001b[1;32m      2\u001b[0m \u001b[0;32mdef\u001b[0m \u001b[0mfunc\u001b[0m\u001b[0;34m(\u001b[0m\u001b[0mR\u001b[0m\u001b[0;34m,\u001b[0m \u001b[0mz\u001b[0m\u001b[0;34m)\u001b[0m\u001b[0;34m:\u001b[0m\u001b[0;34m\u001b[0m\u001b[0;34m\u001b[0m\u001b[0m\n\u001b[0;32m----> 3\u001b[0;31m     \u001b[0;32mreturn\u001b[0m \u001b[0;36m4\u001b[0m\u001b[0;34m*\u001b[0m\u001b[0mnp\u001b[0m\u001b[0;34m.\u001b[0m\u001b[0mpi\u001b[0m\u001b[0;34m*\u001b[0m\u001b[0mR\u001b[0m\u001b[0;34m*\u001b[0m\u001b[0mrho_MW\u001b[0m\u001b[0;34m(\u001b[0m\u001b[0mR\u001b[0m\u001b[0;34m,\u001b[0m \u001b[0mz\u001b[0m\u001b[0;34m)\u001b[0m\u001b[0;34m\u001b[0m\u001b[0;34m\u001b[0m\u001b[0m\n\u001b[0m\u001b[1;32m      4\u001b[0m \u001b[0mres\u001b[0m \u001b[0;34m=\u001b[0m \u001b[0mdblquad\u001b[0m\u001b[0;34m(\u001b[0m\u001b[0mfunc\u001b[0m\u001b[0;34m,\u001b[0m \u001b[0;36m0\u001b[0m\u001b[0;34m,\u001b[0m \u001b[0;36m1000\u001b[0m\u001b[0;34m,\u001b[0m \u001b[0;36m0\u001b[0m\u001b[0;34m,\u001b[0m \u001b[0;36m1000\u001b[0m\u001b[0;34m)\u001b[0m\u001b[0;34m\u001b[0m\u001b[0;34m\u001b[0m\u001b[0m\n\u001b[1;32m      5\u001b[0m \u001b[0mprint\u001b[0m\u001b[0;34m(\u001b[0m\u001b[0mres\u001b[0m\u001b[0;34m)\u001b[0m\u001b[0;34m\u001b[0m\u001b[0;34m\u001b[0m\u001b[0m\n",
      "\u001b[0;31mNameError\u001b[0m: name 'rho_MW' is not defined"
     ]
    }
   ],
   "source": [
    "#DISREGARD\n",
    "def func(R, z):\n",
    "    return 4*np.pi*R*rho_MW(R, z)\n",
    "res = dblquad(func, 0, 1000, 0, 1000)\n",
    "print(res)\n",
    "cm_per_pc = 3.086e18\n",
    "E_MW = res[0]*(cm_per_pc*1000)**3 \n",
    "print(E_MW)"
   ]
  },
  {
   "cell_type": "code",
   "execution_count": 249,
   "id": "5548d5c3",
   "metadata": {},
   "outputs": [],
   "source": [
    "#DISREGARD\n",
    "#total stellar mass in MW and M31 from 0906.4821\n",
    "M_MW_bulge = 1.5e10 #solar mass\n",
    "M_MW_disk = 3e10 #solar mass\n",
    "M_M31_bulge = 3.2e10 #solar mass\n",
    "M_M31_disk = 6e10 #solar mass\n",
    "M_MW = M_MW_bulge + M_MW_disk"
   ]
  },
  {
   "cell_type": "code",
   "execution_count": 261,
   "id": "22148eb0",
   "metadata": {},
   "outputs": [
    {
     "data": {
      "image/png": "[encoded data removed]",
      "text/plain": [
       "<Figure size 432x288 with 1 Axes>"
      ]
     },
     "metadata": {
      "needs_background": "light"
     },
     "output_type": "display_data"
    }
   ],
   "source": [
    "#DISREGARD\n",
    "#bulge fitting\n",
    "#model from 2011ApJ...739...20C for luminosity distribution\n",
    "def I(R):\n",
    "    n = 2.2\n",
    "    Re = 1\n",
    "    bn = 1.9992*n-0.3271\n",
    "    return np.exp(-bn*((R/Re)**(1/n)-1))\n",
    "\n",
    "# model for the bulge density distribution from 9612059\n",
    "#changes I made: adding a cut at small r to regularize the divergence, setting q = 1 (spherical)\n",
    "r_cut = .01\n",
    "def q(r, w):\n",
    "    return w[0]*np.exp(-r**2/(2*w[2]**2))/((r+r_cut)**w[1])\n",
    "\n",
    "def I_pred(R, w):\n",
    "    def func(l):\n",
    "        return 2*q(np.sqrt(l**2+R**2), w)\n",
    "    res = quad(func, 0, 100*w[2])[0]\n",
    "    return res\n",
    "R0 = 0\n",
    "R1 = 2\n",
    "R_test = np.linspace(R0, R1, 100)\n",
    "test_pred = np.array([I_pred(R, [1, 1.5, 1]) for R in R_test])\n",
    "test_I = I(R_test)\n",
    "plt.plot(R_test, test_I, label='actual')\n",
    "plt.plot(R_test, test_pred, label='predicted')\n",
    "plt.legend()\n",
    "\n",
    "def chi2(w, *args):\n",
    "    R_test = args[0]\n",
    "    I_test = args[1]\n",
    "    #print(I_test)\n",
    "    pred_test = np.array([I_pred(R, w) for R in R_test])\n",
    "    #print(pred_test)\n",
    "    return np.sum((I_test-pred_test)**2)"
   ]
  },
  {
   "cell_type": "code",
   "execution_count": 262,
   "id": "d8722ca5",
   "metadata": {},
   "outputs": [
    {
     "name": "stdout",
     "output_type": "stream",
     "text": [
      "initial model params:  [1, 1.5, 1]\n",
      "initial value of chi^2:  607.437023706043\n",
      "best fit model params:  [0.82750043 1.69909277 1.21942698]\n",
      "final value of chi^2:  26.26053138977646\n"
     ]
    }
   ],
   "source": [
    "#DISREGARD\n",
    "w_init = [1, 1.5, 1]\n",
    "chi_init = chi2(w_init, *(R_test, test_I))\n",
    "print('initial model params: ', w_init)\n",
    "print('initial value of chi^2: ', chi_init)\n",
    "bnds = [(.01, 5), (.5, 2), (.1, 3)]\n",
    "res = minimize(chi2, w_init, args=(R_test, test_I), bounds=bnds)\n",
    "\n",
    "w_fin = res.x\n",
    "chi_fin = chi2(w_fin, *(R_test, test_I))\n",
    "print('best fit model params: ', w_fin)\n",
    "print('final value of chi^2: ', chi_fin)\n",
    "# now the bulge model for m31 is proportional to rho_b(r, w_fin)"
   ]
  },
  {
   "cell_type": "code",
   "execution_count": 263,
   "id": "448b2d39",
   "metadata": {},
   "outputs": [
    {
     "data": {
      "text/plain": [
       "<matplotlib.legend.Legend at 0x7f8ad8bca250>"
      ]
     },
     "execution_count": 263,
     "metadata": {},
     "output_type": "execute_result"
    },
    {
     "data": {
      "image/png": "[encoded data removed]",
      "text/plain": [
       "<Figure size 432x288 with 1 Axes>"
      ]
     },
     "metadata": {
      "needs_background": "light"
     },
     "output_type": "display_data"
    }
   ],
   "source": [
    "#DISREGARD\n",
    "test_pred = np.array([I_pred(R, w_fin) for R in R_test])\n",
    "plt.plot(R_test, test_I, label='actual')\n",
    "plt.plot(R_test, test_pred, label='predicted')\n",
    "plt.legend()"
   ]
  },
  {
   "cell_type": "code",
   "execution_count": 264,
   "id": "173abb82",
   "metadata": {},
   "outputs": [
    {
     "name": "stdout",
     "output_type": "stream",
     "text": [
      "14.161642481315086\n",
      "1.429493967477674e+68\n",
      "[284.21641792   1.69909277   1.21942698]\n"
     ]
    },
    {
     "data": {
      "image/png": "[encoded data removed]",
      "text/plain": [
       "<Figure size 432x288 with 1 Axes>"
      ]
     },
     "metadata": {
      "needs_background": "light"
     },
     "output_type": "display_data"
    }
   ],
   "source": [
    "#DISREGARD\n",
    "def func(r):\n",
    "    return 4*np.pi*r**2*q(r, w_fin)\n",
    "norm_rhob = quad(func, 0, 100*w_fin[2])[0]\n",
    "print(norm_rhob)\n",
    "#energy per unit mass from several boxes above (but E_MW is really only from the disk)\n",
    "E_per_M = E_MW/M_MW_disk\n",
    "E_M31_bulge = E_per_M*M_M31_bulge\n",
    "w_normed = w_fin.copy()\n",
    "w_normed[0] = w_normed[0]*E_M31_bulge/(norm_rhob*(cm_per_pc*1000)**3)\n",
    "print(E_M31_bulge)\n",
    "print(w_normed)\n",
    "#q(r, w_normed) is the bulge radiation density in units of eV/cm^3\n",
    "r_grid= np.linspace(0, 5, 100)\n",
    "plt.plot(r_grid, rho_b(r_grid, w_normed))\n",
    "plt.yscale('log')"
   ]
  },
  {
   "cell_type": "code",
   "execution_count": 265,
   "id": "7e1fe8fb",
   "metadata": {},
   "outputs": [
    {
     "name": "stdout",
     "output_type": "stream",
     "text": [
      "(4864.011149516923, 2.3852447861773263e-05)\n"
     ]
    }
   ],
   "source": [
    "#DISREGARD\n",
    "def f(r):\n",
    "    return 4*np.pi*(r**2)*q(r, w_normed)\n",
    "res = quad(f, 0, 100*w_normed[2])\n",
    "print(res)"
   ]
  },
  {
   "cell_type": "code",
   "execution_count": null,
   "id": "80054264",
   "metadata": {},
   "outputs": [],
   "source": [
    "#DISREGARD\n",
    "def integrand(r, z):\n",
    "    return ((z**2+r**2)*q(r)/(z**2))*np.log((z+r)/np.abs(z-r))"
   ]
  },
  {
   "cell_type": "code",
   "execution_count": 260,
   "id": "c7d022ee",
   "metadata": {},
   "outputs": [
    {
     "data": {
      "image/png": "[encoded data removed]",
      "text/plain": [
       "<Figure size 432x288 with 1 Axes>"
      ]
     },
     "metadata": {
      "needs_background": "light"
     },
     "output_type": "display_data"
    }
   ],
   "source": [
    "#DISREGARD\n",
    "def disk(R, z):\n",
    "    Rd = 6\n",
    "    zd = .5\n",
    "    return np.exp(-R/Rd)*np.exp(-np.abs(z)/zd)/(4*np.pi*(Rd**2)*zd)\n",
    "\n",
    "E_M31_disk = E_per_M*M_M31_disk\n",
    "\n",
    "def disk_norm(R, z):\n",
    "    return (E_M31_disk/((cm_per_pc*1000)**3))*disk(R, z)\n",
    "\n",
    "R_grid = np.linspace(0, 30, 100)\n",
    "plt.plot(R_grid, disk_norm(R_grid, 0))\n",
    "plt.yscale('log')\n",
    "    "
   ]
  },
  {
   "cell_type": "code",
   "execution_count": 8,
   "id": "64d09660",
   "metadata": {},
   "outputs": [
    {
     "name": "stdout",
     "output_type": "stream",
     "text": [
      "MV_bulge =  -20.215682148679463\n",
      "MV_disk =  -20.593851337006086\n",
      "0.17114345163962952 0.44824099732723255\n",
      "8393.275045312594 6633.352977268126\n"
     ]
    }
   ],
   "source": [
    "#DISREGARD\n",
    "L0 = 3.0128e28\n",
    "Lsun = 3.828e26\n",
    "def mag(L):\n",
    "    return -2.5*np.log10(L/L0)\n",
    "\n",
    "def eff_temp(C):\n",
    "    return 4600*(1/(0.92*C + 1.7) + 1/(0.92*C + 0.62))\n",
    "\n",
    "LB_bul = 0.82e10*Lsun\n",
    "LV_bul = 0.96e10*Lsun\n",
    "\n",
    "LB_dis = 0.90e10*Lsun\n",
    "LV_dis = 1.36e10*Lsun\n",
    "\n",
    "MB_bul = mag(LB_bul)\n",
    "MV_bul = mag(LV_bul)\n",
    "print('MV_bulge = ', MV_bul)\n",
    "MB_dis = mag(LB_dis)\n",
    "MV_dis = mag(LV_dis)\n",
    "print('MV_disk = ', MV_dis)\n",
    "C_bul = MB_bul - MV_bul\n",
    "C_dis = MB_dis - MV_dis\n",
    "print(C_bul, C_dis)\n",
    "T_bul = eff_temp(C_bul)\n",
    "T_dis = eff_temp(C_dis)\n",
    "print(T_bul, T_dis)"
   ]
  },
  {
   "cell_type": "code",
   "execution_count": 13,
   "id": "b3c0e9b4",
   "metadata": {},
   "outputs": [
    {
     "name": "stdout",
     "output_type": "stream",
     "text": [
      "Lbol bulge =  1.03e+10  solar luminosity\n",
      "Lbol disk =  1.34e+10  solar luminosity\n"
     ]
    }
   ],
   "source": [
    "#DISREGARD\n",
    "#based on B-V and table 3 of 1996ApJ...469..355F\n",
    "BC_bul = 0.028\n",
    "BC_dis = 0.006\n",
    "\n",
    "#1008.3913 eq 9 and near\n",
    "V_sun = -26.76\n",
    "BC_V_sun = -0.08\n",
    "\n",
    "def Lbol(M_V, BC_V, V_sun, BC_V_sun):\n",
    "    return 10**(-0.4*(M_V-V_sun - 31.572+(BC_V-BC_V_sun)))\n",
    "\n",
    "Lbol_bul = Lbol(MV_bul, BC_V_sun, V_sun, BC_V_sun)\n",
    "Lbol_dis = Lbol(MV_dis, BC_dis, V_sun, BC_V_sun)\n",
    "print('Lbol bulge = ', '{:.2e}'.format(Lbol_bul), ' solar luminosity')\n",
    "print('Lbol disk = ', '{:.2e}'.format(Lbol_dis), ' solar luminosity')"
   ]
  },
  {
   "cell_type": "code",
   "execution_count": 26,
   "id": "19be3c8e",
   "metadata": {},
   "outputs": [
    {
     "name": "stdout",
     "output_type": "stream",
     "text": [
      "rho_*: L_bul (ugriz) =  [3.40e+09 5.80e+09 7.60e+09 1.03e+10 1.29e+10]  L_solar\n",
      "rho_*: L_dis (ugriz) =  [7.90e+09 1.07e+10 1.43e+10 1.92e+10 2.05e+10]  L_solar\n"
     ]
    }
   ],
   "source": [
    "DA = 785\n",
    "DA_theirs = 785\n",
    "Lsun = 3.828e26\n",
    "D_rat = DA/DA_theirs\n",
    "L_bul_bands = np.array([0.34, 0.58, 0.76, 1.03, 1.29])*(10**10)*Lsun*D_rat**2\n",
    "print('rho_*: L_bul (ugriz) = ', L_bul_bands/Lsun, ' L_solar')\n",
    "L_bul = np.sum(L_bul_bands)\n",
    "\n",
    "L_dis_bands = np.array([0.79, 1.07, 1.43, 1.92, 2.05])*(10**10)*Lsun*D_rat**2\n",
    "print('rho_*: L_dis (ugriz) = ', L_dis_bands/Lsun, ' L_solar')\n",
    "L_dis = np.sum(L_dis_bands)"
   ]
  },
  {
   "cell_type": "code",
   "execution_count": 27,
   "id": "ae0563ed",
   "metadata": {},
   "outputs": [
    {
     "data": {
      "image/png": "[encoded data removed]",
      "text/plain": [
       "<Figure size 432x288 with 1 Axes>"
      ]
     },
     "metadata": {
      "needs_background": "light"
     },
     "output_type": "display_data"
    }
   ],
   "source": [
    "c = 2.998e10\n",
    "#SED model taken from 1206.2925\n",
    "#lam = np.array([0.07670377774013278, 0.08758069292951086, 0.09190746453887037, 0.09761775055449239, 0.10621308186910859, 0.11982130117534326, 0.13847177413992742, 0.16591868153504355, 0.19880592310826317, 0.2353573408996955, 0.2786289112986349, 0.31432737012578627, 0.38582239674198454, 0.4735792551827718, 0.6717770004792022, 0.9761775055449238, 1.2127453930353573, 1.9880592310826317, 2.469847604438496, 3.6765885147551463, 4.969756135303316, 8.653120964151322, 13.03716752241243, 20.365755406060636, 27.529008882327215, 40.00315462081112, 54.073476623886854, 82.45753855202204, 104.94032584652184, 152.49165339518152, 191.74432233459098, 226.9974311213451, 288.8903162343209, 342.0041796418484, 414.7639932594884, 473.5792551827723, 509.10373442062587])\n",
    "#nuL_nu = np.array([5361277.571242457, 5452370.58120615, 12036155.914225528, 23614063.76922262, 36594400.27510925, 42586141.49031899, 49558933.42695471, 44793965.60543792, 44793965.60543792, 56709854.96534044, 119017207.47204052, 344021326.3039766, 945387283.130796, 2308950562.042817, 3892636964.92945, 5097028631.688903, 5011872336.272715, 3126957303.034208, 1620899534.5951295, 746742263.2320422, 310944533.95996636, 127314552.7657828, 52128253.03447241, 17732929.513788167, 14244871.522031467, 26126014.932169702, 56709854.96534044, 97231028.13046852, 105776756.02831738, 71795555.64510077, 44793965.60543792, 27947403.38217685, 12448641.243525395, 6674062.109135651, 3234119.7577282498, 1854781.1900706147, 1392843.8759401657])\n",
    "lam_in = np.array([0.0713428064863887, 0.07217837157209327, 0.07830785170932744, 0.08495785518249224, 0.08695955724036458, 0.092172585502682, 0.09325210841603772, 0.09434427467355162, 0.09769812298797774, 0.10355490391550627, 0.10723618124949734, 0.1163428156698252, 0.12188973426067189, 0.1291967474257792, 0.1401683013676771, 0.1503111337089839, 0.15932194532109953, 0.17692435076910862, 0.19877259647528558, 0.21565262099488544, 0.2394786222593521, 0.25089633133122635, 0.25981545483758167, 0.2690516446146932, 0.2851806805931371, 0.28852070927376594, 0.29531857977380993, 0.32039741335585825, 0.3356731169596498, 0.3557959591306837, 0.37275937203149406, 0.38601060954325817, 0.4091510702466314, 0.4286583141185406, 0.4543554080009373, 0.504554067658333, 0.5474014479540142, 0.6518674444190315, 0.7409434823919703, 0.8620345099368735, 0.9684864578933395, 1.0754879840697025, 1.2512530028573332, 1.4388907241083917, 1.561083174851945, 1.7538600799171762, 1.8590000145592838, 2.0885664304275147, 2.346481818260158, 2.5162774956159635, 2.698359895939048, 3.1761158401926246, 3.7384604794579905, 4.2990794779744865, 4.943768821282542, 6.313247922613713, 7.876508658245336, 9.271077572905224, 11.16967289952855, 13.301291319609113, 17.38610409791124, 21.440074782266933, 25.531694899066768, 30.760251799270836, 34.558810541314166])\n",
    "nuL_nu_in = np.array([18545361.10624149, 21466671.275519878, 20115434.215262514, 18246369.720400795, 20780072.518241715, 25255323.810302965, 46836909.99171273, 64828310.84981073, 84082551.57538997, 89730724.94285637, 100543255.03532074, 92695536.74422744, 72640106.22261776, 92695536.74422744, 84082551.57538997, 80080985.9989316, 68067715.73276266, 69183097.09189363, 62754815.75154279, 72640106.22261776, 64828310.84981073, 73830412.3689867, 85460357.62699245, 155934128.16997814, 98922280.01155461, 186461097.142696, 298740509.706984, 406828870.28636146, 563103511.1041305, 651804939.1281583, 766841984.3745797, 902181916.2433825, 1208795796.6963427, 1542535949.018819, 2170054235.811429, 2680620250.5806093, 3153722883.81164, 3771122049.424196, 4294782516.3576584, 4509388438.86792, 4971307053.572105, 5219718220.435663, 4812302743.997431, 4294782516.3576584, 4583280852.498195, 4436687330.978606, 3771122049.424196, 2955209235.202888, 2135068261.7126985, 1517666928.7574182, 1269198095.552805, 994596802.7877166, 718572492.782285, 510781658.72581613, 329341954.73009574, 180497249.46758386, 100543255.03532074, 62754815.75154279, 37304799.13308887, 22175956.08709747, 10330412.10836747, 5754399.373371567, 3205400.888260593, 1814778.0986393234, 1311133.937421563])\n",
    "lam_cm_in = lam_in*(1e2/1e6)\n",
    "L_lam_in = nuL_nu_in/lam_cm_in\n",
    "log_lam_in = np.log(lam_cm_in)\n",
    "log_L_lam_in = np.log(L_lam_in)\n",
    "plt.plot(lam_cm_in, L_lam_in)\n",
    "plt.yscale('log')\n",
    "plt.xscale('log')"
   ]
  },
  {
   "cell_type": "code",
   "execution_count": 28,
   "id": "667f4b2b",
   "metadata": {},
   "outputs": [
    {
     "data": {
      "image/png": "[encoded data removed]",
      "text/plain": [
       "<Figure size 432x288 with 1 Axes>"
      ]
     },
     "metadata": {
      "needs_background": "light"
     },
     "output_type": "display_data"
    }
   ],
   "source": [
    "# wavelengths of ugriz filters taken from 1206.2925\n",
    "lam_ugriz = np.array([0.3545995824686593, 0.46790433417870153, 0.6174132084957098, 0.7487650242023506, 0.8864290474836294])\n",
    "lam_ugriz_cm = lam_ugriz*1e2/1e6\n",
    "L_lam_temp_bul = L_bul_bands/(Lsun*lam_ugriz_cm)\n",
    "plt.plot(lam_cm_in, L_lam_in, color='b')\n",
    "plt.scatter(lam_ugriz_cm, L_lam_temp_bul, color='r')\n",
    "plt.yscale('log')\n",
    "plt.xscale('log')"
   ]
  },
  {
   "cell_type": "code",
   "execution_count": 29,
   "id": "49813e01",
   "metadata": {},
   "outputs": [
    {
     "name": "stderr",
     "output_type": "stream",
     "text": [
      "/cms/base/HETconda/miniconda3/lib/python3.7/site-packages/ipykernel_launcher.py:4: IntegrationWarning: The maximum number of subdivisions (50) has been achieved.\n",
      "  If increasing the limit yields no improvement it is advised to analyze \n",
      "  the integrand in order to determine the difficulties.  If the position of a \n",
      "  local difficulty can be determined (singularity, discontinuity) one will \n",
      "  probably gain from splitting up the interval and calling the integrator \n",
      "  on the subranges.  Perhaps a special-purpose integrator should be used.\n",
      "  after removing the cwd from sys.path.\n"
     ]
    }
   ],
   "source": [
    "L_lam_interp_in_loglog = interp1d(log_lam_in, log_L_lam_in, kind='linear')\n",
    "def L_lam_in(lam):\n",
    "    return np.exp(L_lam_interp_in_loglog(np.log(lam)))\n",
    "norm_in = quad(L_lam_in, lam_cm_in[0], lam_cm_in[-1])[0]"
   ]
  },
  {
   "cell_type": "code",
   "execution_count": 31,
   "id": "bd389d72",
   "metadata": {},
   "outputs": [
    {
     "name": "stdout",
     "output_type": "stream",
     "text": [
      "L_bul_tot =  19811427935.3067\n"
     ]
    },
    {
     "data": {
      "image/png": "[encoded data removed]",
      "text/plain": [
       "<Figure size 432x288 with 1 Axes>"
      ]
     },
     "metadata": {
      "needs_background": "light"
     },
     "output_type": "display_data"
    }
   ],
   "source": [
    "tex_label='bulge_SED'\n",
    "p_in = L_lam_in(lam_ugriz_cm)\n",
    "sigma = np.ones(5)\n",
    "w_bul = np.sum(p_in*L_lam_temp_bul/sigma**2)/np.sum(p_in*p_in/sigma**2)\n",
    "L_bul_tot = norm_in*w_bul\n",
    "print('L_bul_tot = ', L_bul_tot)\n",
    "lam_grid = np.logspace(np.log10(1.0001*lam_cm_in[0]), np.log10(.9999*lam_cm_in[-1]), 1000)\n",
    "L_lam_bul = w_bul*L_lam_in(lam_grid)\n",
    "plt.plot(lam_grid, L_lam_bul, color='b')\n",
    "plt.scatter(lam_ugriz_cm, L_lam_temp_bul, color='r')\n",
    "plt.yscale('log')\n",
    "plt.xscale('log')\n",
    "np.save(array_path + tex_label + '__model_L.npy', L_lam_bul)\n",
    "np.save(array_path + tex_label + '__model_lamda_cm.npy', lam_grid)\n",
    "np.save(array_path + tex_label + '__data_L.npy', L_lam_temp_bul)\n",
    "np.save(array_path + tex_label + '__data_lamda_cm.npy', lam_ugriz_cm)"
   ]
  },
  {
   "cell_type": "code",
   "execution_count": 32,
   "id": "f0f09910",
   "metadata": {},
   "outputs": [],
   "source": [
    "#digitized Fig. 1 of 2012IAUS..284..112G\n",
    "lam_whole = np.array([0.07377336677660544, 0.08433809324771309, 0.09183577366566532, 0.09524977020517593, 0.09641574301737776, 0.10371750180048521, 0.11857038278810225, 0.1388891845272348, 0.15496177083780652, 0.17501075130470117, 0.2000731931834353, 0.23152457400469825, 0.26147926306594255, 0.2745195736458938, 0.2953094949312852, 0.3138321919152509, 0.3335166879928746, 0.34173196281634144, 0.34591517687392836, 0.367612013966422, 0.3906697417375856, 0.4051928964206313, 0.42540039261807344, 0.4466156629057745, 0.47462873642452985, 0.5295539010989971, 0.5836900613828859, 0.6592079815519482, 0.7354930948685566, 0.8306513175245793, 0.9612291850612701, 1.0855931817509665, 1.2260474136447146, 1.3846736381306082, 1.6219580970739451, 1.8542308588020762, 2.0941315650746346, 2.3082141010113064, 2.394022001775456, 2.5134149894729756, 2.7037609786302688, 3.053574037390725, 3.325037635668513, 3.620634424852292, 3.9425098524606215, 4.293000096905166, 4.618117657403647, 4.967857026837256, 5.475719783988444, 5.962512826344984, 6.336499508930639, 6.899816113053196, 7.51321172310528, 8.28128544184233, 8.908443899766501, 9.700407089941145, 10.435038494025527, 11.501809818547429, 12.372865086451885, 13.47281630304132, 14.317871738729004, 15.402193058586777, 16.77145239137371, 18.26243926732885, 19.645490646159683])\n",
    "nuL_nu_whole = np.array([259020020.45313278, 259020020.45313278, 263026799.18953815, 486034017.59902257, 940444851.7263504, 1278399719.4630256, 1278399719.4630256, 1183949922.229304, 1031177274.593056, 1130663397.9496377, 1183949922.229304, 1278399719.4630256, 1298175275.049849, 1609409893.262536, 2290867652.76777, 3114105584.4467645, 3414548873.8336005, 4042654873.6234493, 4570881896.148752, 5329257028.812003, 6407176188.675537, 8190932242.152985, 10633265716.371628, 12981752750.49849, 14905046433.861977, 16595869074.375631, 18764341719.560856, 20574691560.47836, 22559700688.435772, 24736219916.386276, 25902002045.31328, 23622906626.344604, 20892961308.54041, 19054607179.632523, 19952623149.688828, 16595869074.375631, 13803842646.028866, 11134396090.62362, 8981178609.606941, 7470218989.273312, 6213457517.480752, 5168128856.32603, 4365158322.401666, 3521005201.6845207, 2884031503.1266117, 2326305067.153629, 1791980722.375336, 1467799267.6220675, 1220862254.0590694, 984766652.1101599, 819093224.2152985, 660693448.0075965, 508940095.1518094, 398107170.5534969, 321119490.9364817, 259020020.45313278, 202612701.26211432, 156074996.30921113, 123974776.30289453, 98476665.21101578, 80661569.21766128, 65062887.48655574, 51681288.5632603, 39810717.05534969, 33113112.148259077])\n",
    "\n",
    "#convert to luminosity per cm and wavelength in cm\n",
    "lam_cm_whole = lam_whole*(1e2/1e6)\n",
    "L_lam_whole= nuL_nu_whole/lam_cm_whole\n",
    "\n",
    "#take the log of luminosity per wavelength and wavelength\n",
    "log_lam_whole = np.log(lam_cm_whole)\n",
    "log_L_lam_whole = np.log(L_lam_whole)\n",
    "\n",
    "# wavelengths of ugriz filters taken from 1206.2925\n",
    "lam_ugriz = np.array([0.3545995824686593, 0.46790433417870153, 0.6174132084957098, 0.7487650242023506, 0.8864290474836294])\n",
    "lam_ugriz_cm = lam_ugriz*1e2/1e6\n",
    "L_lam_temp_disk = L_dis_bands/(Lsun*lam_ugriz_cm)\n"
   ]
  },
  {
   "cell_type": "code",
   "execution_count": 33,
   "id": "a09a46ba",
   "metadata": {},
   "outputs": [
    {
     "name": "stderr",
     "output_type": "stream",
     "text": [
      "/cms/base/HETconda/miniconda3/lib/python3.7/site-packages/ipykernel_launcher.py:11: IntegrationWarning: The maximum number of subdivisions (50) has been achieved.\n",
      "  If increasing the limit yields no improvement it is advised to analyze \n",
      "  the integrand in order to determine the difficulties.  If the position of a \n",
      "  local difficulty can be determined (singularity, discontinuity) one will \n",
      "  probably gain from splitting up the interval and calling the integrator \n",
      "  on the subranges.  Perhaps a special-purpose integrator should be used.\n",
      "  # This is added back by InteractiveShellApp.init_path()\n"
     ]
    },
    {
     "data": {
      "image/png": "[encoded data removed]",
      "text/plain": [
       "<Figure size 432x288 with 1 Axes>"
      ]
     },
     "metadata": {
      "needs_background": "light"
     },
     "output_type": "display_data"
    }
   ],
   "source": [
    "L_lam_interp_whole_loglog = interp1d(log_lam_whole, log_L_lam_whole, kind='linear')\n",
    "def L_lam_disk(lam):\n",
    "    return np.exp(L_lam_interp_whole_loglog(np.log(lam)))-w_bul*L_lam_in(lam)\n",
    "\n",
    "lam_grid = np.logspace(np.log10(1.0001*lam_cm_whole[0]), np.log10(.9999*lam_cm_whole[-1]), 1000)\n",
    "L_lam_whole_ar = L_lam_disk(lam_grid)\n",
    "plt.plot(lam_grid, L_lam_whole_ar, color='b')\n",
    "plt.scatter(lam_ugriz_cm, L_lam_temp_disk, color='r')\n",
    "plt.yscale('log')\n",
    "plt.xscale('log')\n",
    "norm_disk = quad(L_lam_disk, lam_cm_whole[0], lam_cm_whole[-1])[0]"
   ]
  },
  {
   "cell_type": "code",
   "execution_count": 34,
   "id": "e50193cc",
   "metadata": {},
   "outputs": [
    {
     "name": "stdout",
     "output_type": "stream",
     "text": [
      "L_dis_tot =  30247714964.08377\n"
     ]
    },
    {
     "data": {
      "image/png": "[encoded data removed]",
      "text/plain": [
       "<Figure size 432x288 with 1 Axes>"
      ]
     },
     "metadata": {
      "needs_background": "light"
     },
     "output_type": "display_data"
    }
   ],
   "source": [
    "tex_label='disk_SED'\n",
    "p_disk = L_lam_disk(lam_ugriz_cm)\n",
    "w_disk = np.sum(p_disk*L_lam_temp_disk/sigma**2)/np.sum(p_disk*p_disk/sigma**2)\n",
    "L_dis_tot = norm_disk*w_disk\n",
    "print('L_dis_tot = ', L_dis_tot)\n",
    "L_lam_disk_ar = w_disk*L_lam_disk(lam_grid)\n",
    "plt.plot(lam_grid, L_lam_disk_ar, color='b')\n",
    "plt.scatter(lam_ugriz_cm, L_lam_temp_disk, color='r')\n",
    "plt.yscale('log')\n",
    "plt.xscale('log')\n",
    "np.save(array_path + tex_label + '__model_L.npy', L_lam_disk_ar)\n",
    "np.save(array_path + tex_label + '__model_lamda_cm.npy', lam_grid)\n",
    "np.save(array_path + tex_label + '__data_L.npy', L_lam_temp_disk)\n",
    "np.save(array_path + tex_label + '__data_lamda_cm.npy', lam_ugriz_cm)"
   ]
  },
  {
   "cell_type": "code",
   "execution_count": 35,
   "id": "ab1df4c0",
   "metadata": {},
   "outputs": [],
   "source": [
    "beta = 77.5*np.pi/180\n",
    "# w = [Q0, a0, N, q]\n",
    "def Q(R, z, w):\n",
    "    a = np.sqrt(R**2+z**2/w[3]**2)\n",
    "    return w[0]*np.exp(-(a/w[1])**(1/w[2]))\n",
    "# w = [Q0, a0, N, q]    \n",
    "def Q_st(l, c_th, phi, w):\n",
    "    rho = l*np.sqrt(1-c_th**2)\n",
    "    R = np.sqrt((rho**2)*(np.cos(phi)**2)+(rho*np.sin(phi)*np.cos(beta)+ l*np.sin(beta))**2)\n",
    "    z = -rho*np.sin(phi)*np.sin(beta)+l*np.cos(beta)\n",
    "    return Q(R, z, w)\n"
   ]
  },
  {
   "cell_type": "code",
   "execution_count": 36,
   "id": "f8b99b03",
   "metadata": {},
   "outputs": [
    {
     "name": "stdout",
     "output_type": "stream",
     "text": [
      "A0 =  [0.00455414 2.573186  ]  kpc\n",
      "N =  [2.7, 1.2]\n",
      "q =  [0.72, 0.17]\n",
      "(0.014235835614203479, 1.4424803004198635e-08)\n",
      "bulge: [Q0, A0, N, q] =  [5.327270431578199e+38, 0.0045541439999999996, 2.7, 0.72]\n",
      "(162.34873877197555, 8.041289864197111e-07)\n",
      "disk: [Q0, A0, N, q] =  [7.132069750485792e+34, 2.5731859999999998, 1.2, 0.17]\n"
     ]
    }
   ],
   "source": [
    "#simpler way of getting the norm\n",
    "def find_renormed_params(L, a0, k, N, q):\n",
    "    a0 = a0*k\n",
    "    wd = [1, a0, N, q]\n",
    "    func = lambda z, R: 4*np.pi*R*Q(R, z, wd)\n",
    "    res = dblquad(func, 0, 1000, 0, 500)\n",
    "    print(res)\n",
    "    norm = res[0]\n",
    "    Q0 = L/norm\n",
    "    wd_fin = wd.copy()\n",
    "    wd_fin[0]=Q0\n",
    "    return wd_fin\n",
    "\n",
    "a0 = np.array([0.63, 7.7])*D_rat \n",
    "k = [7.2288e-3, 0.33418]\n",
    "N = [2.7, 1.2]\n",
    "q = [0.72, 0.17]\n",
    "print('A0 = ', a0*k, ' kpc')\n",
    "print('N = ', N)\n",
    "print('q = ', q)\n",
    "w_bul = find_renormed_params(L_bul_tot*Lsun, a0[0], k[0], N[0], q[0])\n",
    "print('bulge: [Q0, A0, N, q] = ', w_bul)\n",
    "w_dis = find_renormed_params(L_dis_tot*Lsun, a0[1], k[1], N[1], q[1])\n",
    "print('disk: [Q0, A0, N, q] = ', w_dis)"
   ]
  },
  {
   "cell_type": "code",
   "execution_count": 37,
   "id": "06ea278c",
   "metadata": {},
   "outputs": [
    {
     "name": "stdout",
     "output_type": "stream",
     "text": [
      "Q_bul,0 =  1391658942418.5474\n",
      "Q_dis,0 =  186313211.87266958\n"
     ]
    }
   ],
   "source": [
    "print('Q_bul,0 = ', w_bul[0]/Lsun)\n",
    "print('Q_dis,0 = ', w_dis[0]/Lsun)"
   ]
  },
  {
   "cell_type": "code",
   "execution_count": null,
   "id": "f14666f3",
   "metadata": {},
   "outputs": [],
   "source": [
    "nz0 = 30\n",
    "nrho = 60\n",
    "eps = .0001\n",
    "rho = np.logspace(-1, 2, nrho-1)\n",
    "rho = np.insert(rho, 0, 0)\n",
    "z0 = np.logspace(-2, np.log10(50), nz0-1)\n",
    "z0 = np.insert(z0, 0, 0)\n",
    "def find_energy_density(w):\n",
    "    integrands = [[lambda x, rhov=rho[i], z0v=z0[j]: x[0]*Q(x[0], x[1], w)/ \\\n",
    "                   ((4*np.pi*c)*(rhov**2 + z0v**2 + x[0]**2 + x[1]**2 - 2*x[1]*z0v-2*x[0]*rhov*np.cos(x[2]))) \\\n",
    "              for i in range(nrho)] for j in range(nz0)]\n",
    "    def do_int(integ, integ_space):\n",
    "        #print('starting triple integral')\n",
    "        integ_space(integ, nitn=5, neval=5000)\n",
    "        result = integ_space(integ, nitn=7, neval=20000)\n",
    "        return result\n",
    "\n",
    "    integ_space = vegas.Integrator([[0, 100], [-50, 50], [0, 2*np.pi]])\n",
    "    res = [[do_int(integ, integ_space) for integ in integ_row] for integ_row in integrands]\n",
    "    res_mean = np.array([[res[j][i].mean for i in range(nrho)] for j in range(nz0)])\n",
    "    res_sdev = np.array([[res[j][i].sdev for i in range(nrho)] for j in range(nz0)])\n",
    "    return res_mean, res_sdev\n",
    "\n",
    "rho_bul_mean, rho_bul_sdev = find_energy_density(w_bul)\n",
    "print('done with bulge')\n",
    "rho_dis_mean, rho_dis_sdev = find_energy_density(w_dis)\n",
    "print('done with disk')"
   ]
  },
  {
   "cell_type": "code",
   "execution_count": 39,
   "id": "5a4bf497",
   "metadata": {},
   "outputs": [],
   "source": [
    "eV_per_J = 6.242e18\n",
    "c = 2.998e10 #cm/s\n",
    "cm_per_pc = 3.086e18\n",
    "rho_bul_mean = rho_bul_mean*eV_per_J/((cm_per_pc*1000)**2)\n",
    "rho_bul_sdev = rho_bul_sdev*eV_per_J/((cm_per_pc*1000)**2)\n",
    "rho_dis_mean = rho_dis_mean*eV_per_J/((cm_per_pc*1000)**2)\n",
    "rho_dis_sdev = rho_dis_sdev*eV_per_J/((cm_per_pc*1000)**2)\n",
    "#print(rho_bul_mean)\n",
    "#print(rho_dis_mean)"
   ]
  },
  {
   "cell_type": "code",
   "execution_count": 40,
   "id": "f7767dba",
   "metadata": {},
   "outputs": [],
   "source": [
    "base_path = os.getcwd().split('scripts')[0]\n",
    "rho_gamma = rho_bul_mean+rho_dis_mean\n",
    "lnrho = interp2d(rho, z0, np.log(rho_gamma), kind='cubic')\n",
    "lnrho_bul = interp2d(rho, z0, np.log(rho_bul_mean), kind='cubic')\n",
    "lnrho_dis = interp2d(rho, z0, np.log(rho_dis_mean), kind='cubic')\n",
    "np.save(model_funcs_path +'lnrho_interp.npy', lnrho)"
   ]
  },
  {
   "cell_type": "code",
   "execution_count": 45,
   "id": "8a03899e",
   "metadata": {},
   "outputs": [
    {
     "name": "stdout",
     "output_type": "stream",
     "text": [
      "90\n"
     ]
    }
   ],
   "source": [
    "a = 5\n",
    "def test(x):\n",
    "    return a*x**2\n",
    "#np.save(base_path + 'astro_model_funcs/test.npy', test)\n",
    "f = np.load(base_path + 'astro_model_funcs/test.npy', allow_pickle=True)[()]\n",
    "a = 10\n",
    "print(f(3))"
   ]
  },
  {
   "cell_type": "code",
   "execution_count": 43,
   "id": "60ac9adf",
   "metadata": {},
   "outputs": [
    {
     "data": {
      "text/plain": [
       "Text(0.5, 1.0, '$z = 0$')"
      ]
     },
     "execution_count": 43,
     "metadata": {},
     "output_type": "execute_result"
    },
    {
     "data": {
      "image/png": "[encoded data removed]",
      "text/plain": [
       "<Figure size 432x288 with 1 Axes>"
      ]
     },
     "metadata": {
      "needs_background": "light"
     },
     "output_type": "display_data"
    }
   ],
   "source": [
    "tex_label = 'ISRF'\n",
    "\n",
    "#res_ar = np.load(base_path + '/lnrho_interp.npy', allow_pickle=True)\n",
    "R_grid = np.linspace(0, 50000, 1000)/1000\n",
    "rho_tot = np.exp(lnrho(R_grid, 0))\n",
    "rho_bul = np.exp(lnrho_bul(R_grid, 0))\n",
    "rho_dis = np.exp(lnrho_dis(R_grid, 0))\n",
    "arrays = [R_grid, rho_tot, rho_bul, rho_dis]\n",
    "names = ['R', 'rho_tot', 'rho_bulge', 'rho_disk']\n",
    "for array, name in zip(arrays, names):\n",
    "    np.save(array_path + tex_label + '__' + name + '.npy', array)\n",
    "plt.plot(R_grid, rho_tot, label='tot')\n",
    "plt.plot(R_grid, rho_bul, label= 'bulge')\n",
    "plt.plot(R_grid,rho_dis, label='disk')\n",
    "plt.legend()\n",
    "plt.yscale('log')\n",
    "plt.xscale('log')\n",
    "plt.xlabel(r'$R \\rm{(pc)}$', size=16)\n",
    "plt.ylabel(r'$\\rho_* \\rm{(eV/cm^3)}$', size=16)\n",
    "plt.title(r'$z = 0$', size=20)\n",
    "#plt.savefig(base_path + 'random_figs/rho_all_components.pdf')"
   ]
  },
  {
   "cell_type": "code",
   "execution_count": 47,
   "id": "ae3fb704",
   "metadata": {},
   "outputs": [
    {
     "name": "stdout",
     "output_type": "stream",
     "text": [
      "True\n"
     ]
    }
   ],
   "source": []
  },
  {
   "cell_type": "code",
   "execution_count": null,
   "id": "6f517b9e",
   "metadata": {},
   "outputs": [],
   "source": []
  }
 ],
 "metadata": {
  "kernelspec": {
   "display_name": "Python 3",
   "language": "python",
   "name": "python3"
  },
  "language_info": {
   "codemirror_mode": {
    "name": "ipython",
    "version": 3
   },
   "file_extension": ".py",
   "mimetype": "text/x-python",
   "name": "python",
   "nbconvert_exporter": "python",
   "pygments_lexer": "ipython3",
   "version": "3.7.10"
  }
 },
 "nbformat": 4,
 "nbformat_minor": 5
}
