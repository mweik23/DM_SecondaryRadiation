{
 "cells": [
  {
   "cell_type": "code",
   "execution_count": null,
   "id": "8002d5c8",
   "metadata": {},
   "outputs": [],
   "source": [
    "import numpy as np\n",
    "import matplotlib.pyplot as plt\n",
    "import os"
   ]
  },
  {
   "cell_type": "code",
   "execution_count": null,
   "id": "d399c248",
   "metadata": {},
   "outputs": [],
   "source": [
    "this_path = os.getcwd()\n",
    "sec_rad_path = this_path.split('scripts')[0]\n",
    "e_spec_path = sec_rad_path + 'electron_spectrum/'\n",
    "spec_name = '0001_electron_spectrum.npy'\n",
    "bins_name = '0001_electron_spectrum_bins.npy'"
   ]
  },
  {
   "cell_type": "code",
   "execution_count": null,
   "id": "4ea0ef95",
   "metadata": {},
   "outputs": [],
   "source": [
    "espec = np.load\n",
    "bins = np.load()"
   ]
  }
 ],
 "metadata": {
  "kernelspec": {
   "display_name": "Python 3",
   "language": "python",
   "name": "python3"
  },
  "language_info": {
   "codemirror_mode": {
    "name": "ipython",
    "version": 3
   },
   "file_extension": ".py",
   "mimetype": "text/x-python",
   "name": "python",
   "nbconvert_exporter": "python",
   "pygments_lexer": "ipython3",
   "version": "3.8.8"
  }
 },
 "nbformat": 4,
 "nbformat_minor": 5
}
