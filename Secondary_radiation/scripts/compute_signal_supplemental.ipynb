{
 "cells": [
  {
   "cell_type": "code",
   "execution_count": 202,
   "id": "dd38e425",
   "metadata": {},
   "outputs": [],
   "source": [
    "import numpy as np\n",
    "import matplotlib.pyplot as plt\n",
    "import manipulate_text as mt\n",
    "import os\n",
    "from astropy.io import fits\n",
    "import re\n",
    "from scipy.interpolate import interp2d\n",
    "import meta_variables as mv\n",
    "import constants_and_functions as cf"
   ]
  },
  {
   "cell_type": "code",
   "execution_count": 203,
   "id": "53caa865",
   "metadata": {},
   "outputs": [],
   "source": [
    "this_path = os.getcwd()\n",
    "base_path = this_path.split('scripts')[0]\n",
    "array_path = base_path+'fig_arrays/'\n",
    "astro_model = 'Andromeda5'\n",
    "fits_path = base_path.split('Secondary_radiation')[0] + 'synchrotron_data/'\n",
    "fits_name = 'm31cm3nthnew.ss.90sec.fits'"
   ]
  },
  {
   "cell_type": "code",
   "execution_count": 204,
   "id": "502c2f23",
   "metadata": {},
   "outputs": [],
   "source": [
    "def get_data_and_info(fits_path, fits_name):\n",
    "    #extract data and information about data\n",
    "    hdul = fits.open(fits_path+fits_name)\n",
    "    data_uJ = hdul[0].data[0]\n",
    "    data = data_uJ/1000 #mJ/beam\n",
    "    hdr = hdul[0].header\n",
    "    dlt_N_deg = abs(hdr['CDELT1'])\n",
    "    dlt_n_deg = abs(hdr['CDELT2'])\n",
    "    N = hdr['NAXIS1']\n",
    "    n = hdr['NAXIS2']\n",
    "    nu_data = hdr['CRVAL3']\n",
    "    nu_BW = hdr['CDELT3']\n",
    "    HPBW_deg = hdr['BMIN']\n",
    "    return data, dlt_N_deg, dlt_n_deg, N, n, HPBW_deg, nu_data, nu_BW \n",
    "\n",
    "def make_coords(N, n, dlt_N, dlt_n, loc='centered'):\n",
    "    if loc=='centered':\n",
    "        ax_N_unit = np.linspace(-(N-1)/2, (N-1)/2, N)\n",
    "        ax_n_unit = np.linspace(-(n-1)/2, (n-1)/2, n)\n",
    "    elif loc=='edges':\n",
    "        ax_N_unit = np.linspace(-N/2, N/2, N+1)\n",
    "        ax_n_unit = np.linspace(-n/2, n/2, n+1)\n",
    "    return dlt_N*ax_N_unit, dlt_n*ax_n_unit\n",
    "\n",
    "def gen_templates(run, nu, Omega_beam, AX_N, AX_n, test_conv=False):\n",
    "    #get shape of map\n",
    "    n, N = AX_N.shape\n",
    "    \n",
    "    #bring in variables from the run\n",
    "    txt_file_name = run['file_name']\n",
    "    nx = run['nx']\n",
    "    nnu = run['nnu']\n",
    "    ny = run['ny']\n",
    "    thxrange=run['thx_range']\n",
    "    thyrange=run['thy_range']\n",
    "    sigmav_bench = run['sigma_v']\n",
    "    nu_range = run['nu_range']\n",
    "    astro_model = run['Astrophysical Model']\n",
    "    #am = __import__(astro_model)\n",
    "    \n",
    "    #process run variables\n",
    "    array_file_name = txt_file_name.split('_info')[0] + '.npy'\n",
    "    m = re.search('[0-9]{4}_', array_file_name)\n",
    "    out_type = array_file_name.split('.npy')[0].split(m.group(0))[-1]\n",
    "    \n",
    "    #set coordinates for synchrotron spectrum\n",
    "    nuv = np.logspace(np.log10(nu_range[0]), np.log10(nu_range[1]), nnu)\n",
    "    thx_full = np.linspace(-thxrange, thxrange, 2*nx)\n",
    "    thy_full = np.linspace(-thyrange, thyrange, 2*ny)\n",
    "    thxv = thx_full[nx:]\n",
    "    thyv = thy_full[ny:]\n",
    "    thx2d, thy2d = np.meshgrid(thxv, thyv)\n",
    "    thx3d = np.repeat(np.array([thx2d]), nnu, axis=0)\n",
    "    thy3d = np.repeat(np.array([thy2d]), nnu, axis=0)\n",
    "    nu3d = np.multiply.outer(nuv, np.ones((ny, nx)))\n",
    "    \n",
    "    #load synchrotron emission result\n",
    "    dSdnudOmega = np.load(base_path + out_type + '/' + array_file_name) #erg cm^-2 s^-1 Sr^-1\n",
    "    flux_beam = ((10**26/nu3d)*dSdnudOmega*Omega_beam).astype(np.float64)\n",
    "    \n",
    "    #determine central fequency\n",
    "    ind_nu = np.where(np.min(np.abs(nuv-nu))==np.abs(nuv-nu))[0][0]\n",
    "    if test_conv:\n",
    "        #replace 0s with 1e-300\n",
    "        nu_fin_ind = nnu\n",
    "        #find max synch frequency index and extrapolate to rho=0\n",
    "        for i in range(flux_init.shape[0]):\n",
    "            zs = np.where(flux_init[i] == 0)\n",
    "            if len(zs[0]) == nx*ny:\n",
    "                nu_fin_ind = i #max frequency index + 1\n",
    "                break\n",
    "            else:\n",
    "                for iy, ix in zip(zs[0], zs[1]):\n",
    "                    flux_init[i, iy, ix] = 1e-300\n",
    "        #copy results of analysis into other quadrants\n",
    "        flux_init = flux_beam\n",
    "        flux_flipx = np.flip(flux_init, axis=2)\n",
    "        flux_new = np.concatenate((flux_flipx, flux_init), axis=2)\n",
    "        flux_flipy = np.flip(flux_new, axis=1)\n",
    "        flux = np.concatenate((flux_flipy, flux_new), axis=1)\n",
    "        \n",
    "        #Interpolate every frequency with respect to x and y\n",
    "        lnflux_interp = [interp2d(thx_full, thy_full, np.log(f), kind='cubic') for f in flux]\n",
    "        \n",
    "        #Convolve with gaussian beam for a few pixels and all frequencies\n",
    "        #Interpolate with respect to nu for each spatial pixel that is computed at last step.\n",
    "        #Convolve with gaussian in frequency for each of these pixels\n",
    "        #Store x,y interpolation at the central frequency with a standard name\n",
    "    else:\n",
    "        #Do all of this for central frequency only\n",
    "        flux_init = flux_beam[ind_nu]\n",
    "        \n",
    "        #copy results of analysis into other quadrants\n",
    "        flux_flipx = np.flip(flux_init, axis=1)\n",
    "        flux_new = np.concatenate((flux_flipx, flux_init), axis=1)\n",
    "        flux_flipy = np.flip(flux_new, axis=0)\n",
    "        flux = np.concatenate((flux_flipy, flux_new), axis=0)\n",
    "        \n",
    "        #Interpolate with respect to x and y\n",
    "        lnflux_interp = interp2d(thx_full, thy_full, np.log(flux), kind='cubic')\n",
    "    return np.exp(lnflux_interp(AX_N[0], AX_n[:, 0]))\n",
    "\n",
    "def order_indices(out_vars):\n",
    "    num_vars = len(out_vars)\n",
    "    #print('num_vars: ', num_vars)\n",
    "    num_results = len(out_vars[0])\n",
    "    #print('num_results: ', num_results)\n",
    "    var_options = [np.unique(out_var) if type(out_var[0])==str else np.sort(np.unique(out_var)) for out_var in out_vars]\n",
    "    #print('var_options: ', var_options)\n",
    "    num_options = [len(var_opt) for var_opt in var_options]\n",
    "    #print('num_options: ', num_options)\n",
    "    rank_sets = [[np.where(var_option==ov)[0][0] for ov in out_var] for var_option, out_var in zip(var_options, out_vars)] \n",
    "    #print('rank_sets', rank_sets)\n",
    "    ranking = np.array([int(''.join([str(rank_sets[i][j]).zfill(int(np.floor(np.log10(num_options[i])))+1) for i in range(num_vars)])) for j in range(num_results)])\n",
    "    #print(ranking)\n",
    "    return np.argsort(ranking)\n",
    "\n",
    "def get_labels(run_list, out_var_names):\n",
    "    labels = tuple((np.array([run[name] for run in run_list]) for name in out_var_names))\n",
    "    return labels\n",
    "\n",
    "def order_output(outvar_names, signal_temps, run_list):\n",
    "    outvars = get_labels(run_list, outvar_names)\n",
    "    inds = order_indices(outvars)\n",
    "    outvars = [ov[inds] for ov in outvars]\n",
    "    signal_temps = signal_temps[inds]\n",
    "    return signal_temps, outvars\n",
    "\n",
    "def load_eq_dist(run, base_path):\n",
    "    path = base_path + 'equillibrium_distribution/'\n",
    "    array_name = run['file_name'].split('_info')[0] + '.npy'\n",
    "    file_path = path + array_name\n",
    "    return np.load(file_path)\n",
    "\n",
    "def reshape_array_set(outvars, signal_temps):\n",
    "    template_sh = signal_temps[0].shape\n",
    "    nums = tuple((len(np.unique(var)) for var in outvars))\n",
    "    len_nums = len(nums)\n",
    "    new_shape = tuple((nums[i] if i<len_nums else template_sh[i-len_nums] for i in range(len_nums+2)))\n",
    "    signal_temps = signal_temps.reshape(new_shape)\n",
    "    return signal_temps"
   ]
  },
  {
   "cell_type": "code",
   "execution_count": 220,
   "id": "c991157e",
   "metadata": {},
   "outputs": [],
   "source": [
    "#put back 'unweighted' when its ready\n",
    "sph_avgs = ['weighted_dl', 'unweighted']\n",
    "D0 = np.array([3e27, 1e28, 3e28, 8e28])\n",
    "mx_st = 6\n",
    "mx_end = 500\n",
    "num_mx = 20\n",
    "mx = np.round(np.logspace(np.log10(mx_st), np.log10(mx_end), num_mx), 1)"
   ]
  },
  {
   "cell_type": "code",
   "execution_count": 221,
   "id": "606a7072",
   "metadata": {},
   "outputs": [
    {
     "name": "stdout",
     "output_type": "stream",
     "text": [
      "number of runs:  160\n",
      "{'file_name': '0681_equillibrium_distribution_info.txt', 'mx': 6.0, 'channel': 'bb_bar', 'D0': 3e+27, 'nr': 800, 'nE': 400, 'sigma_v': 2.2e-26, 'DM_model': 'model type- NFW; rho0- 0.418GeV/cm^3; gamma- 1; Scale Radius- 16.5kpc; ', 'Astrophysical Model': 'Andromeda5', 'Spherical Average': 'weighted_dl'}\n",
      "[array(['unweighted', 'unweighted', 'unweighted', 'unweighted',\n",
      "       'unweighted', 'unweighted', 'unweighted', 'unweighted',\n",
      "       'unweighted', 'unweighted', 'unweighted', 'unweighted',\n",
      "       'unweighted', 'unweighted', 'unweighted', 'unweighted',\n",
      "       'unweighted', 'unweighted', 'unweighted', 'unweighted',\n",
      "       'unweighted', 'unweighted', 'unweighted', 'unweighted',\n",
      "       'unweighted', 'unweighted', 'unweighted', 'unweighted',\n",
      "       'unweighted', 'unweighted', 'unweighted', 'unweighted',\n",
      "       'unweighted', 'unweighted', 'unweighted', 'unweighted',\n",
      "       'unweighted', 'unweighted', 'unweighted', 'unweighted',\n",
      "       'unweighted', 'unweighted', 'unweighted', 'unweighted',\n",
      "       'unweighted', 'unweighted', 'unweighted', 'unweighted',\n",
      "       'unweighted', 'unweighted', 'unweighted', 'unweighted',\n",
      "       'unweighted', 'unweighted', 'unweighted', 'unweighted',\n",
      "       'unweighted', 'unweighted', 'unweighted', 'unweighted',\n",
      "       'unweighted', 'unweighted', 'unweighted', 'unweighted',\n",
      "       'unweighted', 'unweighted', 'unweighted', 'unweighted',\n",
      "       'unweighted', 'unweighted', 'unweighted', 'unweighted',\n",
      "       'unweighted', 'unweighted', 'unweighted', 'unweighted',\n",
      "       'unweighted', 'unweighted', 'unweighted', 'unweighted',\n",
      "       'weighted_dl', 'weighted_dl', 'weighted_dl', 'weighted_dl',\n",
      "       'weighted_dl', 'weighted_dl', 'weighted_dl', 'weighted_dl',\n",
      "       'weighted_dl', 'weighted_dl', 'weighted_dl', 'weighted_dl',\n",
      "       'weighted_dl', 'weighted_dl', 'weighted_dl', 'weighted_dl',\n",
      "       'weighted_dl', 'weighted_dl', 'weighted_dl', 'weighted_dl',\n",
      "       'weighted_dl', 'weighted_dl', 'weighted_dl', 'weighted_dl',\n",
      "       'weighted_dl', 'weighted_dl', 'weighted_dl', 'weighted_dl',\n",
      "       'weighted_dl', 'weighted_dl', 'weighted_dl', 'weighted_dl',\n",
      "       'weighted_dl', 'weighted_dl', 'weighted_dl', 'weighted_dl',\n",
      "       'weighted_dl', 'weighted_dl', 'weighted_dl', 'weighted_dl',\n",
      "       'weighted_dl', 'weighted_dl', 'weighted_dl', 'weighted_dl',\n",
      "       'weighted_dl', 'weighted_dl', 'weighted_dl', 'weighted_dl',\n",
      "       'weighted_dl', 'weighted_dl', 'weighted_dl', 'weighted_dl',\n",
      "       'weighted_dl', 'weighted_dl', 'weighted_dl', 'weighted_dl',\n",
      "       'weighted_dl', 'weighted_dl', 'weighted_dl', 'weighted_dl',\n",
      "       'weighted_dl', 'weighted_dl', 'weighted_dl', 'weighted_dl',\n",
      "       'weighted_dl', 'weighted_dl', 'weighted_dl', 'weighted_dl',\n",
      "       'weighted_dl', 'weighted_dl', 'weighted_dl', 'weighted_dl',\n",
      "       'weighted_dl', 'weighted_dl', 'weighted_dl', 'weighted_dl',\n",
      "       'weighted_dl', 'weighted_dl', 'weighted_dl', 'weighted_dl'],\n",
      "      dtype='<U11'), array([3.e+27, 3.e+27, 3.e+27, 3.e+27, 3.e+27, 3.e+27, 3.e+27, 3.e+27,\n",
      "       3.e+27, 3.e+27, 3.e+27, 3.e+27, 3.e+27, 3.e+27, 3.e+27, 3.e+27,\n",
      "       3.e+27, 3.e+27, 3.e+27, 3.e+27, 1.e+28, 1.e+28, 1.e+28, 1.e+28,\n",
      "       1.e+28, 1.e+28, 1.e+28, 1.e+28, 1.e+28, 1.e+28, 1.e+28, 1.e+28,\n",
      "       1.e+28, 1.e+28, 1.e+28, 1.e+28, 1.e+28, 1.e+28, 1.e+28, 1.e+28,\n",
      "       3.e+28, 3.e+28, 3.e+28, 3.e+28, 3.e+28, 3.e+28, 3.e+28, 3.e+28,\n",
      "       3.e+28, 3.e+28, 3.e+28, 3.e+28, 3.e+28, 3.e+28, 3.e+28, 3.e+28,\n",
      "       3.e+28, 3.e+28, 3.e+28, 3.e+28, 8.e+28, 8.e+28, 8.e+28, 8.e+28,\n",
      "       8.e+28, 8.e+28, 8.e+28, 8.e+28, 8.e+28, 8.e+28, 8.e+28, 8.e+28,\n",
      "       8.e+28, 8.e+28, 8.e+28, 8.e+28, 8.e+28, 8.e+28, 8.e+28, 8.e+28,\n",
      "       3.e+27, 3.e+27, 3.e+27, 3.e+27, 3.e+27, 3.e+27, 3.e+27, 3.e+27,\n",
      "       3.e+27, 3.e+27, 3.e+27, 3.e+27, 3.e+27, 3.e+27, 3.e+27, 3.e+27,\n",
      "       3.e+27, 3.e+27, 3.e+27, 3.e+27, 1.e+28, 1.e+28, 1.e+28, 1.e+28,\n",
      "       1.e+28, 1.e+28, 1.e+28, 1.e+28, 1.e+28, 1.e+28, 1.e+28, 1.e+28,\n",
      "       1.e+28, 1.e+28, 1.e+28, 1.e+28, 1.e+28, 1.e+28, 1.e+28, 1.e+28,\n",
      "       3.e+28, 3.e+28, 3.e+28, 3.e+28, 3.e+28, 3.e+28, 3.e+28, 3.e+28,\n",
      "       3.e+28, 3.e+28, 3.e+28, 3.e+28, 3.e+28, 3.e+28, 3.e+28, 3.e+28,\n",
      "       3.e+28, 3.e+28, 3.e+28, 3.e+28, 8.e+28, 8.e+28, 8.e+28, 8.e+28,\n",
      "       8.e+28, 8.e+28, 8.e+28, 8.e+28, 8.e+28, 8.e+28, 8.e+28, 8.e+28,\n",
      "       8.e+28, 8.e+28, 8.e+28, 8.e+28, 8.e+28, 8.e+28, 8.e+28, 8.e+28]), array([  6. ,   7.6,   9.6,  12.1,  15.2,  19.2,  24.3,  30.6,  38.6,\n",
      "        48.8,  61.5,  77.7,  98. , 123.7, 156.1, 197.1, 248.7, 313.9,\n",
      "       396.2, 500. ,   6. ,   7.6,   9.6,  12.1,  15.2,  19.2,  24.3,\n",
      "        30.6,  38.6,  48.8,  61.5,  77.7,  98. , 123.7, 156.1, 197.1,\n",
      "       248.7, 313.9, 396.2, 500. ,   6. ,   7.6,   9.6,  12.1,  15.2,\n",
      "        19.2,  24.3,  30.6,  38.6,  48.8,  61.5,  77.7,  98. , 123.7,\n",
      "       156.1, 197.1, 248.7, 313.9, 396.2, 500. ,   6. ,   7.6,   9.6,\n",
      "        12.1,  15.2,  19.2,  24.3,  30.6,  38.6,  48.8,  61.5,  77.7,\n",
      "        98. , 123.7, 156.1, 197.1, 248.7, 313.9, 396.2, 500. ,   6. ,\n",
      "         7.6,   9.6,  12.1,  15.2,  19.2,  24.3,  30.6,  38.6,  48.8,\n",
      "        61.5,  77.7,  98. , 123.7, 156.1, 197.1, 248.7, 313.9, 396.2,\n",
      "       500. ,   6. ,   7.6,   9.6,  12.1,  15.2,  19.2,  24.3,  30.6,\n",
      "        38.6,  48.8,  61.5,  77.7,  98. , 123.7, 156.1, 197.1, 248.7,\n",
      "       313.9, 396.2, 500. ,   6. ,   7.6,   9.6,  12.1,  15.2,  19.2,\n",
      "        24.3,  30.6,  38.6,  48.8,  61.5,  77.7,  98. , 123.7, 156.1,\n",
      "       197.1, 248.7, 313.9, 396.2, 500. ,   6. ,   7.6,   9.6,  12.1,\n",
      "        15.2,  19.2,  24.3,  30.6,  38.6,  48.8,  61.5,  77.7,  98. ,\n",
      "       123.7, 156.1, 197.1, 248.7, 313.9, 396.2, 500. ])]\n",
      "(2, 4, 20, 400, 800)\n"
     ]
    }
   ],
   "source": [
    "\n",
    "run_list = mt.find_results(1, astro_model=astro_model, spherical_ave=sph_avgs, D0=D0, mx=mx)\n",
    "print('number of runs: ', len(run_list))\n",
    "print(run_list[0])\n",
    "u = np.array([load_eq_dist(run, base_path) for run in run_list])\n",
    "outvar_names = ['Spherical Average' ,'D0', 'mx']\n",
    "u, outvars = order_output(outvar_names, u, run_list)\n",
    "print(outvars)\n",
    "u = reshape_array_set(outvars, u)\n",
    "print(u.shape)\n",
    "rmax = 50\n",
    "EE_set=[]\n",
    "for m in mx:\n",
    "    rr, EE, _, _ = mv.grid(mv.nr+3, mv.nE+2, [0, rmax], [cf.me, m], E_spacing='log')\n",
    "    rr = rr[1:-1, 1:-2]\n",
    "    EE = EE[1:-1, 1:-2]\n",
    "    EE_set.append(EE)\n",
    "EE_set = np.array(EE_set)\n",
    "#fe = pr.smooth_fe([rr, EE, u])\n"
   ]
  },
  {
   "cell_type": "code",
   "execution_count": 227,
   "id": "c04cd617",
   "metadata": {},
   "outputs": [
    {
     "data": {
      "text/plain": [
       "array(['unweighted', 'unweighted', 'unweighted', 'unweighted',\n",
       "       'unweighted', 'unweighted', 'unweighted', 'unweighted',\n",
       "       'unweighted', 'unweighted', 'unweighted', 'unweighted',\n",
       "       'unweighted', 'unweighted', 'unweighted', 'unweighted',\n",
       "       'unweighted', 'unweighted', 'unweighted', 'unweighted',\n",
       "       'unweighted', 'unweighted', 'unweighted', 'unweighted',\n",
       "       'unweighted', 'unweighted', 'unweighted', 'unweighted',\n",
       "       'unweighted', 'unweighted', 'unweighted', 'unweighted',\n",
       "       'unweighted', 'unweighted', 'unweighted', 'unweighted',\n",
       "       'unweighted', 'unweighted', 'unweighted', 'unweighted',\n",
       "       'unweighted', 'unweighted', 'unweighted', 'unweighted',\n",
       "       'unweighted', 'unweighted', 'unweighted', 'unweighted',\n",
       "       'unweighted', 'unweighted', 'unweighted', 'unweighted',\n",
       "       'unweighted', 'unweighted', 'unweighted', 'unweighted',\n",
       "       'unweighted', 'unweighted', 'unweighted', 'unweighted',\n",
       "       'unweighted', 'unweighted', 'unweighted', 'unweighted',\n",
       "       'unweighted', 'unweighted', 'unweighted', 'unweighted',\n",
       "       'unweighted', 'unweighted', 'unweighted', 'unweighted',\n",
       "       'unweighted', 'unweighted', 'unweighted', 'unweighted',\n",
       "       'unweighted', 'unweighted', 'unweighted', 'unweighted',\n",
       "       'weighted_dl', 'weighted_dl', 'weighted_dl', 'weighted_dl',\n",
       "       'weighted_dl', 'weighted_dl', 'weighted_dl', 'weighted_dl',\n",
       "       'weighted_dl', 'weighted_dl', 'weighted_dl', 'weighted_dl',\n",
       "       'weighted_dl', 'weighted_dl', 'weighted_dl', 'weighted_dl',\n",
       "       'weighted_dl', 'weighted_dl', 'weighted_dl', 'weighted_dl',\n",
       "       'weighted_dl', 'weighted_dl', 'weighted_dl', 'weighted_dl',\n",
       "       'weighted_dl', 'weighted_dl', 'weighted_dl', 'weighted_dl',\n",
       "       'weighted_dl', 'weighted_dl', 'weighted_dl', 'weighted_dl',\n",
       "       'weighted_dl', 'weighted_dl', 'weighted_dl', 'weighted_dl',\n",
       "       'weighted_dl', 'weighted_dl', 'weighted_dl', 'weighted_dl',\n",
       "       'weighted_dl', 'weighted_dl', 'weighted_dl', 'weighted_dl',\n",
       "       'weighted_dl', 'weighted_dl', 'weighted_dl', 'weighted_dl',\n",
       "       'weighted_dl', 'weighted_dl', 'weighted_dl', 'weighted_dl',\n",
       "       'weighted_dl', 'weighted_dl', 'weighted_dl', 'weighted_dl',\n",
       "       'weighted_dl', 'weighted_dl', 'weighted_dl', 'weighted_dl',\n",
       "       'weighted_dl', 'weighted_dl', 'weighted_dl', 'weighted_dl',\n",
       "       'weighted_dl', 'weighted_dl', 'weighted_dl', 'weighted_dl',\n",
       "       'weighted_dl', 'weighted_dl', 'weighted_dl', 'weighted_dl',\n",
       "       'weighted_dl', 'weighted_dl', 'weighted_dl', 'weighted_dl',\n",
       "       'weighted_dl', 'weighted_dl', 'weighted_dl', 'weighted_dl'],\n",
       "      dtype='<U11')"
      ]
     },
     "execution_count": 227,
     "metadata": {},
     "output_type": "execute_result"
    }
   ],
   "source": [
    "outvars[0]"
   ]
  },
  {
   "cell_type": "code",
   "execution_count": 228,
   "id": "5438ec43",
   "metadata": {},
   "outputs": [
    {
     "name": "stdout",
     "output_type": "stream",
     "text": [
      "[  7.6  38.6 156.1 500. ]\n",
      "61.5\n",
      "[ 2.49376559  4.98753117  7.48129676  9.97506234 19.95012469]\n"
     ]
    },
    {
     "data": {
      "text/plain": [
       "<matplotlib.legend.Legend at 0x7f4674fc0b50>"
      ]
     },
     "execution_count": 228,
     "metadata": {},
     "output_type": "execute_result"
    },
    {
     "data": {
      "image/png": "[encoded data removed]",
      "text/plain": [
       "<Figure size 432x288 with 1 Axes>"
      ]
     },
     "metadata": {
      "needs_background": "light"
     },
     "output_type": "display_data"
    }
   ],
   "source": [
    "tex_label='electron_phasespaceE_mx'\n",
    "m_inds = np.array([1, 8, 14, 19])\n",
    "print(mx[m_inds])\n",
    "m_ind = 10\n",
    "print(mx[m_ind])\n",
    "r_inds = np.array([39, 79, 119, 159, 319])\n",
    "print(rr[0][r_inds])\n",
    "fe = (u/(1000*rr))/(cf.cm_per_pc**3)\n",
    "np.save(array_path + tex_label + '__E.npy', EE_set[:, :, 0])\n",
    "np.save(array_path + tex_label + '__r.npy', rr[0, r_inds])\n",
    "np.save(array_path + tex_label + '__fe.npy', fe[:, 1, :, :, r_inds])\n",
    "np.save(array_path + tex_label + '__mx.npy', mx)\n",
    "np.save(array_path + tex_label + '__scheme.npy', np.array([outvars[0][0], outvars[0][-1]]))\n",
    "c = ['r', 'b', 'k', '.5']\n",
    "for i, j in zip(m_inds, range(len(m_inds))):\n",
    "    #this next line can be put back when unweighted runs are done\n",
    "    plt.plot(EE_set[i][:, 0], fe[0, 1, i, :, r_inds[3]], color=c[j], linestyle='--', label=r'mx = ' + str(mx[i]) + 'GeV')\n",
    "    plt.plot(EE_set[i][:, 0], fe[1, 1, i, :, r_inds[3]], color=c[j], linestyle='-', label=r'mx = ' + str(mx[i]) + 'GeV')\n",
    "plt.yscale('log')\n",
    "plt.xscale('log')\n",
    "plt.ylim([1e-22, 1e-9])\n",
    "plt.legend()"
   ]
  },
  {
   "cell_type": "code",
   "execution_count": 158,
   "id": "26f1ef7a",
   "metadata": {},
   "outputs": [
    {
     "ename": "IndexError",
     "evalue": "shape mismatch: indexing arrays could not be broadcast together with shapes (4,) (5,) ",
     "output_type": "error",
     "traceback": [
      "\u001b[0;31m---------------------------------------------------------------------------\u001b[0m",
      "\u001b[0;31mIndexError\u001b[0m                                Traceback (most recent call last)",
      "\u001b[0;32m<ipython-input-158-810cffa79882>\u001b[0m in \u001b[0;36m<module>\u001b[0;34m\u001b[0m\n\u001b[0;32m----> 1\u001b[0;31m \u001b[0mfe\u001b[0m\u001b[0;34m[\u001b[0m\u001b[0;34m:\u001b[0m\u001b[0;34m,\u001b[0m \u001b[0;36m1\u001b[0m\u001b[0;34m,\u001b[0m \u001b[0mm_inds\u001b[0m\u001b[0;34m,\u001b[0m \u001b[0;34m:\u001b[0m\u001b[0;34m,\u001b[0m \u001b[0mr_inds\u001b[0m\u001b[0;34m]\u001b[0m\u001b[0;34m.\u001b[0m\u001b[0mshape\u001b[0m\u001b[0;34m\u001b[0m\u001b[0;34m\u001b[0m\u001b[0m\n\u001b[0m",
      "\u001b[0;31mIndexError\u001b[0m: shape mismatch: indexing arrays could not be broadcast together with shapes (4,) (5,) "
     ]
    }
   ],
   "source": [
    "fe[:, 1, m_inds, :, r_inds].shape"
   ]
  },
  {
   "cell_type": "code",
   "execution_count": 229,
   "id": "c785d58d",
   "metadata": {},
   "outputs": [
    {
     "data": {
      "text/plain": [
       "<matplotlib.legend.Legend at 0x7f46763e2590>"
      ]
     },
     "execution_count": 229,
     "metadata": {},
     "output_type": "execute_result"
    },
    {
     "data": {
      "image/png": "[encoded data removed]",
      "text/plain": [
       "<Figure size 432x288 with 1 Axes>"
      ]
     },
     "metadata": {
      "needs_background": "light"
     },
     "output_type": "display_data"
    }
   ],
   "source": [
    "tex_label = 'electron_phasespacer_D0'\n",
    "Eind = np.argmin(np.abs(EE_set[m_inds[1], :, 0] - 1))\n",
    "np.save(array_path + tex_label + '__r.npy', rr[0])\n",
    "np.save(array_path + tex_label + '__fe.npy', fe[:, :, m_inds[1], Eind, :])\n",
    "np.save(array_path + tex_label + '__D0.npy', np.array(D0))\n",
    "np.save(array_path + tex_label + '__E.npy', np.array(EE_set[m_inds[1], Eind, 0]))\n",
    "np.save(array_path + tex_label + '__mx.npy', np.array(mx[m_inds[1]]))\n",
    "np.save(array_path + tex_label + '__scheme.npy', np.array([outvars[0][0], outvars[0][-1]]))\n",
    "c = ['r', 'b', 'k', '.5']\n",
    "for i in range(len(D0)):\n",
    "    #this next line can be put back when unweighted runs are done\n",
    "    plt.plot(rr[0], fe[0, i, m_inds[1], Eind, :], color = c[i], linestyle='--', label=r'D_0 = ' + str(D0[i]) + 'cm^2/s')\n",
    "    plt.plot(rr[0], fe[1, i, m_inds[1], Eind, :], color=c[i], linestyle='-', label=r'D_0 = ' + str(D0[i]) + 'cm^2/s')\n",
    "plt.yscale('log')\n",
    "#plt.xscale('log')\n",
    "plt.title(r'E = ' + str(EE_set[m_inds[1]][Eind, 0]) + r'GeV')\n",
    "plt.ylim([1e-22, 1e-9])\n",
    "plt.legend()\n",
    "                    "
   ]
  },
  {
   "cell_type": "code",
   "execution_count": 230,
   "id": "f904e46f",
   "metadata": {},
   "outputs": [
    {
     "name": "stdout",
     "output_type": "stream",
     "text": [
      "real data info extracted\n"
     ]
    }
   ],
   "source": [
    "#extract data and coordinates\n",
    "data, dlt_N_deg, dlt_n_deg, N, n, HPBW_deg, nu_data, nu_BW = get_data_and_info(fits_path, fits_name)\n",
    "dlt_N = dlt_N_deg*np.pi/180\n",
    "dlt_n = dlt_n_deg*np.pi/180\n",
    "HPBW = HPBW_deg*np.pi/180\n",
    "sigma_BW = HPBW/(2*np.sqrt(2*np.log(2)))\n",
    "omega_beam = 2*np.pi*sigma_BW**2\n",
    "print('real data info extracted')\n",
    "#create coords for data\n",
    "ax_N, ax_n = make_coords(N, n, dlt_N, dlt_n)\n",
    "AX_N, AX_n = np.meshgrid(ax_N, ax_n)\n",
    "THETA = np.sqrt(AX_N**2+AX_n**2)\n",
    "DA = 785"
   ]
  },
  {
   "cell_type": "code",
   "execution_count": 233,
   "id": "8d5de96d",
   "metadata": {},
   "outputs": [
    {
     "name": "stdout",
     "output_type": "stream",
     "text": [
      "number of runs:  160\n",
      "(2, 4, 20, 155, 441)\n"
     ]
    }
   ],
   "source": [
    "#synchrotron\n",
    "run_list = mt.find_results(2, astro_model=astro_model, spherical_ave=sph_avgs, D0=D0, mx=mx)\n",
    "print('number of runs: ', len(run_list))\n",
    "signal_temps = np.array([gen_templates(run, nu_data, omega_beam, AX_N, AX_n) for run in run_list])\n",
    "outvar_names = ['Spherical Average' ,'D0', 'mx']\n",
    "signal_temps, outvars = order_output(outvar_names, signal_temps, run_list)\n",
    "signal_temps = reshape_array_set(outvars, signal_temps)\n",
    "print(signal_temps.shape)\n",
    "avg_schemes = np.array([outvars[0][0], outvars[0][-1]])"
   ]
  },
  {
   "cell_type": "code",
   "execution_count": 232,
   "id": "5397bdd5",
   "metadata": {},
   "outputs": [
    {
     "data": {
      "text/plain": [
       "[array(['unweighted', 'unweighted', 'unweighted', 'unweighted',\n",
       "        'unweighted', 'unweighted', 'unweighted', 'unweighted',\n",
       "        'unweighted', 'unweighted', 'unweighted', 'unweighted',\n",
       "        'unweighted', 'unweighted', 'unweighted', 'unweighted',\n",
       "        'unweighted', 'unweighted', 'unweighted', 'unweighted',\n",
       "        'unweighted', 'unweighted', 'unweighted', 'unweighted',\n",
       "        'unweighted', 'unweighted', 'unweighted', 'unweighted',\n",
       "        'unweighted', 'unweighted', 'unweighted', 'unweighted',\n",
       "        'unweighted', 'unweighted', 'unweighted', 'unweighted',\n",
       "        'unweighted', 'unweighted', 'unweighted', 'unweighted',\n",
       "        'unweighted', 'unweighted', 'unweighted', 'unweighted',\n",
       "        'unweighted', 'unweighted', 'unweighted', 'unweighted',\n",
       "        'unweighted', 'unweighted', 'unweighted', 'unweighted',\n",
       "        'unweighted', 'unweighted', 'unweighted', 'unweighted',\n",
       "        'unweighted', 'unweighted', 'unweighted', 'unweighted',\n",
       "        'unweighted', 'unweighted', 'unweighted', 'unweighted',\n",
       "        'unweighted', 'unweighted', 'unweighted', 'unweighted',\n",
       "        'unweighted', 'unweighted', 'unweighted', 'unweighted',\n",
       "        'unweighted', 'unweighted', 'unweighted', 'unweighted',\n",
       "        'unweighted', 'unweighted', 'unweighted', 'unweighted',\n",
       "        'weighted_dl', 'weighted_dl', 'weighted_dl', 'weighted_dl',\n",
       "        'weighted_dl', 'weighted_dl', 'weighted_dl', 'weighted_dl',\n",
       "        'weighted_dl', 'weighted_dl', 'weighted_dl', 'weighted_dl',\n",
       "        'weighted_dl', 'weighted_dl', 'weighted_dl', 'weighted_dl',\n",
       "        'weighted_dl', 'weighted_dl', 'weighted_dl', 'weighted_dl',\n",
       "        'weighted_dl', 'weighted_dl', 'weighted_dl', 'weighted_dl',\n",
       "        'weighted_dl', 'weighted_dl', 'weighted_dl', 'weighted_dl',\n",
       "        'weighted_dl', 'weighted_dl', 'weighted_dl', 'weighted_dl',\n",
       "        'weighted_dl', 'weighted_dl', 'weighted_dl', 'weighted_dl',\n",
       "        'weighted_dl', 'weighted_dl', 'weighted_dl', 'weighted_dl',\n",
       "        'weighted_dl', 'weighted_dl', 'weighted_dl', 'weighted_dl',\n",
       "        'weighted_dl', 'weighted_dl', 'weighted_dl', 'weighted_dl',\n",
       "        'weighted_dl', 'weighted_dl', 'weighted_dl', 'weighted_dl',\n",
       "        'weighted_dl', 'weighted_dl', 'weighted_dl', 'weighted_dl',\n",
       "        'weighted_dl', 'weighted_dl', 'weighted_dl', 'weighted_dl',\n",
       "        'weighted_dl', 'weighted_dl', 'weighted_dl', 'weighted_dl',\n",
       "        'weighted_dl', 'weighted_dl', 'weighted_dl', 'weighted_dl',\n",
       "        'weighted_dl', 'weighted_dl', 'weighted_dl', 'weighted_dl',\n",
       "        'weighted_dl', 'weighted_dl', 'weighted_dl', 'weighted_dl',\n",
       "        'weighted_dl', 'weighted_dl', 'weighted_dl', 'weighted_dl'],\n",
       "       dtype='<U11'),\n",
       " array([3.e+27, 3.e+27, 3.e+27, 3.e+27, 3.e+27, 3.e+27, 3.e+27, 3.e+27,\n",
       "        3.e+27, 3.e+27, 3.e+27, 3.e+27, 3.e+27, 3.e+27, 3.e+27, 3.e+27,\n",
       "        3.e+27, 3.e+27, 3.e+27, 3.e+27, 1.e+28, 1.e+28, 1.e+28, 1.e+28,\n",
       "        1.e+28, 1.e+28, 1.e+28, 1.e+28, 1.e+28, 1.e+28, 1.e+28, 1.e+28,\n",
       "        1.e+28, 1.e+28, 1.e+28, 1.e+28, 1.e+28, 1.e+28, 1.e+28, 1.e+28,\n",
       "        3.e+28, 3.e+28, 3.e+28, 3.e+28, 3.e+28, 3.e+28, 3.e+28, 3.e+28,\n",
       "        3.e+28, 3.e+28, 3.e+28, 3.e+28, 3.e+28, 3.e+28, 3.e+28, 3.e+28,\n",
       "        3.e+28, 3.e+28, 3.e+28, 3.e+28, 8.e+28, 8.e+28, 8.e+28, 8.e+28,\n",
       "        8.e+28, 8.e+28, 8.e+28, 8.e+28, 8.e+28, 8.e+28, 8.e+28, 8.e+28,\n",
       "        8.e+28, 8.e+28, 8.e+28, 8.e+28, 8.e+28, 8.e+28, 8.e+28, 8.e+28,\n",
       "        3.e+27, 3.e+27, 3.e+27, 3.e+27, 3.e+27, 3.e+27, 3.e+27, 3.e+27,\n",
       "        3.e+27, 3.e+27, 3.e+27, 3.e+27, 3.e+27, 3.e+27, 3.e+27, 3.e+27,\n",
       "        3.e+27, 3.e+27, 3.e+27, 3.e+27, 1.e+28, 1.e+28, 1.e+28, 1.e+28,\n",
       "        1.e+28, 1.e+28, 1.e+28, 1.e+28, 1.e+28, 1.e+28, 1.e+28, 1.e+28,\n",
       "        1.e+28, 1.e+28, 1.e+28, 1.e+28, 1.e+28, 1.e+28, 1.e+28, 1.e+28,\n",
       "        3.e+28, 3.e+28, 3.e+28, 3.e+28, 3.e+28, 3.e+28, 3.e+28, 3.e+28,\n",
       "        3.e+28, 3.e+28, 3.e+28, 3.e+28, 3.e+28, 3.e+28, 3.e+28, 3.e+28,\n",
       "        3.e+28, 3.e+28, 3.e+28, 3.e+28, 8.e+28, 8.e+28, 8.e+28, 8.e+28,\n",
       "        8.e+28, 8.e+28, 8.e+28, 8.e+28, 8.e+28, 8.e+28, 8.e+28, 8.e+28,\n",
       "        8.e+28, 8.e+28, 8.e+28, 8.e+28, 8.e+28, 8.e+28, 8.e+28, 8.e+28]),\n",
       " array([  6. ,   7.6,   9.6,  12.1,  15.2,  19.2,  24.3,  30.6,  38.6,\n",
       "         48.8,  61.5,  77.7,  98. , 123.7, 156.1, 197.1, 248.7, 313.9,\n",
       "        396.2, 500. ,   6. ,   7.6,   9.6,  12.1,  15.2,  19.2,  24.3,\n",
       "         30.6,  38.6,  48.8,  61.5,  77.7,  98. , 123.7, 156.1, 197.1,\n",
       "        248.7, 313.9, 396.2, 500. ,   6. ,   7.6,   9.6,  12.1,  15.2,\n",
       "         19.2,  24.3,  30.6,  38.6,  48.8,  61.5,  77.7,  98. , 123.7,\n",
       "        156.1, 197.1, 248.7, 313.9, 396.2, 500. ,   6. ,   7.6,   9.6,\n",
       "         12.1,  15.2,  19.2,  24.3,  30.6,  38.6,  48.8,  61.5,  77.7,\n",
       "         98. , 123.7, 156.1, 197.1, 248.7, 313.9, 396.2, 500. ,   6. ,\n",
       "          7.6,   9.6,  12.1,  15.2,  19.2,  24.3,  30.6,  38.6,  48.8,\n",
       "         61.5,  77.7,  98. , 123.7, 156.1, 197.1, 248.7, 313.9, 396.2,\n",
       "        500. ,   6. ,   7.6,   9.6,  12.1,  15.2,  19.2,  24.3,  30.6,\n",
       "         38.6,  48.8,  61.5,  77.7,  98. , 123.7, 156.1, 197.1, 248.7,\n",
       "        313.9, 396.2, 500. ,   6. ,   7.6,   9.6,  12.1,  15.2,  19.2,\n",
       "         24.3,  30.6,  38.6,  48.8,  61.5,  77.7,  98. , 123.7, 156.1,\n",
       "        197.1, 248.7, 313.9, 396.2, 500. ,   6. ,   7.6,   9.6,  12.1,\n",
       "         15.2,  19.2,  24.3,  30.6,  38.6,  48.8,  61.5,  77.7,  98. ,\n",
       "        123.7, 156.1, 197.1, 248.7, 313.9, 396.2, 500. ])]"
      ]
     },
     "execution_count": 232,
     "metadata": {},
     "output_type": "execute_result"
    }
   ],
   "source": [
    "outvars"
   ]
  },
  {
   "cell_type": "code",
   "execution_count": null,
   "id": "e9bfd23e",
   "metadata": {},
   "outputs": [],
   "source": []
  },
  {
   "cell_type": "code",
   "execution_count": null,
   "id": "ba935834",
   "metadata": {},
   "outputs": [],
   "source": []
  },
  {
   "cell_type": "code",
   "execution_count": 237,
   "id": "d086d3c3",
   "metadata": {},
   "outputs": [],
   "source": [
    "tex_label = 'signal_mx'\n",
    "Dind = 1\n",
    "np.save(array_path + tex_label + '__x.npy', DA*AX_N)\n",
    "np.save(array_path + tex_label + '__y.npy', DA*AX_n)\n",
    "np.save(array_path + tex_label + '__flux.npy', signal_temps[:, Dind, m_inds, :, :])\n",
    "np.save(array_path + tex_label + '__mx.npy', mx[m_inds])\n",
    "np.save(array_path + tex_label + '__scheme.npy', avg_schemes)"
   ]
  },
  {
   "cell_type": "code",
   "execution_count": 238,
   "id": "6d76fa8a",
   "metadata": {},
   "outputs": [],
   "source": [
    "tex_label = 'signal_D0'\n",
    "np.save(array_path + tex_label + '__x.npy', DA*AX_N)\n",
    "np.save(array_path + tex_label + '__y.npy', DA*AX_n)\n",
    "np.save(array_path + tex_label + '__flux.npy', signal_temps[:, :, m_inds[1], :, :])\n",
    "np.save(array_path + tex_label + '__D0.npy', D0)\n",
    "np.save(array_path + tex_label + '__scheme.npy', avg_schemes)"
   ]
  },
  {
   "cell_type": "code",
   "execution_count": 239,
   "id": "897f2b15",
   "metadata": {},
   "outputs": [],
   "source": [
    "tex_label = 'signal'\n",
    "Dind = 1\n",
    "this_D0 = D0[Dind:Dind+1]\n",
    "this_mx = mx[m_inds[1]: m_inds[1]+1]\n",
    "np.save(array_path + tex_label + '__x.npy', DA*AX_N)\n",
    "np.save(array_path + tex_label + '__y.npy', DA*AX_n)\n",
    "#may need to change the first index of signal_temps to 1 depending on the order of weighted_dl and unweighted\n",
    "ind = np.where(avg_schemes=='weighted_dl')[0][0]\n",
    "np.save(array_path + tex_label + '__flux.npy', signal_temps[ind, Dind, m_inds[1], :, :])\n",
    "np.save(array_path + tex_label + '__D0.npy', this_D0)\n",
    "np.save(array_path + tex_label + '__mx.npy', this_mx)"
   ]
  },
  {
   "cell_type": "code",
   "execution_count": 182,
   "id": "b94afe3e",
   "metadata": {},
   "outputs": [
    {
     "data": {
      "text/plain": [
       "array([38.6])"
      ]
     },
     "execution_count": 182,
     "metadata": {},
     "output_type": "execute_result"
    }
   ],
   "source": [
    "mx[m_inds[1]: m_inds[1]+1]"
   ]
  },
  {
   "cell_type": "code",
   "execution_count": 104,
   "id": "f8d6f7c7",
   "metadata": {},
   "outputs": [
    {
     "data": {
      "text/plain": [
       "<matplotlib.colorbar.Colorbar at 0x7f467fe1ca50>"
      ]
     },
     "execution_count": 104,
     "metadata": {},
     "output_type": "execute_result"
    },
    {
     "data": {
      "image/png": "[encoded data removed]",
      "text/plain": [
       "<Figure size 432x288 with 2 Axes>"
      ]
     },
     "metadata": {
      "needs_background": "light"
     },
     "output_type": "display_data"
    }
   ],
   "source": [
    "plt.imshow(signal_temps[0, 1, 8, :, :])\n",
    "plt.colorbar(orientation='horizontal')"
   ]
  },
  {
   "cell_type": "code",
   "execution_count": 219,
   "id": "340649dc",
   "metadata": {},
   "outputs": [
    {
     "data": {
      "text/plain": [
       "<matplotlib.legend.Legend at 0x7f4676300d50>"
      ]
     },
     "execution_count": 219,
     "metadata": {},
     "output_type": "execute_result"
    },
    {
     "data": {
      "image/png": "[encoded data removed]",
      "text/plain": [
       "<Figure size 432x288 with 1 Axes>"
      ]
     },
     "metadata": {
      "needs_background": "light"
     },
     "output_type": "display_data"
    }
   ],
   "source": [
    "Dind = 1\n",
    "mind = 8\n",
    "N0 = int((N-1)/2)\n",
    "n0 = int((n-1)/2)\n",
    "\n",
    "for ind in m_inds:\n",
    "    plt.plot(DA*AX_N[0, N0:], signal_temps[0, Dind, ind, n0, N0:], label=str(mx[ind]))\n",
    "plt.yscale('log')\n",
    "plt.legend()"
   ]
  },
  {
   "cell_type": "code",
   "execution_count": 241,
   "id": "6e6ddd05",
   "metadata": {},
   "outputs": [
    {
     "name": "stdout",
     "output_type": "stream",
     "text": [
      "number of runs:  8\n",
      "(2, 4, 155, 441)\n"
     ]
    }
   ],
   "source": [
    "#synchrotron\n",
    "astro_models = ['Andromeda5', 'Andromeda5_lowrad']\n",
    "sph_avg = 'weighted_dl'\n",
    "D0 = np.array([3e27, 1e28, 3e28, 8e28])\n",
    "mx=np.array([38.6])\n",
    "run_list = mt.find_results(2, astro_model=astro_models, spherical_ave=sph_avg, D0=D0, mx=mx)\n",
    "print('number of runs: ', len(run_list))\n",
    "signal_temps = np.array([gen_templates(run, nu_data, omega_beam, AX_N, AX_n) for run in run_list])\n",
    "outvar_names = ['Astrophysical Model' ,'D0']\n",
    "signal_temps, outvars = order_output(outvar_names, signal_temps, run_list)\n",
    "signal_temps = reshape_array_set(outvars, signal_temps)\n",
    "print(signal_temps.shape)"
   ]
  },
  {
   "cell_type": "code",
   "execution_count": 191,
   "id": "4428942a",
   "metadata": {},
   "outputs": [
    {
     "name": "stdout",
     "output_type": "stream",
     "text": [
      "[array(['Andromeda5', 'Andromeda5', 'Andromeda5', 'Andromeda5',\n",
      "       'Andromeda5_lowrad', 'Andromeda5_lowrad', 'Andromeda5_lowrad',\n",
      "       'Andromeda5_lowrad'], dtype='<U17'), array([3.e+27, 1.e+28, 3.e+28, 8.e+28, 3.e+27, 1.e+28, 3.e+28, 8.e+28])]\n"
     ]
    }
   ],
   "source": [
    "print(outvars)"
   ]
  },
  {
   "cell_type": "code",
   "execution_count": 248,
   "id": "a01b7638",
   "metadata": {},
   "outputs": [
    {
     "data": {
      "image/png": "[encoded data removed]",
      "text/plain": [
       "<Figure size 432x288 with 1 Axes>"
      ]
     },
     "metadata": {
      "needs_background": "light"
     },
     "output_type": "display_data"
    }
   ],
   "source": [
    "N0 = int((N-1)/2)\n",
    "n0 = int((n-1)/2)\n",
    "c = ['k', 'g', 'r', 'b']\n",
    "for i in range(len(D0)-2):\n",
    "    plt.plot(DA*AX_N[n0, N0:], signal_temps[0, i, n0, N0:], label=str(D0[i]), linestyle='-', color=c[i])\n",
    "    plt.plot(DA*AX_N[n0, N0:], signal_temps[1, i, n0, N0:], linestyle='--', color=c[i])\n",
    "plt.axvline(x=0.93, color='r')\n",
    "plt.yscale('log')\n",
    "plt.xlabel(r'$x \\, \\rm(kpc)$', size=16)\n",
    "plt.ylabel(r'$\\frac{dS}{d\\nu} \\, \\rm (mJy/beam)$', size=16)\n",
    "plt.title(r'Comparison of Radiation Models', size=18)\n",
    "plt.xlim([0, DA*AX_N[n0, -1]])\n",
    "plt.legend(frameon=False)\n",
    "plt.savefig(base_path + 'figs/compare_rad_models.pdf' )"
   ]
  },
  {
   "cell_type": "code",
   "execution_count": 110,
   "id": "6d2611f2",
   "metadata": {},
   "outputs": [
    {
     "name": "stdout",
     "output_type": "stream",
     "text": [
      "[[[0. 0. 0. 0. 0.]\n",
      "  [0. 0. 0. 0. 0.]\n",
      "  [0. 0. 0. 0. 0.]\n",
      "  [0. 0. 0. 0. 0.]]\n",
      "\n",
      " [[1. 1. 1. 1. 1.]\n",
      "  [1. 1. 1. 1. 1.]\n",
      "  [1. 1. 1. 1. 1.]\n",
      "  [1. 1. 1. 1. 1.]]\n",
      "\n",
      " [[2. 2. 2. 2. 2.]\n",
      "  [2. 2. 2. 2. 2.]\n",
      "  [2. 2. 2. 2. 2.]\n",
      "  [2. 2. 2. 2. 2.]]\n",
      "\n",
      " [[3. 3. 3. 3. 3.]\n",
      "  [3. 3. 3. 3. 3.]\n",
      "  [3. 3. 3. 3. 3.]\n",
      "  [3. 3. 3. 3. 3.]]\n",
      "\n",
      " [[4. 4. 4. 4. 4.]\n",
      "  [4. 4. 4. 4. 4.]\n",
      "  [4. 4. 4. 4. 4.]\n",
      "  [4. 4. 4. 4. 4.]]\n",
      "\n",
      " [[5. 5. 5. 5. 5.]\n",
      "  [5. 5. 5. 5. 5.]\n",
      "  [5. 5. 5. 5. 5.]\n",
      "  [5. 5. 5. 5. 5.]]]\n",
      "[[5. 5. 5. 5. 5.]\n",
      " [5. 5. 5. 5. 5.]\n",
      " [5. 5. 5. 5. 5.]\n",
      " [5. 5. 5. 5. 5.]]\n"
     ]
    },
    {
     "data": {
      "text/plain": [
       "array([[[[[0., 0., 0., 0., 0.],\n",
       "          [0., 0., 0., 0., 0.],\n",
       "          [0., 0., 0., 0., 0.],\n",
       "          [0., 0., 0., 0., 0.]],\n",
       "\n",
       "         [[1., 1., 1., 1., 1.],\n",
       "          [1., 1., 1., 1., 1.],\n",
       "          [1., 1., 1., 1., 1.],\n",
       "          [1., 1., 1., 1., 1.]],\n",
       "\n",
       "         [[2., 2., 2., 2., 2.],\n",
       "          [2., 2., 2., 2., 2.],\n",
       "          [2., 2., 2., 2., 2.],\n",
       "          [2., 2., 2., 2., 2.]]],\n",
       "\n",
       "\n",
       "        [[[3., 3., 3., 3., 3.],\n",
       "          [3., 3., 3., 3., 3.],\n",
       "          [3., 3., 3., 3., 3.],\n",
       "          [3., 3., 3., 3., 3.]],\n",
       "\n",
       "         [[4., 4., 4., 4., 4.],\n",
       "          [4., 4., 4., 4., 4.],\n",
       "          [4., 4., 4., 4., 4.],\n",
       "          [4., 4., 4., 4., 4.]],\n",
       "\n",
       "         [[5., 5., 5., 5., 5.],\n",
       "          [5., 5., 5., 5., 5.],\n",
       "          [5., 5., 5., 5., 5.],\n",
       "          [5., 5., 5., 5., 5.]]]]])"
      ]
     },
     "execution_count": 110,
     "metadata": {},
     "output_type": "execute_result"
    }
   ],
   "source": [
    "base = np.ones((4,5))\n",
    "arr = np.array([i*base for i in range(6)])\n",
    "print(arr)\n",
    "new_arr = arr.reshape((1, 2, 3, 4, 5))\n",
    "print(new_arr[0, 1, 2])\n",
    "new_arr/np.ones((4,5))"
   ]
  },
  {
   "cell_type": "code",
   "execution_count": 168,
   "id": "6a19a7f1",
   "metadata": {},
   "outputs": [
    {
     "name": "stdout",
     "output_type": "stream",
     "text": [
      "160.0\n"
     ]
    }
   ],
   "source": [
    "x = 156\n",
    "num_dig = np.floor(np.log10(x))+1\n",
    "y = x/10**num_dig\n",
    "y = np.round(y, 2)\n",
    "res = y*10**num_dig\n",
    "print(res)"
   ]
  },
  {
   "cell_type": "code",
   "execution_count": null,
   "id": "319fd477",
   "metadata": {},
   "outputs": [],
   "source": []
  }
 ],
 "metadata": {
  "kernelspec": {
   "display_name": "Python 3",
   "language": "python",
   "name": "python3"
  },
  "language_info": {
   "codemirror_mode": {
    "name": "ipython",
    "version": 3
   },
   "file_extension": ".py",
   "mimetype": "text/x-python",
   "name": "python",
   "nbconvert_exporter": "python",
   "pygments_lexer": "ipython3",
   "version": "3.7.10"
  }
 },
 "nbformat": 4,
 "nbformat_minor": 5
}
